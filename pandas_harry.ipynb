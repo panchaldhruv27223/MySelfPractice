{
 "cells": [
  {
   "cell_type": "markdown",
   "id": "1cb03441",
   "metadata": {},
   "source": [
    "# hello dhruv panchal its pandas\n"
   ]
  },
  {
   "cell_type": "code",
   "execution_count": 2,
   "id": "68ba185f",
   "metadata": {},
   "outputs": [],
   "source": [
    "import numpy as np\n",
    "import pandas as pd"
   ]
  },
  {
   "cell_type": "code",
   "execution_count": 2,
   "id": "529fcac9",
   "metadata": {},
   "outputs": [
    {
     "data": {
      "text/plain": [
       "{'name': ['dhruv', 'pravin', 'chintan', 'karan'],\n",
       " 'age': [15, 17, 14, 18],\n",
       " 'work': ['it engineer', 'c.a', 'ips', 'c.a']}"
      ]
     },
     "execution_count": 2,
     "metadata": {},
     "output_type": "execute_result"
    }
   ],
   "source": [
    "dic1 = {\n",
    "    \"name\": [\"dhruv\",\"pravin\",\"chintan\",\"karan\"],\n",
    "    \"age\" : [15,17,14,18],\n",
    "    \"work\": [\"it engineer\",\"c.a\",\"ips\",\"c.a\"]\n",
    "}\n",
    "dic1"
   ]
  },
  {
   "cell_type": "code",
   "execution_count": 3,
   "id": "54c404b5",
   "metadata": {},
   "outputs": [],
   "source": [
    "df = pd.DataFrame(dic1)"
   ]
  },
  {
   "cell_type": "code",
   "execution_count": 4,
   "id": "e4b33eb2",
   "metadata": {},
   "outputs": [
    {
     "data": {
      "text/html": [
       "<div>\n",
       "<style scoped>\n",
       "    .dataframe tbody tr th:only-of-type {\n",
       "        vertical-align: middle;\n",
       "    }\n",
       "\n",
       "    .dataframe tbody tr th {\n",
       "        vertical-align: top;\n",
       "    }\n",
       "\n",
       "    .dataframe thead th {\n",
       "        text-align: right;\n",
       "    }\n",
       "</style>\n",
       "<table border=\"1\" class=\"dataframe\">\n",
       "  <thead>\n",
       "    <tr style=\"text-align: right;\">\n",
       "      <th></th>\n",
       "      <th>name</th>\n",
       "      <th>age</th>\n",
       "      <th>work</th>\n",
       "    </tr>\n",
       "  </thead>\n",
       "  <tbody>\n",
       "    <tr>\n",
       "      <th>0</th>\n",
       "      <td>dhruv</td>\n",
       "      <td>15</td>\n",
       "      <td>it engineer</td>\n",
       "    </tr>\n",
       "    <tr>\n",
       "      <th>1</th>\n",
       "      <td>pravin</td>\n",
       "      <td>17</td>\n",
       "      <td>c.a</td>\n",
       "    </tr>\n",
       "    <tr>\n",
       "      <th>2</th>\n",
       "      <td>chintan</td>\n",
       "      <td>14</td>\n",
       "      <td>ips</td>\n",
       "    </tr>\n",
       "    <tr>\n",
       "      <th>3</th>\n",
       "      <td>karan</td>\n",
       "      <td>18</td>\n",
       "      <td>c.a</td>\n",
       "    </tr>\n",
       "  </tbody>\n",
       "</table>\n",
       "</div>"
      ],
      "text/plain": [
       "      name  age         work\n",
       "0    dhruv   15  it engineer\n",
       "1   pravin   17          c.a\n",
       "2  chintan   14          ips\n",
       "3    karan   18          c.a"
      ]
     },
     "execution_count": 4,
     "metadata": {},
     "output_type": "execute_result"
    }
   ],
   "source": [
    "df\n"
   ]
  },
  {
   "cell_type": "code",
   "execution_count": 5,
   "id": "66b4b064",
   "metadata": {},
   "outputs": [],
   "source": [
    "df.to_csv(\"friend.csv\")"
   ]
  },
  {
   "cell_type": "code",
   "execution_count": 6,
   "id": "9b8ef7af",
   "metadata": {},
   "outputs": [],
   "source": [
    "df.to_csv(\"friend_index.csv\" ,index=False)"
   ]
  },
  {
   "cell_type": "code",
   "execution_count": 7,
   "id": "7ceccc02",
   "metadata": {},
   "outputs": [
    {
     "data": {
      "text/html": [
       "<div>\n",
       "<style scoped>\n",
       "    .dataframe tbody tr th:only-of-type {\n",
       "        vertical-align: middle;\n",
       "    }\n",
       "\n",
       "    .dataframe tbody tr th {\n",
       "        vertical-align: top;\n",
       "    }\n",
       "\n",
       "    .dataframe thead th {\n",
       "        text-align: right;\n",
       "    }\n",
       "</style>\n",
       "<table border=\"1\" class=\"dataframe\">\n",
       "  <thead>\n",
       "    <tr style=\"text-align: right;\">\n",
       "      <th></th>\n",
       "      <th>name</th>\n",
       "      <th>age</th>\n",
       "      <th>work</th>\n",
       "    </tr>\n",
       "  </thead>\n",
       "  <tbody>\n",
       "    <tr>\n",
       "      <th>0</th>\n",
       "      <td>dhruv</td>\n",
       "      <td>15</td>\n",
       "      <td>it engineer</td>\n",
       "    </tr>\n",
       "    <tr>\n",
       "      <th>1</th>\n",
       "      <td>pravin</td>\n",
       "      <td>17</td>\n",
       "      <td>c.a</td>\n",
       "    </tr>\n",
       "  </tbody>\n",
       "</table>\n",
       "</div>"
      ],
      "text/plain": [
       "     name  age         work\n",
       "0   dhruv   15  it engineer\n",
       "1  pravin   17          c.a"
      ]
     },
     "execution_count": 7,
     "metadata": {},
     "output_type": "execute_result"
    }
   ],
   "source": [
    "df.head(2)\n"
   ]
  },
  {
   "cell_type": "code",
   "execution_count": 8,
   "id": "276128a7",
   "metadata": {},
   "outputs": [
    {
     "data": {
      "text/html": [
       "<div>\n",
       "<style scoped>\n",
       "    .dataframe tbody tr th:only-of-type {\n",
       "        vertical-align: middle;\n",
       "    }\n",
       "\n",
       "    .dataframe tbody tr th {\n",
       "        vertical-align: top;\n",
       "    }\n",
       "\n",
       "    .dataframe thead th {\n",
       "        text-align: right;\n",
       "    }\n",
       "</style>\n",
       "<table border=\"1\" class=\"dataframe\">\n",
       "  <thead>\n",
       "    <tr style=\"text-align: right;\">\n",
       "      <th></th>\n",
       "      <th>name</th>\n",
       "      <th>age</th>\n",
       "      <th>work</th>\n",
       "    </tr>\n",
       "  </thead>\n",
       "  <tbody>\n",
       "    <tr>\n",
       "      <th>2</th>\n",
       "      <td>chintan</td>\n",
       "      <td>14</td>\n",
       "      <td>ips</td>\n",
       "    </tr>\n",
       "    <tr>\n",
       "      <th>3</th>\n",
       "      <td>karan</td>\n",
       "      <td>18</td>\n",
       "      <td>c.a</td>\n",
       "    </tr>\n",
       "  </tbody>\n",
       "</table>\n",
       "</div>"
      ],
      "text/plain": [
       "      name  age work\n",
       "2  chintan   14  ips\n",
       "3    karan   18  c.a"
      ]
     },
     "execution_count": 8,
     "metadata": {},
     "output_type": "execute_result"
    }
   ],
   "source": [
    "df.tail(2)"
   ]
  },
  {
   "cell_type": "code",
   "execution_count": 9,
   "id": "f3488d2e",
   "metadata": {},
   "outputs": [
    {
     "data": {
      "text/html": [
       "<div>\n",
       "<style scoped>\n",
       "    .dataframe tbody tr th:only-of-type {\n",
       "        vertical-align: middle;\n",
       "    }\n",
       "\n",
       "    .dataframe tbody tr th {\n",
       "        vertical-align: top;\n",
       "    }\n",
       "\n",
       "    .dataframe thead th {\n",
       "        text-align: right;\n",
       "    }\n",
       "</style>\n",
       "<table border=\"1\" class=\"dataframe\">\n",
       "  <thead>\n",
       "    <tr style=\"text-align: right;\">\n",
       "      <th></th>\n",
       "      <th>age</th>\n",
       "    </tr>\n",
       "  </thead>\n",
       "  <tbody>\n",
       "    <tr>\n",
       "      <th>count</th>\n",
       "      <td>4.000000</td>\n",
       "    </tr>\n",
       "    <tr>\n",
       "      <th>mean</th>\n",
       "      <td>16.000000</td>\n",
       "    </tr>\n",
       "    <tr>\n",
       "      <th>std</th>\n",
       "      <td>1.825742</td>\n",
       "    </tr>\n",
       "    <tr>\n",
       "      <th>min</th>\n",
       "      <td>14.000000</td>\n",
       "    </tr>\n",
       "    <tr>\n",
       "      <th>25%</th>\n",
       "      <td>14.750000</td>\n",
       "    </tr>\n",
       "    <tr>\n",
       "      <th>50%</th>\n",
       "      <td>16.000000</td>\n",
       "    </tr>\n",
       "    <tr>\n",
       "      <th>75%</th>\n",
       "      <td>17.250000</td>\n",
       "    </tr>\n",
       "    <tr>\n",
       "      <th>max</th>\n",
       "      <td>18.000000</td>\n",
       "    </tr>\n",
       "  </tbody>\n",
       "</table>\n",
       "</div>"
      ],
      "text/plain": [
       "             age\n",
       "count   4.000000\n",
       "mean   16.000000\n",
       "std     1.825742\n",
       "min    14.000000\n",
       "25%    14.750000\n",
       "50%    16.000000\n",
       "75%    17.250000\n",
       "max    18.000000"
      ]
     },
     "execution_count": 9,
     "metadata": {},
     "output_type": "execute_result"
    }
   ],
   "source": [
    "df.describe()"
   ]
  },
  {
   "cell_type": "raw",
   "id": "21a40690",
   "metadata": {},
   "source": [
    "pd.read_csv\n",
    "\n",
    "to_csv()\n",
    "\n",
    ".index\n",
    "\n",
    "loc \n",
    "\n",
    "iloc\n"
   ]
  },
  {
   "cell_type": "code",
   "execution_count": 15,
   "id": "0ebf98f3",
   "metadata": {},
   "outputs": [],
   "source": [
    "scr = pd.Series(np.random.rand(20))"
   ]
  },
  {
   "cell_type": "code",
   "execution_count": 16,
   "id": "70586f1e",
   "metadata": {},
   "outputs": [
    {
     "data": {
      "text/plain": [
       "pandas.core.series.Series"
      ]
     },
     "execution_count": 16,
     "metadata": {},
     "output_type": "execute_result"
    }
   ],
   "source": [
    "type(scr)"
   ]
  },
  {
   "cell_type": "code",
   "execution_count": 17,
   "id": "26b89bbc",
   "metadata": {},
   "outputs": [
    {
     "data": {
      "text/plain": [
       "0     0.942971\n",
       "1     0.008624\n",
       "2     0.219856\n",
       "3     0.496775\n",
       "4     0.652885\n",
       "5     0.393664\n",
       "6     0.077476\n",
       "7     0.722573\n",
       "8     0.542919\n",
       "9     0.611930\n",
       "10    0.249414\n",
       "11    0.748874\n",
       "12    0.205448\n",
       "13    0.587828\n",
       "14    0.263190\n",
       "15    0.131049\n",
       "16    0.760614\n",
       "17    0.595939\n",
       "18    0.897539\n",
       "19    0.378656\n",
       "dtype: float64"
      ]
     },
     "execution_count": 17,
     "metadata": {},
     "output_type": "execute_result"
    }
   ],
   "source": [
    "scr"
   ]
  },
  {
   "cell_type": "code",
   "execution_count": 3,
   "id": "a337249f",
   "metadata": {},
   "outputs": [],
   "source": [
    "newdf = pd.DataFrame(np.random.rand(334,5),index=np.arange(334))"
   ]
  },
  {
   "cell_type": "code",
   "execution_count": 6,
   "id": "050cf647",
   "metadata": {},
   "outputs": [
    {
     "data": {
      "text/html": [
       "<div>\n",
       "<style scoped>\n",
       "    .dataframe tbody tr th:only-of-type {\n",
       "        vertical-align: middle;\n",
       "    }\n",
       "\n",
       "    .dataframe tbody tr th {\n",
       "        vertical-align: top;\n",
       "    }\n",
       "\n",
       "    .dataframe thead th {\n",
       "        text-align: right;\n",
       "    }\n",
       "</style>\n",
       "<table border=\"1\" class=\"dataframe\">\n",
       "  <thead>\n",
       "    <tr style=\"text-align: right;\">\n",
       "      <th></th>\n",
       "      <th>0</th>\n",
       "      <th>1</th>\n",
       "      <th>2</th>\n",
       "      <th>3</th>\n",
       "      <th>4</th>\n",
       "    </tr>\n",
       "  </thead>\n",
       "  <tbody>\n",
       "    <tr>\n",
       "      <th>0</th>\n",
       "      <td>0.791900</td>\n",
       "      <td>0.362304</td>\n",
       "      <td>0.102699</td>\n",
       "      <td>0.694570</td>\n",
       "      <td>0.067786</td>\n",
       "    </tr>\n",
       "    <tr>\n",
       "      <th>1</th>\n",
       "      <td>0.325216</td>\n",
       "      <td>0.772830</td>\n",
       "      <td>0.567905</td>\n",
       "      <td>0.516477</td>\n",
       "      <td>0.754782</td>\n",
       "    </tr>\n",
       "    <tr>\n",
       "      <th>2</th>\n",
       "      <td>0.723062</td>\n",
       "      <td>0.528047</td>\n",
       "      <td>0.115898</td>\n",
       "      <td>0.140173</td>\n",
       "      <td>0.267369</td>\n",
       "    </tr>\n",
       "    <tr>\n",
       "      <th>3</th>\n",
       "      <td>0.291336</td>\n",
       "      <td>0.845692</td>\n",
       "      <td>0.759160</td>\n",
       "      <td>0.577017</td>\n",
       "      <td>0.201439</td>\n",
       "    </tr>\n",
       "    <tr>\n",
       "      <th>4</th>\n",
       "      <td>0.413158</td>\n",
       "      <td>0.536657</td>\n",
       "      <td>0.521336</td>\n",
       "      <td>0.210386</td>\n",
       "      <td>0.873339</td>\n",
       "    </tr>\n",
       "    <tr>\n",
       "      <th>...</th>\n",
       "      <td>...</td>\n",
       "      <td>...</td>\n",
       "      <td>...</td>\n",
       "      <td>...</td>\n",
       "      <td>...</td>\n",
       "    </tr>\n",
       "    <tr>\n",
       "      <th>329</th>\n",
       "      <td>0.765044</td>\n",
       "      <td>0.678833</td>\n",
       "      <td>0.077451</td>\n",
       "      <td>0.319154</td>\n",
       "      <td>0.076277</td>\n",
       "    </tr>\n",
       "    <tr>\n",
       "      <th>330</th>\n",
       "      <td>0.807484</td>\n",
       "      <td>0.697066</td>\n",
       "      <td>0.529902</td>\n",
       "      <td>0.464503</td>\n",
       "      <td>0.238483</td>\n",
       "    </tr>\n",
       "    <tr>\n",
       "      <th>331</th>\n",
       "      <td>0.995829</td>\n",
       "      <td>0.697474</td>\n",
       "      <td>0.808878</td>\n",
       "      <td>0.312633</td>\n",
       "      <td>0.969458</td>\n",
       "    </tr>\n",
       "    <tr>\n",
       "      <th>332</th>\n",
       "      <td>0.268094</td>\n",
       "      <td>0.356415</td>\n",
       "      <td>0.635099</td>\n",
       "      <td>0.834819</td>\n",
       "      <td>0.521124</td>\n",
       "    </tr>\n",
       "    <tr>\n",
       "      <th>333</th>\n",
       "      <td>0.231593</td>\n",
       "      <td>0.062113</td>\n",
       "      <td>0.157689</td>\n",
       "      <td>0.492483</td>\n",
       "      <td>0.885649</td>\n",
       "    </tr>\n",
       "  </tbody>\n",
       "</table>\n",
       "<p>334 rows × 5 columns</p>\n",
       "</div>"
      ],
      "text/plain": [
       "            0         1         2         3         4\n",
       "0    0.791900  0.362304  0.102699  0.694570  0.067786\n",
       "1    0.325216  0.772830  0.567905  0.516477  0.754782\n",
       "2    0.723062  0.528047  0.115898  0.140173  0.267369\n",
       "3    0.291336  0.845692  0.759160  0.577017  0.201439\n",
       "4    0.413158  0.536657  0.521336  0.210386  0.873339\n",
       "..        ...       ...       ...       ...       ...\n",
       "329  0.765044  0.678833  0.077451  0.319154  0.076277\n",
       "330  0.807484  0.697066  0.529902  0.464503  0.238483\n",
       "331  0.995829  0.697474  0.808878  0.312633  0.969458\n",
       "332  0.268094  0.356415  0.635099  0.834819  0.521124\n",
       "333  0.231593  0.062113  0.157689  0.492483  0.885649\n",
       "\n",
       "[334 rows x 5 columns]"
      ]
     },
     "execution_count": 6,
     "metadata": {},
     "output_type": "execute_result"
    }
   ],
   "source": [
    "newdf"
   ]
  },
  {
   "cell_type": "code",
   "execution_count": 20,
   "id": "d70dea45",
   "metadata": {},
   "outputs": [
    {
     "data": {
      "text/html": [
       "<div>\n",
       "<style scoped>\n",
       "    .dataframe tbody tr th:only-of-type {\n",
       "        vertical-align: middle;\n",
       "    }\n",
       "\n",
       "    .dataframe tbody tr th {\n",
       "        vertical-align: top;\n",
       "    }\n",
       "\n",
       "    .dataframe thead th {\n",
       "        text-align: right;\n",
       "    }\n",
       "</style>\n",
       "<table border=\"1\" class=\"dataframe\">\n",
       "  <thead>\n",
       "    <tr style=\"text-align: right;\">\n",
       "      <th></th>\n",
       "      <th>0</th>\n",
       "      <th>1</th>\n",
       "      <th>2</th>\n",
       "      <th>3</th>\n",
       "      <th>4</th>\n",
       "    </tr>\n",
       "  </thead>\n",
       "  <tbody>\n",
       "    <tr>\n",
       "      <th>0</th>\n",
       "      <td>0.353408</td>\n",
       "      <td>0.022837</td>\n",
       "      <td>0.046297</td>\n",
       "      <td>0.770105</td>\n",
       "      <td>0.730972</td>\n",
       "    </tr>\n",
       "    <tr>\n",
       "      <th>1</th>\n",
       "      <td>0.550071</td>\n",
       "      <td>0.710912</td>\n",
       "      <td>0.967879</td>\n",
       "      <td>0.835901</td>\n",
       "      <td>0.301165</td>\n",
       "    </tr>\n",
       "    <tr>\n",
       "      <th>2</th>\n",
       "      <td>0.912403</td>\n",
       "      <td>0.326307</td>\n",
       "      <td>0.496282</td>\n",
       "      <td>0.717827</td>\n",
       "      <td>0.437069</td>\n",
       "    </tr>\n",
       "    <tr>\n",
       "      <th>3</th>\n",
       "      <td>0.717718</td>\n",
       "      <td>0.031644</td>\n",
       "      <td>0.243032</td>\n",
       "      <td>0.341656</td>\n",
       "      <td>0.066220</td>\n",
       "    </tr>\n",
       "    <tr>\n",
       "      <th>4</th>\n",
       "      <td>0.058916</td>\n",
       "      <td>0.417817</td>\n",
       "      <td>0.609019</td>\n",
       "      <td>0.892734</td>\n",
       "      <td>0.505229</td>\n",
       "    </tr>\n",
       "    <tr>\n",
       "      <th>...</th>\n",
       "      <td>...</td>\n",
       "      <td>...</td>\n",
       "      <td>...</td>\n",
       "      <td>...</td>\n",
       "      <td>...</td>\n",
       "    </tr>\n",
       "    <tr>\n",
       "      <th>329</th>\n",
       "      <td>0.076874</td>\n",
       "      <td>0.878803</td>\n",
       "      <td>0.444928</td>\n",
       "      <td>0.209214</td>\n",
       "      <td>0.743770</td>\n",
       "    </tr>\n",
       "    <tr>\n",
       "      <th>330</th>\n",
       "      <td>0.464702</td>\n",
       "      <td>0.171053</td>\n",
       "      <td>0.552225</td>\n",
       "      <td>0.961123</td>\n",
       "      <td>0.046009</td>\n",
       "    </tr>\n",
       "    <tr>\n",
       "      <th>331</th>\n",
       "      <td>0.507099</td>\n",
       "      <td>0.731824</td>\n",
       "      <td>0.145087</td>\n",
       "      <td>0.205550</td>\n",
       "      <td>0.841249</td>\n",
       "    </tr>\n",
       "    <tr>\n",
       "      <th>332</th>\n",
       "      <td>0.072293</td>\n",
       "      <td>0.103271</td>\n",
       "      <td>0.775265</td>\n",
       "      <td>0.238348</td>\n",
       "      <td>0.102994</td>\n",
       "    </tr>\n",
       "    <tr>\n",
       "      <th>333</th>\n",
       "      <td>0.040855</td>\n",
       "      <td>0.529082</td>\n",
       "      <td>0.111757</td>\n",
       "      <td>0.368607</td>\n",
       "      <td>0.539036</td>\n",
       "    </tr>\n",
       "  </tbody>\n",
       "</table>\n",
       "<p>334 rows × 5 columns</p>\n",
       "</div>"
      ],
      "text/plain": [
       "            0         1         2         3         4\n",
       "0    0.353408  0.022837  0.046297  0.770105  0.730972\n",
       "1    0.550071  0.710912  0.967879  0.835901  0.301165\n",
       "2    0.912403  0.326307  0.496282  0.717827  0.437069\n",
       "3    0.717718  0.031644  0.243032  0.341656  0.066220\n",
       "4    0.058916  0.417817  0.609019  0.892734  0.505229\n",
       "..        ...       ...       ...       ...       ...\n",
       "329  0.076874  0.878803  0.444928  0.209214  0.743770\n",
       "330  0.464702  0.171053  0.552225  0.961123  0.046009\n",
       "331  0.507099  0.731824  0.145087  0.205550  0.841249\n",
       "332  0.072293  0.103271  0.775265  0.238348  0.102994\n",
       "333  0.040855  0.529082  0.111757  0.368607  0.539036\n",
       "\n",
       "[334 rows x 5 columns]"
      ]
     },
     "execution_count": 20,
     "metadata": {},
     "output_type": "execute_result"
    }
   ],
   "source": [
    "newdf"
   ]
  },
  {
   "cell_type": "code",
   "execution_count": 21,
   "id": "b59c186c",
   "metadata": {},
   "outputs": [
    {
     "data": {
      "text/plain": [
       "pandas.core.frame.DataFrame"
      ]
     },
     "execution_count": 21,
     "metadata": {},
     "output_type": "execute_result"
    }
   ],
   "source": [
    "type(newdf)"
   ]
  },
  {
   "cell_type": "code",
   "execution_count": 22,
   "id": "4d08b55f",
   "metadata": {},
   "outputs": [
    {
     "data": {
      "text/html": [
       "<div>\n",
       "<style scoped>\n",
       "    .dataframe tbody tr th:only-of-type {\n",
       "        vertical-align: middle;\n",
       "    }\n",
       "\n",
       "    .dataframe tbody tr th {\n",
       "        vertical-align: top;\n",
       "    }\n",
       "\n",
       "    .dataframe thead th {\n",
       "        text-align: right;\n",
       "    }\n",
       "</style>\n",
       "<table border=\"1\" class=\"dataframe\">\n",
       "  <thead>\n",
       "    <tr style=\"text-align: right;\">\n",
       "      <th></th>\n",
       "      <th>0</th>\n",
       "      <th>1</th>\n",
       "      <th>2</th>\n",
       "      <th>3</th>\n",
       "      <th>4</th>\n",
       "    </tr>\n",
       "  </thead>\n",
       "  <tbody>\n",
       "    <tr>\n",
       "      <th>count</th>\n",
       "      <td>334.000000</td>\n",
       "      <td>334.000000</td>\n",
       "      <td>334.000000</td>\n",
       "      <td>334.000000</td>\n",
       "      <td>334.000000</td>\n",
       "    </tr>\n",
       "    <tr>\n",
       "      <th>mean</th>\n",
       "      <td>0.485570</td>\n",
       "      <td>0.484071</td>\n",
       "      <td>0.508291</td>\n",
       "      <td>0.504063</td>\n",
       "      <td>0.521135</td>\n",
       "    </tr>\n",
       "    <tr>\n",
       "      <th>std</th>\n",
       "      <td>0.287340</td>\n",
       "      <td>0.287454</td>\n",
       "      <td>0.288065</td>\n",
       "      <td>0.284388</td>\n",
       "      <td>0.276115</td>\n",
       "    </tr>\n",
       "    <tr>\n",
       "      <th>min</th>\n",
       "      <td>0.002636</td>\n",
       "      <td>0.001116</td>\n",
       "      <td>0.008934</td>\n",
       "      <td>0.002831</td>\n",
       "      <td>0.002860</td>\n",
       "    </tr>\n",
       "    <tr>\n",
       "      <th>25%</th>\n",
       "      <td>0.239837</td>\n",
       "      <td>0.250353</td>\n",
       "      <td>0.243591</td>\n",
       "      <td>0.264191</td>\n",
       "      <td>0.296660</td>\n",
       "    </tr>\n",
       "    <tr>\n",
       "      <th>50%</th>\n",
       "      <td>0.487380</td>\n",
       "      <td>0.476638</td>\n",
       "      <td>0.529580</td>\n",
       "      <td>0.495248</td>\n",
       "      <td>0.542400</td>\n",
       "    </tr>\n",
       "    <tr>\n",
       "      <th>75%</th>\n",
       "      <td>0.719749</td>\n",
       "      <td>0.736001</td>\n",
       "      <td>0.763034</td>\n",
       "      <td>0.749058</td>\n",
       "      <td>0.742951</td>\n",
       "    </tr>\n",
       "    <tr>\n",
       "      <th>max</th>\n",
       "      <td>0.993798</td>\n",
       "      <td>0.997590</td>\n",
       "      <td>0.991749</td>\n",
       "      <td>0.993065</td>\n",
       "      <td>0.997457</td>\n",
       "    </tr>\n",
       "  </tbody>\n",
       "</table>\n",
       "</div>"
      ],
      "text/plain": [
       "                0           1           2           3           4\n",
       "count  334.000000  334.000000  334.000000  334.000000  334.000000\n",
       "mean     0.485570    0.484071    0.508291    0.504063    0.521135\n",
       "std      0.287340    0.287454    0.288065    0.284388    0.276115\n",
       "min      0.002636    0.001116    0.008934    0.002831    0.002860\n",
       "25%      0.239837    0.250353    0.243591    0.264191    0.296660\n",
       "50%      0.487380    0.476638    0.529580    0.495248    0.542400\n",
       "75%      0.719749    0.736001    0.763034    0.749058    0.742951\n",
       "max      0.993798    0.997590    0.991749    0.993065    0.997457"
      ]
     },
     "execution_count": 22,
     "metadata": {},
     "output_type": "execute_result"
    }
   ],
   "source": [
    "newdf.describe()"
   ]
  },
  {
   "cell_type": "code",
   "execution_count": 25,
   "id": "1f8167a9",
   "metadata": {},
   "outputs": [
    {
     "data": {
      "text/plain": [
       "0    float64\n",
       "1    float64\n",
       "2    float64\n",
       "3    float64\n",
       "4    float64\n",
       "dtype: object"
      ]
     },
     "execution_count": 25,
     "metadata": {},
     "output_type": "execute_result"
    }
   ],
   "source": [
    "newdf.dtypes"
   ]
  },
  {
   "cell_type": "code",
   "execution_count": 26,
   "id": "7641b2e8",
   "metadata": {},
   "outputs": [
    {
     "data": {
      "text/plain": [
       "0      0.353408\n",
       "1      0.550071\n",
       "2      0.912403\n",
       "3      0.717718\n",
       "4      0.058916\n",
       "         ...   \n",
       "329    0.076874\n",
       "330    0.464702\n",
       "331    0.507099\n",
       "332    0.072293\n",
       "333    0.040855\n",
       "Name: 0, Length: 334, dtype: float64"
      ]
     },
     "execution_count": 26,
     "metadata": {},
     "output_type": "execute_result"
    }
   ],
   "source": [
    "newdf[0]"
   ]
  },
  {
   "cell_type": "code",
   "execution_count": 27,
   "id": "84331c60",
   "metadata": {},
   "outputs": [
    {
     "data": {
      "text/plain": [
       "0    float64\n",
       "1    float64\n",
       "2    float64\n",
       "3    float64\n",
       "4    float64\n",
       "dtype: object"
      ]
     },
     "execution_count": 27,
     "metadata": {},
     "output_type": "execute_result"
    }
   ],
   "source": [
    "newdf.dtypes"
   ]
  },
  {
   "cell_type": "code",
   "execution_count": 28,
   "id": "504d3129",
   "metadata": {},
   "outputs": [],
   "source": [
    "newdf[0][0] = \"Dhruv\""
   ]
  },
  {
   "cell_type": "code",
   "execution_count": 29,
   "id": "173d092b",
   "metadata": {},
   "outputs": [
    {
     "data": {
      "text/html": [
       "<div>\n",
       "<style scoped>\n",
       "    .dataframe tbody tr th:only-of-type {\n",
       "        vertical-align: middle;\n",
       "    }\n",
       "\n",
       "    .dataframe tbody tr th {\n",
       "        vertical-align: top;\n",
       "    }\n",
       "\n",
       "    .dataframe thead th {\n",
       "        text-align: right;\n",
       "    }\n",
       "</style>\n",
       "<table border=\"1\" class=\"dataframe\">\n",
       "  <thead>\n",
       "    <tr style=\"text-align: right;\">\n",
       "      <th></th>\n",
       "      <th>0</th>\n",
       "      <th>1</th>\n",
       "      <th>2</th>\n",
       "      <th>3</th>\n",
       "      <th>4</th>\n",
       "    </tr>\n",
       "  </thead>\n",
       "  <tbody>\n",
       "    <tr>\n",
       "      <th>0</th>\n",
       "      <td>Dhruv</td>\n",
       "      <td>0.022837</td>\n",
       "      <td>0.046297</td>\n",
       "      <td>0.770105</td>\n",
       "      <td>0.730972</td>\n",
       "    </tr>\n",
       "    <tr>\n",
       "      <th>1</th>\n",
       "      <td>0.550071</td>\n",
       "      <td>0.710912</td>\n",
       "      <td>0.967879</td>\n",
       "      <td>0.835901</td>\n",
       "      <td>0.301165</td>\n",
       "    </tr>\n",
       "    <tr>\n",
       "      <th>2</th>\n",
       "      <td>0.912403</td>\n",
       "      <td>0.326307</td>\n",
       "      <td>0.496282</td>\n",
       "      <td>0.717827</td>\n",
       "      <td>0.437069</td>\n",
       "    </tr>\n",
       "    <tr>\n",
       "      <th>3</th>\n",
       "      <td>0.717718</td>\n",
       "      <td>0.031644</td>\n",
       "      <td>0.243032</td>\n",
       "      <td>0.341656</td>\n",
       "      <td>0.066220</td>\n",
       "    </tr>\n",
       "    <tr>\n",
       "      <th>4</th>\n",
       "      <td>0.058916</td>\n",
       "      <td>0.417817</td>\n",
       "      <td>0.609019</td>\n",
       "      <td>0.892734</td>\n",
       "      <td>0.505229</td>\n",
       "    </tr>\n",
       "    <tr>\n",
       "      <th>...</th>\n",
       "      <td>...</td>\n",
       "      <td>...</td>\n",
       "      <td>...</td>\n",
       "      <td>...</td>\n",
       "      <td>...</td>\n",
       "    </tr>\n",
       "    <tr>\n",
       "      <th>329</th>\n",
       "      <td>0.076874</td>\n",
       "      <td>0.878803</td>\n",
       "      <td>0.444928</td>\n",
       "      <td>0.209214</td>\n",
       "      <td>0.743770</td>\n",
       "    </tr>\n",
       "    <tr>\n",
       "      <th>330</th>\n",
       "      <td>0.464702</td>\n",
       "      <td>0.171053</td>\n",
       "      <td>0.552225</td>\n",
       "      <td>0.961123</td>\n",
       "      <td>0.046009</td>\n",
       "    </tr>\n",
       "    <tr>\n",
       "      <th>331</th>\n",
       "      <td>0.507099</td>\n",
       "      <td>0.731824</td>\n",
       "      <td>0.145087</td>\n",
       "      <td>0.205550</td>\n",
       "      <td>0.841249</td>\n",
       "    </tr>\n",
       "    <tr>\n",
       "      <th>332</th>\n",
       "      <td>0.072293</td>\n",
       "      <td>0.103271</td>\n",
       "      <td>0.775265</td>\n",
       "      <td>0.238348</td>\n",
       "      <td>0.102994</td>\n",
       "    </tr>\n",
       "    <tr>\n",
       "      <th>333</th>\n",
       "      <td>0.040855</td>\n",
       "      <td>0.529082</td>\n",
       "      <td>0.111757</td>\n",
       "      <td>0.368607</td>\n",
       "      <td>0.539036</td>\n",
       "    </tr>\n",
       "  </tbody>\n",
       "</table>\n",
       "<p>334 rows × 5 columns</p>\n",
       "</div>"
      ],
      "text/plain": [
       "            0         1         2         3         4\n",
       "0       Dhruv  0.022837  0.046297  0.770105  0.730972\n",
       "1    0.550071  0.710912  0.967879  0.835901  0.301165\n",
       "2    0.912403  0.326307  0.496282  0.717827  0.437069\n",
       "3    0.717718  0.031644  0.243032  0.341656  0.066220\n",
       "4    0.058916  0.417817  0.609019  0.892734  0.505229\n",
       "..        ...       ...       ...       ...       ...\n",
       "329  0.076874  0.878803  0.444928  0.209214  0.743770\n",
       "330  0.464702  0.171053  0.552225  0.961123  0.046009\n",
       "331  0.507099  0.731824  0.145087  0.205550  0.841249\n",
       "332  0.072293  0.103271  0.775265  0.238348  0.102994\n",
       "333  0.040855  0.529082  0.111757  0.368607  0.539036\n",
       "\n",
       "[334 rows x 5 columns]"
      ]
     },
     "execution_count": 29,
     "metadata": {},
     "output_type": "execute_result"
    }
   ],
   "source": [
    "newdf"
   ]
  },
  {
   "cell_type": "code",
   "execution_count": 30,
   "id": "46f2f680",
   "metadata": {},
   "outputs": [
    {
     "data": {
      "text/plain": [
       "0     object\n",
       "1    float64\n",
       "2    float64\n",
       "3    float64\n",
       "4    float64\n",
       "dtype: object"
      ]
     },
     "execution_count": 30,
     "metadata": {},
     "output_type": "execute_result"
    }
   ],
   "source": [
    "newdf.dtypes"
   ]
  },
  {
   "cell_type": "code",
   "execution_count": 31,
   "id": "2c045340",
   "metadata": {},
   "outputs": [
    {
     "data": {
      "text/plain": [
       "Int64Index([  0,   1,   2,   3,   4,   5,   6,   7,   8,   9,\n",
       "            ...\n",
       "            324, 325, 326, 327, 328, 329, 330, 331, 332, 333],\n",
       "           dtype='int64', length=334)"
      ]
     },
     "execution_count": 31,
     "metadata": {},
     "output_type": "execute_result"
    }
   ],
   "source": [
    "newdf.index"
   ]
  },
  {
   "cell_type": "code",
   "execution_count": 33,
   "id": "ab41ae71",
   "metadata": {},
   "outputs": [
    {
     "data": {
      "text/plain": [
       "RangeIndex(start=0, stop=5, step=1)"
      ]
     },
     "execution_count": 33,
     "metadata": {},
     "output_type": "execute_result"
    }
   ],
   "source": [
    "newdf.columns"
   ]
  },
  {
   "cell_type": "code",
   "execution_count": 34,
   "id": "a74345b1",
   "metadata": {},
   "outputs": [
    {
     "data": {
      "text/html": [
       "<div>\n",
       "<style scoped>\n",
       "    .dataframe tbody tr th:only-of-type {\n",
       "        vertical-align: middle;\n",
       "    }\n",
       "\n",
       "    .dataframe tbody tr th {\n",
       "        vertical-align: top;\n",
       "    }\n",
       "\n",
       "    .dataframe thead th {\n",
       "        text-align: right;\n",
       "    }\n",
       "</style>\n",
       "<table border=\"1\" class=\"dataframe\">\n",
       "  <thead>\n",
       "    <tr style=\"text-align: right;\">\n",
       "      <th></th>\n",
       "      <th>0</th>\n",
       "      <th>1</th>\n",
       "      <th>2</th>\n",
       "      <th>3</th>\n",
       "      <th>4</th>\n",
       "    </tr>\n",
       "  </thead>\n",
       "  <tbody>\n",
       "    <tr>\n",
       "      <th>0</th>\n",
       "      <td>Dhruv</td>\n",
       "      <td>0.022837</td>\n",
       "      <td>0.046297</td>\n",
       "      <td>0.770105</td>\n",
       "      <td>0.730972</td>\n",
       "    </tr>\n",
       "    <tr>\n",
       "      <th>1</th>\n",
       "      <td>0.550071</td>\n",
       "      <td>0.710912</td>\n",
       "      <td>0.967879</td>\n",
       "      <td>0.835901</td>\n",
       "      <td>0.301165</td>\n",
       "    </tr>\n",
       "    <tr>\n",
       "      <th>2</th>\n",
       "      <td>0.912403</td>\n",
       "      <td>0.326307</td>\n",
       "      <td>0.496282</td>\n",
       "      <td>0.717827</td>\n",
       "      <td>0.437069</td>\n",
       "    </tr>\n",
       "    <tr>\n",
       "      <th>3</th>\n",
       "      <td>0.717718</td>\n",
       "      <td>0.031644</td>\n",
       "      <td>0.243032</td>\n",
       "      <td>0.341656</td>\n",
       "      <td>0.066220</td>\n",
       "    </tr>\n",
       "    <tr>\n",
       "      <th>4</th>\n",
       "      <td>0.058916</td>\n",
       "      <td>0.417817</td>\n",
       "      <td>0.609019</td>\n",
       "      <td>0.892734</td>\n",
       "      <td>0.505229</td>\n",
       "    </tr>\n",
       "  </tbody>\n",
       "</table>\n",
       "</div>"
      ],
      "text/plain": [
       "          0         1         2         3         4\n",
       "0     Dhruv  0.022837  0.046297  0.770105  0.730972\n",
       "1  0.550071  0.710912  0.967879  0.835901  0.301165\n",
       "2  0.912403  0.326307  0.496282  0.717827  0.437069\n",
       "3  0.717718  0.031644  0.243032  0.341656  0.066220\n",
       "4  0.058916  0.417817  0.609019  0.892734  0.505229"
      ]
     },
     "execution_count": 34,
     "metadata": {},
     "output_type": "execute_result"
    }
   ],
   "source": [
    "newdf.head(5)"
   ]
  },
  {
   "cell_type": "code",
   "execution_count": 35,
   "id": "65c15fe0",
   "metadata": {},
   "outputs": [
    {
     "data": {
      "text/plain": [
       "<bound method DataFrame.to_numpy of             0         1         2         3         4\n",
       "0       Dhruv  0.022837  0.046297  0.770105  0.730972\n",
       "1    0.550071  0.710912  0.967879  0.835901  0.301165\n",
       "2    0.912403  0.326307  0.496282  0.717827  0.437069\n",
       "3    0.717718  0.031644  0.243032  0.341656  0.066220\n",
       "4    0.058916  0.417817  0.609019  0.892734  0.505229\n",
       "..        ...       ...       ...       ...       ...\n",
       "329  0.076874  0.878803  0.444928  0.209214  0.743770\n",
       "330  0.464702  0.171053  0.552225  0.961123  0.046009\n",
       "331  0.507099  0.731824  0.145087  0.205550  0.841249\n",
       "332  0.072293  0.103271  0.775265  0.238348  0.102994\n",
       "333  0.040855  0.529082  0.111757  0.368607  0.539036\n",
       "\n",
       "[334 rows x 5 columns]>"
      ]
     },
     "execution_count": 35,
     "metadata": {},
     "output_type": "execute_result"
    }
   ],
   "source": [
    "newdf.to_numpy"
   ]
  },
  {
   "cell_type": "code",
   "execution_count": 36,
   "id": "793c6204",
   "metadata": {},
   "outputs": [],
   "source": [
    "newdf[0][0]=0.333"
   ]
  },
  {
   "cell_type": "code",
   "execution_count": 37,
   "id": "82dca484",
   "metadata": {},
   "outputs": [
    {
     "data": {
      "text/plain": [
       "<bound method NDFrame.head of             0         1         2         3         4\n",
       "0       0.333  0.022837  0.046297  0.770105  0.730972\n",
       "1    0.550071  0.710912  0.967879  0.835901  0.301165\n",
       "2    0.912403  0.326307  0.496282  0.717827  0.437069\n",
       "3    0.717718  0.031644  0.243032  0.341656  0.066220\n",
       "4    0.058916  0.417817  0.609019  0.892734  0.505229\n",
       "..        ...       ...       ...       ...       ...\n",
       "329  0.076874  0.878803  0.444928  0.209214  0.743770\n",
       "330  0.464702  0.171053  0.552225  0.961123  0.046009\n",
       "331  0.507099  0.731824  0.145087  0.205550  0.841249\n",
       "332  0.072293  0.103271  0.775265  0.238348  0.102994\n",
       "333  0.040855  0.529082  0.111757  0.368607  0.539036\n",
       "\n",
       "[334 rows x 5 columns]>"
      ]
     },
     "execution_count": 37,
     "metadata": {},
     "output_type": "execute_result"
    }
   ],
   "source": [
    "newdf.head"
   ]
  },
  {
   "cell_type": "code",
   "execution_count": 38,
   "id": "d31257c0",
   "metadata": {},
   "outputs": [
    {
     "data": {
      "text/html": [
       "<div>\n",
       "<style scoped>\n",
       "    .dataframe tbody tr th:only-of-type {\n",
       "        vertical-align: middle;\n",
       "    }\n",
       "\n",
       "    .dataframe tbody tr th {\n",
       "        vertical-align: top;\n",
       "    }\n",
       "\n",
       "    .dataframe thead th {\n",
       "        text-align: right;\n",
       "    }\n",
       "</style>\n",
       "<table border=\"1\" class=\"dataframe\">\n",
       "  <thead>\n",
       "    <tr style=\"text-align: right;\">\n",
       "      <th></th>\n",
       "      <th>0</th>\n",
       "      <th>1</th>\n",
       "      <th>2</th>\n",
       "      <th>3</th>\n",
       "      <th>4</th>\n",
       "      <th>5</th>\n",
       "      <th>6</th>\n",
       "      <th>7</th>\n",
       "      <th>8</th>\n",
       "      <th>9</th>\n",
       "      <th>...</th>\n",
       "      <th>324</th>\n",
       "      <th>325</th>\n",
       "      <th>326</th>\n",
       "      <th>327</th>\n",
       "      <th>328</th>\n",
       "      <th>329</th>\n",
       "      <th>330</th>\n",
       "      <th>331</th>\n",
       "      <th>332</th>\n",
       "      <th>333</th>\n",
       "    </tr>\n",
       "  </thead>\n",
       "  <tbody>\n",
       "    <tr>\n",
       "      <th>0</th>\n",
       "      <td>0.333</td>\n",
       "      <td>0.550071</td>\n",
       "      <td>0.912403</td>\n",
       "      <td>0.717718</td>\n",
       "      <td>0.058916</td>\n",
       "      <td>0.514342</td>\n",
       "      <td>0.135178</td>\n",
       "      <td>0.544595</td>\n",
       "      <td>0.420583</td>\n",
       "      <td>0.366816</td>\n",
       "      <td>...</td>\n",
       "      <td>0.417796</td>\n",
       "      <td>0.270669</td>\n",
       "      <td>0.334941</td>\n",
       "      <td>0.512798</td>\n",
       "      <td>0.23978</td>\n",
       "      <td>0.076874</td>\n",
       "      <td>0.464702</td>\n",
       "      <td>0.507099</td>\n",
       "      <td>0.072293</td>\n",
       "      <td>0.040855</td>\n",
       "    </tr>\n",
       "    <tr>\n",
       "      <th>1</th>\n",
       "      <td>0.022837</td>\n",
       "      <td>0.710912</td>\n",
       "      <td>0.326307</td>\n",
       "      <td>0.031644</td>\n",
       "      <td>0.417817</td>\n",
       "      <td>0.001116</td>\n",
       "      <td>0.909643</td>\n",
       "      <td>0.446569</td>\n",
       "      <td>0.471538</td>\n",
       "      <td>0.898858</td>\n",
       "      <td>...</td>\n",
       "      <td>0.711519</td>\n",
       "      <td>0.129403</td>\n",
       "      <td>0.106711</td>\n",
       "      <td>0.157827</td>\n",
       "      <td>0.568332</td>\n",
       "      <td>0.878803</td>\n",
       "      <td>0.171053</td>\n",
       "      <td>0.731824</td>\n",
       "      <td>0.103271</td>\n",
       "      <td>0.529082</td>\n",
       "    </tr>\n",
       "    <tr>\n",
       "      <th>2</th>\n",
       "      <td>0.046297</td>\n",
       "      <td>0.967879</td>\n",
       "      <td>0.496282</td>\n",
       "      <td>0.243032</td>\n",
       "      <td>0.609019</td>\n",
       "      <td>0.430482</td>\n",
       "      <td>0.064071</td>\n",
       "      <td>0.406842</td>\n",
       "      <td>0.957454</td>\n",
       "      <td>0.65072</td>\n",
       "      <td>...</td>\n",
       "      <td>0.85567</td>\n",
       "      <td>0.741301</td>\n",
       "      <td>0.441996</td>\n",
       "      <td>0.029671</td>\n",
       "      <td>0.317708</td>\n",
       "      <td>0.444928</td>\n",
       "      <td>0.552225</td>\n",
       "      <td>0.145087</td>\n",
       "      <td>0.775265</td>\n",
       "      <td>0.111757</td>\n",
       "    </tr>\n",
       "    <tr>\n",
       "      <th>3</th>\n",
       "      <td>0.770105</td>\n",
       "      <td>0.835901</td>\n",
       "      <td>0.717827</td>\n",
       "      <td>0.341656</td>\n",
       "      <td>0.892734</td>\n",
       "      <td>0.513068</td>\n",
       "      <td>0.770297</td>\n",
       "      <td>0.151319</td>\n",
       "      <td>0.235085</td>\n",
       "      <td>0.516883</td>\n",
       "      <td>...</td>\n",
       "      <td>0.750003</td>\n",
       "      <td>0.891494</td>\n",
       "      <td>0.969619</td>\n",
       "      <td>0.341528</td>\n",
       "      <td>0.330378</td>\n",
       "      <td>0.209214</td>\n",
       "      <td>0.961123</td>\n",
       "      <td>0.20555</td>\n",
       "      <td>0.238348</td>\n",
       "      <td>0.368607</td>\n",
       "    </tr>\n",
       "    <tr>\n",
       "      <th>4</th>\n",
       "      <td>0.730972</td>\n",
       "      <td>0.301165</td>\n",
       "      <td>0.437069</td>\n",
       "      <td>0.06622</td>\n",
       "      <td>0.505229</td>\n",
       "      <td>0.562939</td>\n",
       "      <td>0.618855</td>\n",
       "      <td>0.900787</td>\n",
       "      <td>0.921749</td>\n",
       "      <td>0.622016</td>\n",
       "      <td>...</td>\n",
       "      <td>0.738609</td>\n",
       "      <td>0.84783</td>\n",
       "      <td>0.869849</td>\n",
       "      <td>0.929986</td>\n",
       "      <td>0.807636</td>\n",
       "      <td>0.74377</td>\n",
       "      <td>0.046009</td>\n",
       "      <td>0.841249</td>\n",
       "      <td>0.102994</td>\n",
       "      <td>0.539036</td>\n",
       "    </tr>\n",
       "  </tbody>\n",
       "</table>\n",
       "<p>5 rows × 334 columns</p>\n",
       "</div>"
      ],
      "text/plain": [
       "        0         1         2         3         4         5         6    \\\n",
       "0     0.333  0.550071  0.912403  0.717718  0.058916  0.514342  0.135178   \n",
       "1  0.022837  0.710912  0.326307  0.031644  0.417817  0.001116  0.909643   \n",
       "2  0.046297  0.967879  0.496282  0.243032  0.609019  0.430482  0.064071   \n",
       "3  0.770105  0.835901  0.717827  0.341656  0.892734  0.513068  0.770297   \n",
       "4  0.730972  0.301165  0.437069   0.06622  0.505229  0.562939  0.618855   \n",
       "\n",
       "        7         8         9    ...       324       325       326       327  \\\n",
       "0  0.544595  0.420583  0.366816  ...  0.417796  0.270669  0.334941  0.512798   \n",
       "1  0.446569  0.471538  0.898858  ...  0.711519  0.129403  0.106711  0.157827   \n",
       "2  0.406842  0.957454   0.65072  ...   0.85567  0.741301  0.441996  0.029671   \n",
       "3  0.151319  0.235085  0.516883  ...  0.750003  0.891494  0.969619  0.341528   \n",
       "4  0.900787  0.921749  0.622016  ...  0.738609   0.84783  0.869849  0.929986   \n",
       "\n",
       "        328       329       330       331       332       333  \n",
       "0   0.23978  0.076874  0.464702  0.507099  0.072293  0.040855  \n",
       "1  0.568332  0.878803  0.171053  0.731824  0.103271  0.529082  \n",
       "2  0.317708  0.444928  0.552225  0.145087  0.775265  0.111757  \n",
       "3  0.330378  0.209214  0.961123   0.20555  0.238348  0.368607  \n",
       "4  0.807636   0.74377  0.046009  0.841249  0.102994  0.539036  \n",
       "\n",
       "[5 rows x 334 columns]"
      ]
     },
     "execution_count": 38,
     "metadata": {},
     "output_type": "execute_result"
    }
   ],
   "source": [
    "newdf.T"
   ]
  },
  {
   "cell_type": "code",
   "execution_count": 39,
   "id": "689d5881",
   "metadata": {},
   "outputs": [
    {
     "data": {
      "text/html": [
       "<div>\n",
       "<style scoped>\n",
       "    .dataframe tbody tr th:only-of-type {\n",
       "        vertical-align: middle;\n",
       "    }\n",
       "\n",
       "    .dataframe tbody tr th {\n",
       "        vertical-align: top;\n",
       "    }\n",
       "\n",
       "    .dataframe thead th {\n",
       "        text-align: right;\n",
       "    }\n",
       "</style>\n",
       "<table border=\"1\" class=\"dataframe\">\n",
       "  <thead>\n",
       "    <tr style=\"text-align: right;\">\n",
       "      <th></th>\n",
       "      <th>0</th>\n",
       "      <th>1</th>\n",
       "      <th>2</th>\n",
       "      <th>3</th>\n",
       "      <th>4</th>\n",
       "    </tr>\n",
       "  </thead>\n",
       "  <tbody>\n",
       "    <tr>\n",
       "      <th>0</th>\n",
       "      <td>0.333</td>\n",
       "      <td>0.022837</td>\n",
       "      <td>0.046297</td>\n",
       "      <td>0.770105</td>\n",
       "      <td>0.730972</td>\n",
       "    </tr>\n",
       "    <tr>\n",
       "      <th>1</th>\n",
       "      <td>0.550071</td>\n",
       "      <td>0.710912</td>\n",
       "      <td>0.967879</td>\n",
       "      <td>0.835901</td>\n",
       "      <td>0.301165</td>\n",
       "    </tr>\n",
       "    <tr>\n",
       "      <th>2</th>\n",
       "      <td>0.912403</td>\n",
       "      <td>0.326307</td>\n",
       "      <td>0.496282</td>\n",
       "      <td>0.717827</td>\n",
       "      <td>0.437069</td>\n",
       "    </tr>\n",
       "    <tr>\n",
       "      <th>3</th>\n",
       "      <td>0.717718</td>\n",
       "      <td>0.031644</td>\n",
       "      <td>0.243032</td>\n",
       "      <td>0.341656</td>\n",
       "      <td>0.066220</td>\n",
       "    </tr>\n",
       "    <tr>\n",
       "      <th>4</th>\n",
       "      <td>0.058916</td>\n",
       "      <td>0.417817</td>\n",
       "      <td>0.609019</td>\n",
       "      <td>0.892734</td>\n",
       "      <td>0.505229</td>\n",
       "    </tr>\n",
       "    <tr>\n",
       "      <th>...</th>\n",
       "      <td>...</td>\n",
       "      <td>...</td>\n",
       "      <td>...</td>\n",
       "      <td>...</td>\n",
       "      <td>...</td>\n",
       "    </tr>\n",
       "    <tr>\n",
       "      <th>329</th>\n",
       "      <td>0.076874</td>\n",
       "      <td>0.878803</td>\n",
       "      <td>0.444928</td>\n",
       "      <td>0.209214</td>\n",
       "      <td>0.743770</td>\n",
       "    </tr>\n",
       "    <tr>\n",
       "      <th>330</th>\n",
       "      <td>0.464702</td>\n",
       "      <td>0.171053</td>\n",
       "      <td>0.552225</td>\n",
       "      <td>0.961123</td>\n",
       "      <td>0.046009</td>\n",
       "    </tr>\n",
       "    <tr>\n",
       "      <th>331</th>\n",
       "      <td>0.507099</td>\n",
       "      <td>0.731824</td>\n",
       "      <td>0.145087</td>\n",
       "      <td>0.205550</td>\n",
       "      <td>0.841249</td>\n",
       "    </tr>\n",
       "    <tr>\n",
       "      <th>332</th>\n",
       "      <td>0.072293</td>\n",
       "      <td>0.103271</td>\n",
       "      <td>0.775265</td>\n",
       "      <td>0.238348</td>\n",
       "      <td>0.102994</td>\n",
       "    </tr>\n",
       "    <tr>\n",
       "      <th>333</th>\n",
       "      <td>0.040855</td>\n",
       "      <td>0.529082</td>\n",
       "      <td>0.111757</td>\n",
       "      <td>0.368607</td>\n",
       "      <td>0.539036</td>\n",
       "    </tr>\n",
       "  </tbody>\n",
       "</table>\n",
       "<p>334 rows × 5 columns</p>\n",
       "</div>"
      ],
      "text/plain": [
       "            0         1         2         3         4\n",
       "0       0.333  0.022837  0.046297  0.770105  0.730972\n",
       "1    0.550071  0.710912  0.967879  0.835901  0.301165\n",
       "2    0.912403  0.326307  0.496282  0.717827  0.437069\n",
       "3    0.717718  0.031644  0.243032  0.341656  0.066220\n",
       "4    0.058916  0.417817  0.609019  0.892734  0.505229\n",
       "..        ...       ...       ...       ...       ...\n",
       "329  0.076874  0.878803  0.444928  0.209214  0.743770\n",
       "330  0.464702  0.171053  0.552225  0.961123  0.046009\n",
       "331  0.507099  0.731824  0.145087  0.205550  0.841249\n",
       "332  0.072293  0.103271  0.775265  0.238348  0.102994\n",
       "333  0.040855  0.529082  0.111757  0.368607  0.539036\n",
       "\n",
       "[334 rows x 5 columns]"
      ]
     },
     "execution_count": 39,
     "metadata": {},
     "output_type": "execute_result"
    }
   ],
   "source": [
    "newdf"
   ]
  },
  {
   "cell_type": "code",
   "execution_count": 41,
   "id": "67a4280b",
   "metadata": {},
   "outputs": [],
   "source": [
    "nd =newdf.head(5)"
   ]
  },
  {
   "cell_type": "code",
   "execution_count": 42,
   "id": "ebf2d978",
   "metadata": {},
   "outputs": [
    {
     "data": {
      "text/html": [
       "<div>\n",
       "<style scoped>\n",
       "    .dataframe tbody tr th:only-of-type {\n",
       "        vertical-align: middle;\n",
       "    }\n",
       "\n",
       "    .dataframe tbody tr th {\n",
       "        vertical-align: top;\n",
       "    }\n",
       "\n",
       "    .dataframe thead th {\n",
       "        text-align: right;\n",
       "    }\n",
       "</style>\n",
       "<table border=\"1\" class=\"dataframe\">\n",
       "  <thead>\n",
       "    <tr style=\"text-align: right;\">\n",
       "      <th></th>\n",
       "      <th>0</th>\n",
       "      <th>1</th>\n",
       "      <th>2</th>\n",
       "      <th>3</th>\n",
       "      <th>4</th>\n",
       "    </tr>\n",
       "  </thead>\n",
       "  <tbody>\n",
       "    <tr>\n",
       "      <th>0</th>\n",
       "      <td>0.333</td>\n",
       "      <td>0.022837</td>\n",
       "      <td>0.046297</td>\n",
       "      <td>0.770105</td>\n",
       "      <td>0.730972</td>\n",
       "    </tr>\n",
       "    <tr>\n",
       "      <th>1</th>\n",
       "      <td>0.550071</td>\n",
       "      <td>0.710912</td>\n",
       "      <td>0.967879</td>\n",
       "      <td>0.835901</td>\n",
       "      <td>0.301165</td>\n",
       "    </tr>\n",
       "    <tr>\n",
       "      <th>2</th>\n",
       "      <td>0.912403</td>\n",
       "      <td>0.326307</td>\n",
       "      <td>0.496282</td>\n",
       "      <td>0.717827</td>\n",
       "      <td>0.437069</td>\n",
       "    </tr>\n",
       "    <tr>\n",
       "      <th>3</th>\n",
       "      <td>0.717718</td>\n",
       "      <td>0.031644</td>\n",
       "      <td>0.243032</td>\n",
       "      <td>0.341656</td>\n",
       "      <td>0.066220</td>\n",
       "    </tr>\n",
       "    <tr>\n",
       "      <th>4</th>\n",
       "      <td>0.058916</td>\n",
       "      <td>0.417817</td>\n",
       "      <td>0.609019</td>\n",
       "      <td>0.892734</td>\n",
       "      <td>0.505229</td>\n",
       "    </tr>\n",
       "  </tbody>\n",
       "</table>\n",
       "</div>"
      ],
      "text/plain": [
       "          0         1         2         3         4\n",
       "0     0.333  0.022837  0.046297  0.770105  0.730972\n",
       "1  0.550071  0.710912  0.967879  0.835901  0.301165\n",
       "2  0.912403  0.326307  0.496282  0.717827  0.437069\n",
       "3  0.717718  0.031644  0.243032  0.341656  0.066220\n",
       "4  0.058916  0.417817  0.609019  0.892734  0.505229"
      ]
     },
     "execution_count": 42,
     "metadata": {},
     "output_type": "execute_result"
    }
   ],
   "source": [
    "nd"
   ]
  },
  {
   "cell_type": "code",
   "execution_count": 7,
   "id": "40f70707",
   "metadata": {},
   "outputs": [
    {
     "ename": "NameError",
     "evalue": "name 'nd' is not defined",
     "output_type": "error",
     "traceback": [
      "\u001b[1;31m---------------------------------------------------------------------------\u001b[0m",
      "\u001b[1;31mNameError\u001b[0m                                 Traceback (most recent call last)",
      "Cell \u001b[1;32mIn[7], line 1\u001b[0m\n\u001b[1;32m----> 1\u001b[0m \u001b[43mnd\u001b[49m\u001b[38;5;241m.\u001b[39msort_index(axis \u001b[38;5;241m=\u001b[39m \u001b[38;5;241m1\u001b[39m)\n",
      "\u001b[1;31mNameError\u001b[0m: name 'nd' is not defined"
     ]
    }
   ],
   "source": [
    "nd.sort_index(axis = 1, ascending = False)"
   ]
  },
  {
   "cell_type": "code",
   "execution_count": 47,
   "id": "8a31921d",
   "metadata": {},
   "outputs": [
    {
     "data": {
      "text/html": [
       "<div>\n",
       "<style scoped>\n",
       "    .dataframe tbody tr th:only-of-type {\n",
       "        vertical-align: middle;\n",
       "    }\n",
       "\n",
       "    .dataframe tbody tr th {\n",
       "        vertical-align: top;\n",
       "    }\n",
       "\n",
       "    .dataframe thead th {\n",
       "        text-align: right;\n",
       "    }\n",
       "</style>\n",
       "<table border=\"1\" class=\"dataframe\">\n",
       "  <thead>\n",
       "    <tr style=\"text-align: right;\">\n",
       "      <th></th>\n",
       "      <th>0</th>\n",
       "      <th>1</th>\n",
       "      <th>2</th>\n",
       "      <th>3</th>\n",
       "      <th>4</th>\n",
       "    </tr>\n",
       "  </thead>\n",
       "  <tbody>\n",
       "    <tr>\n",
       "      <th>4</th>\n",
       "      <td>0.058916</td>\n",
       "      <td>0.417817</td>\n",
       "      <td>0.609019</td>\n",
       "      <td>0.892734</td>\n",
       "      <td>0.505229</td>\n",
       "    </tr>\n",
       "    <tr>\n",
       "      <th>3</th>\n",
       "      <td>0.717718</td>\n",
       "      <td>0.031644</td>\n",
       "      <td>0.243032</td>\n",
       "      <td>0.341656</td>\n",
       "      <td>0.066220</td>\n",
       "    </tr>\n",
       "    <tr>\n",
       "      <th>2</th>\n",
       "      <td>0.912403</td>\n",
       "      <td>0.326307</td>\n",
       "      <td>0.496282</td>\n",
       "      <td>0.717827</td>\n",
       "      <td>0.437069</td>\n",
       "    </tr>\n",
       "    <tr>\n",
       "      <th>1</th>\n",
       "      <td>0.550071</td>\n",
       "      <td>0.710912</td>\n",
       "      <td>0.967879</td>\n",
       "      <td>0.835901</td>\n",
       "      <td>0.301165</td>\n",
       "    </tr>\n",
       "    <tr>\n",
       "      <th>0</th>\n",
       "      <td>0.333</td>\n",
       "      <td>0.022837</td>\n",
       "      <td>0.046297</td>\n",
       "      <td>0.770105</td>\n",
       "      <td>0.730972</td>\n",
       "    </tr>\n",
       "  </tbody>\n",
       "</table>\n",
       "</div>"
      ],
      "text/plain": [
       "          0         1         2         3         4\n",
       "4  0.058916  0.417817  0.609019  0.892734  0.505229\n",
       "3  0.717718  0.031644  0.243032  0.341656  0.066220\n",
       "2  0.912403  0.326307  0.496282  0.717827  0.437069\n",
       "1  0.550071  0.710912  0.967879  0.835901  0.301165\n",
       "0     0.333  0.022837  0.046297  0.770105  0.730972"
      ]
     },
     "execution_count": 47,
     "metadata": {},
     "output_type": "execute_result"
    }
   ],
   "source": [
    "nd.sort_index(axis = 0, ascending = False)"
   ]
  },
  {
   "cell_type": "code",
   "execution_count": 48,
   "id": "2093a5d4",
   "metadata": {},
   "outputs": [
    {
     "data": {
      "text/plain": [
       "<bound method NDFrame.head of           0         1         2         3         4\n",
       "0     0.333  0.022837  0.046297  0.770105  0.730972\n",
       "1  0.550071  0.710912  0.967879  0.835901  0.301165\n",
       "2  0.912403  0.326307  0.496282  0.717827  0.437069\n",
       "3  0.717718  0.031644  0.243032  0.341656  0.066220\n",
       "4  0.058916  0.417817  0.609019  0.892734  0.505229>"
      ]
     },
     "execution_count": 48,
     "metadata": {},
     "output_type": "execute_result"
    }
   ],
   "source": [
    "nd.head"
   ]
  },
  {
   "cell_type": "code",
   "execution_count": 49,
   "id": "7e54feac",
   "metadata": {},
   "outputs": [
    {
     "data": {
      "text/plain": [
       "0       0.333\n",
       "1    0.550071\n",
       "2    0.912403\n",
       "3    0.717718\n",
       "4    0.058916\n",
       "Name: 0, dtype: object"
      ]
     },
     "execution_count": 49,
     "metadata": {},
     "output_type": "execute_result"
    }
   ],
   "source": [
    "nd[0]"
   ]
  },
  {
   "cell_type": "code",
   "execution_count": 52,
   "id": "26298f0a",
   "metadata": {},
   "outputs": [
    {
     "data": {
      "text/plain": [
       "pandas.core.frame.DataFrame"
      ]
     },
     "execution_count": 52,
     "metadata": {},
     "output_type": "execute_result"
    }
   ],
   "source": [
    "type(nd)"
   ]
  },
  {
   "cell_type": "code",
   "execution_count": 53,
   "id": "0770c1a2",
   "metadata": {},
   "outputs": [
    {
     "data": {
      "text/plain": [
       "pandas.core.series.Series"
      ]
     },
     "execution_count": 53,
     "metadata": {},
     "output_type": "execute_result"
    }
   ],
   "source": [
    "type(nd[0])"
   ]
  },
  {
   "cell_type": "code",
   "execution_count": 54,
   "id": "1e10fd51",
   "metadata": {},
   "outputs": [],
   "source": [
    "ndnn = nd.copy()"
   ]
  },
  {
   "cell_type": "code",
   "execution_count": 55,
   "id": "cdda882a",
   "metadata": {},
   "outputs": [],
   "source": [
    "# ndnn = nd"
   ]
  },
  {
   "cell_type": "code",
   "execution_count": 56,
   "id": "dd7dc3bc",
   "metadata": {},
   "outputs": [
    {
     "data": {
      "text/html": [
       "<div>\n",
       "<style scoped>\n",
       "    .dataframe tbody tr th:only-of-type {\n",
       "        vertical-align: middle;\n",
       "    }\n",
       "\n",
       "    .dataframe tbody tr th {\n",
       "        vertical-align: top;\n",
       "    }\n",
       "\n",
       "    .dataframe thead th {\n",
       "        text-align: right;\n",
       "    }\n",
       "</style>\n",
       "<table border=\"1\" class=\"dataframe\">\n",
       "  <thead>\n",
       "    <tr style=\"text-align: right;\">\n",
       "      <th></th>\n",
       "      <th>0</th>\n",
       "      <th>1</th>\n",
       "      <th>2</th>\n",
       "      <th>3</th>\n",
       "      <th>4</th>\n",
       "    </tr>\n",
       "  </thead>\n",
       "  <tbody>\n",
       "    <tr>\n",
       "      <th>0</th>\n",
       "      <td>0.333</td>\n",
       "      <td>0.022837</td>\n",
       "      <td>0.046297</td>\n",
       "      <td>0.770105</td>\n",
       "      <td>0.730972</td>\n",
       "    </tr>\n",
       "    <tr>\n",
       "      <th>1</th>\n",
       "      <td>0.550071</td>\n",
       "      <td>0.710912</td>\n",
       "      <td>0.967879</td>\n",
       "      <td>0.835901</td>\n",
       "      <td>0.301165</td>\n",
       "    </tr>\n",
       "    <tr>\n",
       "      <th>2</th>\n",
       "      <td>0.912403</td>\n",
       "      <td>0.326307</td>\n",
       "      <td>0.496282</td>\n",
       "      <td>0.717827</td>\n",
       "      <td>0.437069</td>\n",
       "    </tr>\n",
       "    <tr>\n",
       "      <th>3</th>\n",
       "      <td>0.717718</td>\n",
       "      <td>0.031644</td>\n",
       "      <td>0.243032</td>\n",
       "      <td>0.341656</td>\n",
       "      <td>0.066220</td>\n",
       "    </tr>\n",
       "    <tr>\n",
       "      <th>4</th>\n",
       "      <td>0.058916</td>\n",
       "      <td>0.417817</td>\n",
       "      <td>0.609019</td>\n",
       "      <td>0.892734</td>\n",
       "      <td>0.505229</td>\n",
       "    </tr>\n",
       "  </tbody>\n",
       "</table>\n",
       "</div>"
      ],
      "text/plain": [
       "          0         1         2         3         4\n",
       "0     0.333  0.022837  0.046297  0.770105  0.730972\n",
       "1  0.550071  0.710912  0.967879  0.835901  0.301165\n",
       "2  0.912403  0.326307  0.496282  0.717827  0.437069\n",
       "3  0.717718  0.031644  0.243032  0.341656  0.066220\n",
       "4  0.058916  0.417817  0.609019  0.892734  0.505229"
      ]
     },
     "execution_count": 56,
     "metadata": {},
     "output_type": "execute_result"
    }
   ],
   "source": [
    "ndnn"
   ]
  },
  {
   "cell_type": "code",
   "execution_count": 58,
   "id": "9f01a19a",
   "metadata": {},
   "outputs": [
    {
     "ename": "TypeError",
     "evalue": "'int' object does not support item assignment",
     "output_type": "error",
     "traceback": [
      "\u001b[1;31m---------------------------------------------------------------------------\u001b[0m",
      "\u001b[1;31mTypeError\u001b[0m                                 Traceback (most recent call last)",
      "Cell \u001b[1;32mIn[58], line 1\u001b[0m\n\u001b[1;32m----> 1\u001b[0m \u001b[43mndnn\u001b[49m\u001b[43m[\u001b[49m\u001b[38;5;241;43m0\u001b[39;49m\u001b[43m]\u001b[49m\u001b[43m[\u001b[49m\u001b[38;5;241;43m0\u001b[39;49m\u001b[43m]\u001b[49m\u001b[38;5;241m=\u001b[39m[\u001b[38;5;241m6565105\u001b[39m]\n",
      "\u001b[1;31mTypeError\u001b[0m: 'int' object does not support item assignment"
     ]
    }
   ],
   "source": [
    "ndnn[0][0]=[6565105]"
   ]
  },
  {
   "cell_type": "code",
   "execution_count": 64,
   "id": "1d34b7c3",
   "metadata": {},
   "outputs": [],
   "source": [
    "ndnn = nd.copy()"
   ]
  },
  {
   "cell_type": "code",
   "execution_count": 65,
   "id": "28829946",
   "metadata": {},
   "outputs": [
    {
     "data": {
      "text/html": [
       "<div>\n",
       "<style scoped>\n",
       "    .dataframe tbody tr th:only-of-type {\n",
       "        vertical-align: middle;\n",
       "    }\n",
       "\n",
       "    .dataframe tbody tr th {\n",
       "        vertical-align: top;\n",
       "    }\n",
       "\n",
       "    .dataframe thead th {\n",
       "        text-align: right;\n",
       "    }\n",
       "</style>\n",
       "<table border=\"1\" class=\"dataframe\">\n",
       "  <thead>\n",
       "    <tr style=\"text-align: right;\">\n",
       "      <th></th>\n",
       "      <th>0</th>\n",
       "      <th>1</th>\n",
       "      <th>2</th>\n",
       "      <th>3</th>\n",
       "      <th>4</th>\n",
       "    </tr>\n",
       "  </thead>\n",
       "  <tbody>\n",
       "    <tr>\n",
       "      <th>0</th>\n",
       "      <td>0.333</td>\n",
       "      <td>0.022837</td>\n",
       "      <td>0.046297</td>\n",
       "      <td>0.770105</td>\n",
       "      <td>0.730972</td>\n",
       "    </tr>\n",
       "    <tr>\n",
       "      <th>1</th>\n",
       "      <td>0.550071</td>\n",
       "      <td>0.710912</td>\n",
       "      <td>0.967879</td>\n",
       "      <td>0.835901</td>\n",
       "      <td>0.301165</td>\n",
       "    </tr>\n",
       "    <tr>\n",
       "      <th>2</th>\n",
       "      <td>0.912403</td>\n",
       "      <td>0.326307</td>\n",
       "      <td>0.496282</td>\n",
       "      <td>0.717827</td>\n",
       "      <td>0.437069</td>\n",
       "    </tr>\n",
       "    <tr>\n",
       "      <th>3</th>\n",
       "      <td>0.717718</td>\n",
       "      <td>0.031644</td>\n",
       "      <td>0.243032</td>\n",
       "      <td>0.341656</td>\n",
       "      <td>0.066220</td>\n",
       "    </tr>\n",
       "    <tr>\n",
       "      <th>4</th>\n",
       "      <td>0.058916</td>\n",
       "      <td>0.417817</td>\n",
       "      <td>0.609019</td>\n",
       "      <td>0.892734</td>\n",
       "      <td>0.505229</td>\n",
       "    </tr>\n",
       "  </tbody>\n",
       "</table>\n",
       "</div>"
      ],
      "text/plain": [
       "          0         1         2         3         4\n",
       "0     0.333  0.022837  0.046297  0.770105  0.730972\n",
       "1  0.550071  0.710912  0.967879  0.835901  0.301165\n",
       "2  0.912403  0.326307  0.496282  0.717827  0.437069\n",
       "3  0.717718  0.031644  0.243032  0.341656  0.066220\n",
       "4  0.058916  0.417817  0.609019  0.892734  0.505229"
      ]
     },
     "execution_count": 65,
     "metadata": {},
     "output_type": "execute_result"
    }
   ],
   "source": [
    "ndnn"
   ]
  },
  {
   "cell_type": "code",
   "execution_count": 66,
   "id": "7eefa919",
   "metadata": {},
   "outputs": [],
   "source": [
    "ndnn.loc[0,0] = 15423"
   ]
  },
  {
   "cell_type": "code",
   "execution_count": 67,
   "id": "dc37f338",
   "metadata": {},
   "outputs": [
    {
     "data": {
      "text/html": [
       "<div>\n",
       "<style scoped>\n",
       "    .dataframe tbody tr th:only-of-type {\n",
       "        vertical-align: middle;\n",
       "    }\n",
       "\n",
       "    .dataframe tbody tr th {\n",
       "        vertical-align: top;\n",
       "    }\n",
       "\n",
       "    .dataframe thead th {\n",
       "        text-align: right;\n",
       "    }\n",
       "</style>\n",
       "<table border=\"1\" class=\"dataframe\">\n",
       "  <thead>\n",
       "    <tr style=\"text-align: right;\">\n",
       "      <th></th>\n",
       "      <th>0</th>\n",
       "      <th>1</th>\n",
       "      <th>2</th>\n",
       "      <th>3</th>\n",
       "      <th>4</th>\n",
       "    </tr>\n",
       "  </thead>\n",
       "  <tbody>\n",
       "    <tr>\n",
       "      <th>0</th>\n",
       "      <td>15423</td>\n",
       "      <td>0.022837</td>\n",
       "      <td>0.046297</td>\n",
       "      <td>0.770105</td>\n",
       "      <td>0.730972</td>\n",
       "    </tr>\n",
       "    <tr>\n",
       "      <th>1</th>\n",
       "      <td>0.550071</td>\n",
       "      <td>0.710912</td>\n",
       "      <td>0.967879</td>\n",
       "      <td>0.835901</td>\n",
       "      <td>0.301165</td>\n",
       "    </tr>\n",
       "    <tr>\n",
       "      <th>2</th>\n",
       "      <td>0.912403</td>\n",
       "      <td>0.326307</td>\n",
       "      <td>0.496282</td>\n",
       "      <td>0.717827</td>\n",
       "      <td>0.437069</td>\n",
       "    </tr>\n",
       "    <tr>\n",
       "      <th>3</th>\n",
       "      <td>0.717718</td>\n",
       "      <td>0.031644</td>\n",
       "      <td>0.243032</td>\n",
       "      <td>0.341656</td>\n",
       "      <td>0.066220</td>\n",
       "    </tr>\n",
       "    <tr>\n",
       "      <th>4</th>\n",
       "      <td>0.058916</td>\n",
       "      <td>0.417817</td>\n",
       "      <td>0.609019</td>\n",
       "      <td>0.892734</td>\n",
       "      <td>0.505229</td>\n",
       "    </tr>\n",
       "  </tbody>\n",
       "</table>\n",
       "</div>"
      ],
      "text/plain": [
       "          0         1         2         3         4\n",
       "0     15423  0.022837  0.046297  0.770105  0.730972\n",
       "1  0.550071  0.710912  0.967879  0.835901  0.301165\n",
       "2  0.912403  0.326307  0.496282  0.717827  0.437069\n",
       "3  0.717718  0.031644  0.243032  0.341656  0.066220\n",
       "4  0.058916  0.417817  0.609019  0.892734  0.505229"
      ]
     },
     "execution_count": 67,
     "metadata": {},
     "output_type": "execute_result"
    }
   ],
   "source": [
    "ndnn"
   ]
  },
  {
   "cell_type": "code",
   "execution_count": 68,
   "id": "f4282e49",
   "metadata": {},
   "outputs": [
    {
     "data": {
      "text/html": [
       "<div>\n",
       "<style scoped>\n",
       "    .dataframe tbody tr th:only-of-type {\n",
       "        vertical-align: middle;\n",
       "    }\n",
       "\n",
       "    .dataframe tbody tr th {\n",
       "        vertical-align: top;\n",
       "    }\n",
       "\n",
       "    .dataframe thead th {\n",
       "        text-align: right;\n",
       "    }\n",
       "</style>\n",
       "<table border=\"1\" class=\"dataframe\">\n",
       "  <thead>\n",
       "    <tr style=\"text-align: right;\">\n",
       "      <th></th>\n",
       "      <th>0</th>\n",
       "      <th>1</th>\n",
       "      <th>2</th>\n",
       "      <th>3</th>\n",
       "      <th>4</th>\n",
       "    </tr>\n",
       "  </thead>\n",
       "  <tbody>\n",
       "    <tr>\n",
       "      <th>0</th>\n",
       "      <td>0.333</td>\n",
       "      <td>0.022837</td>\n",
       "      <td>0.046297</td>\n",
       "      <td>0.770105</td>\n",
       "      <td>0.730972</td>\n",
       "    </tr>\n",
       "    <tr>\n",
       "      <th>1</th>\n",
       "      <td>0.550071</td>\n",
       "      <td>0.710912</td>\n",
       "      <td>0.967879</td>\n",
       "      <td>0.835901</td>\n",
       "      <td>0.301165</td>\n",
       "    </tr>\n",
       "    <tr>\n",
       "      <th>2</th>\n",
       "      <td>0.912403</td>\n",
       "      <td>0.326307</td>\n",
       "      <td>0.496282</td>\n",
       "      <td>0.717827</td>\n",
       "      <td>0.437069</td>\n",
       "    </tr>\n",
       "    <tr>\n",
       "      <th>3</th>\n",
       "      <td>0.717718</td>\n",
       "      <td>0.031644</td>\n",
       "      <td>0.243032</td>\n",
       "      <td>0.341656</td>\n",
       "      <td>0.066220</td>\n",
       "    </tr>\n",
       "    <tr>\n",
       "      <th>4</th>\n",
       "      <td>0.058916</td>\n",
       "      <td>0.417817</td>\n",
       "      <td>0.609019</td>\n",
       "      <td>0.892734</td>\n",
       "      <td>0.505229</td>\n",
       "    </tr>\n",
       "  </tbody>\n",
       "</table>\n",
       "</div>"
      ],
      "text/plain": [
       "          0         1         2         3         4\n",
       "0     0.333  0.022837  0.046297  0.770105  0.730972\n",
       "1  0.550071  0.710912  0.967879  0.835901  0.301165\n",
       "2  0.912403  0.326307  0.496282  0.717827  0.437069\n",
       "3  0.717718  0.031644  0.243032  0.341656  0.066220\n",
       "4  0.058916  0.417817  0.609019  0.892734  0.505229"
      ]
     },
     "execution_count": 68,
     "metadata": {},
     "output_type": "execute_result"
    }
   ],
   "source": [
    "nd"
   ]
  },
  {
   "cell_type": "code",
   "execution_count": 69,
   "id": "49379789",
   "metadata": {},
   "outputs": [
    {
     "data": {
      "text/html": [
       "<div>\n",
       "<style scoped>\n",
       "    .dataframe tbody tr th:only-of-type {\n",
       "        vertical-align: middle;\n",
       "    }\n",
       "\n",
       "    .dataframe tbody tr th {\n",
       "        vertical-align: top;\n",
       "    }\n",
       "\n",
       "    .dataframe thead th {\n",
       "        text-align: right;\n",
       "    }\n",
       "</style>\n",
       "<table border=\"1\" class=\"dataframe\">\n",
       "  <thead>\n",
       "    <tr style=\"text-align: right;\">\n",
       "      <th></th>\n",
       "      <th>0</th>\n",
       "      <th>1</th>\n",
       "      <th>2</th>\n",
       "      <th>3</th>\n",
       "      <th>4</th>\n",
       "    </tr>\n",
       "  </thead>\n",
       "  <tbody>\n",
       "    <tr>\n",
       "      <th>0</th>\n",
       "      <td>15423</td>\n",
       "      <td>0.022837</td>\n",
       "      <td>0.046297</td>\n",
       "      <td>0.770105</td>\n",
       "      <td>0.730972</td>\n",
       "    </tr>\n",
       "    <tr>\n",
       "      <th>1</th>\n",
       "      <td>0.550071</td>\n",
       "      <td>0.710912</td>\n",
       "      <td>0.967879</td>\n",
       "      <td>0.835901</td>\n",
       "      <td>0.301165</td>\n",
       "    </tr>\n",
       "  </tbody>\n",
       "</table>\n",
       "</div>"
      ],
      "text/plain": [
       "          0         1         2         3         4\n",
       "0     15423  0.022837  0.046297  0.770105  0.730972\n",
       "1  0.550071  0.710912  0.967879  0.835901  0.301165"
      ]
     },
     "execution_count": 69,
     "metadata": {},
     "output_type": "execute_result"
    }
   ],
   "source": [
    "ndnn.head(2)"
   ]
  },
  {
   "cell_type": "code",
   "execution_count": 70,
   "id": "b86e6ccc",
   "metadata": {},
   "outputs": [],
   "source": [
    "ndnn.columns = list(\"ABCDE\")"
   ]
  },
  {
   "cell_type": "code",
   "execution_count": 71,
   "id": "3c9af2f6",
   "metadata": {},
   "outputs": [
    {
     "data": {
      "text/html": [
       "<div>\n",
       "<style scoped>\n",
       "    .dataframe tbody tr th:only-of-type {\n",
       "        vertical-align: middle;\n",
       "    }\n",
       "\n",
       "    .dataframe tbody tr th {\n",
       "        vertical-align: top;\n",
       "    }\n",
       "\n",
       "    .dataframe thead th {\n",
       "        text-align: right;\n",
       "    }\n",
       "</style>\n",
       "<table border=\"1\" class=\"dataframe\">\n",
       "  <thead>\n",
       "    <tr style=\"text-align: right;\">\n",
       "      <th></th>\n",
       "      <th>A</th>\n",
       "      <th>B</th>\n",
       "      <th>C</th>\n",
       "      <th>D</th>\n",
       "      <th>E</th>\n",
       "    </tr>\n",
       "  </thead>\n",
       "  <tbody>\n",
       "    <tr>\n",
       "      <th>0</th>\n",
       "      <td>15423</td>\n",
       "      <td>0.022837</td>\n",
       "      <td>0.046297</td>\n",
       "      <td>0.770105</td>\n",
       "      <td>0.730972</td>\n",
       "    </tr>\n",
       "    <tr>\n",
       "      <th>1</th>\n",
       "      <td>0.550071</td>\n",
       "      <td>0.710912</td>\n",
       "      <td>0.967879</td>\n",
       "      <td>0.835901</td>\n",
       "      <td>0.301165</td>\n",
       "    </tr>\n",
       "    <tr>\n",
       "      <th>2</th>\n",
       "      <td>0.912403</td>\n",
       "      <td>0.326307</td>\n",
       "      <td>0.496282</td>\n",
       "      <td>0.717827</td>\n",
       "      <td>0.437069</td>\n",
       "    </tr>\n",
       "    <tr>\n",
       "      <th>3</th>\n",
       "      <td>0.717718</td>\n",
       "      <td>0.031644</td>\n",
       "      <td>0.243032</td>\n",
       "      <td>0.341656</td>\n",
       "      <td>0.066220</td>\n",
       "    </tr>\n",
       "    <tr>\n",
       "      <th>4</th>\n",
       "      <td>0.058916</td>\n",
       "      <td>0.417817</td>\n",
       "      <td>0.609019</td>\n",
       "      <td>0.892734</td>\n",
       "      <td>0.505229</td>\n",
       "    </tr>\n",
       "  </tbody>\n",
       "</table>\n",
       "</div>"
      ],
      "text/plain": [
       "          A         B         C         D         E\n",
       "0     15423  0.022837  0.046297  0.770105  0.730972\n",
       "1  0.550071  0.710912  0.967879  0.835901  0.301165\n",
       "2  0.912403  0.326307  0.496282  0.717827  0.437069\n",
       "3  0.717718  0.031644  0.243032  0.341656  0.066220\n",
       "4  0.058916  0.417817  0.609019  0.892734  0.505229"
      ]
     },
     "execution_count": 71,
     "metadata": {},
     "output_type": "execute_result"
    }
   ],
   "source": [
    "ndnn"
   ]
  },
  {
   "cell_type": "code",
   "execution_count": 72,
   "id": "59f7bd2a",
   "metadata": {},
   "outputs": [
    {
     "data": {
      "text/html": [
       "<div>\n",
       "<style scoped>\n",
       "    .dataframe tbody tr th:only-of-type {\n",
       "        vertical-align: middle;\n",
       "    }\n",
       "\n",
       "    .dataframe tbody tr th {\n",
       "        vertical-align: top;\n",
       "    }\n",
       "\n",
       "    .dataframe thead th {\n",
       "        text-align: right;\n",
       "    }\n",
       "</style>\n",
       "<table border=\"1\" class=\"dataframe\">\n",
       "  <thead>\n",
       "    <tr style=\"text-align: right;\">\n",
       "      <th></th>\n",
       "      <th>A</th>\n",
       "      <th>B</th>\n",
       "      <th>C</th>\n",
       "      <th>D</th>\n",
       "      <th>E</th>\n",
       "    </tr>\n",
       "  </thead>\n",
       "  <tbody>\n",
       "    <tr>\n",
       "      <th>0</th>\n",
       "      <td>15423</td>\n",
       "      <td>0.022837</td>\n",
       "      <td>0.046297</td>\n",
       "      <td>0.770105</td>\n",
       "      <td>0.730972</td>\n",
       "    </tr>\n",
       "    <tr>\n",
       "      <th>1</th>\n",
       "      <td>0.550071</td>\n",
       "      <td>0.710912</td>\n",
       "      <td>0.967879</td>\n",
       "      <td>0.835901</td>\n",
       "      <td>0.301165</td>\n",
       "    </tr>\n",
       "  </tbody>\n",
       "</table>\n",
       "</div>"
      ],
      "text/plain": [
       "          A         B         C         D         E\n",
       "0     15423  0.022837  0.046297  0.770105  0.730972\n",
       "1  0.550071  0.710912  0.967879  0.835901  0.301165"
      ]
     },
     "execution_count": 72,
     "metadata": {},
     "output_type": "execute_result"
    }
   ],
   "source": [
    "ndnn.head(2)"
   ]
  },
  {
   "cell_type": "code",
   "execution_count": 74,
   "id": "7427a568",
   "metadata": {},
   "outputs": [],
   "source": [
    "# for droping columns \n",
    "\n",
    "# . drop(0,axis =1 )"
   ]
  },
  {
   "cell_type": "code",
   "execution_count": 76,
   "id": "078c5660",
   "metadata": {},
   "outputs": [
    {
     "data": {
      "text/html": [
       "<div>\n",
       "<style scoped>\n",
       "    .dataframe tbody tr th:only-of-type {\n",
       "        vertical-align: middle;\n",
       "    }\n",
       "\n",
       "    .dataframe tbody tr th {\n",
       "        vertical-align: top;\n",
       "    }\n",
       "\n",
       "    .dataframe thead th {\n",
       "        text-align: right;\n",
       "    }\n",
       "</style>\n",
       "<table border=\"1\" class=\"dataframe\">\n",
       "  <thead>\n",
       "    <tr style=\"text-align: right;\">\n",
       "      <th></th>\n",
       "      <th>C</th>\n",
       "      <th>D</th>\n",
       "    </tr>\n",
       "  </thead>\n",
       "  <tbody>\n",
       "    <tr>\n",
       "      <th>1</th>\n",
       "      <td>0.967879</td>\n",
       "      <td>0.835901</td>\n",
       "    </tr>\n",
       "    <tr>\n",
       "      <th>2</th>\n",
       "      <td>0.496282</td>\n",
       "      <td>0.717827</td>\n",
       "    </tr>\n",
       "  </tbody>\n",
       "</table>\n",
       "</div>"
      ],
      "text/plain": [
       "          C         D\n",
       "1  0.967879  0.835901\n",
       "2  0.496282  0.717827"
      ]
     },
     "execution_count": 76,
     "metadata": {},
     "output_type": "execute_result"
    }
   ],
   "source": [
    "ndnn.loc[[1,2] ,[\"C\" ,\"D\"]]"
   ]
  },
  {
   "cell_type": "code",
   "execution_count": 77,
   "id": "24440bd7",
   "metadata": {},
   "outputs": [
    {
     "data": {
      "text/html": [
       "<div>\n",
       "<style scoped>\n",
       "    .dataframe tbody tr th:only-of-type {\n",
       "        vertical-align: middle;\n",
       "    }\n",
       "\n",
       "    .dataframe tbody tr th {\n",
       "        vertical-align: top;\n",
       "    }\n",
       "\n",
       "    .dataframe thead th {\n",
       "        text-align: right;\n",
       "    }\n",
       "</style>\n",
       "<table border=\"1\" class=\"dataframe\">\n",
       "  <thead>\n",
       "    <tr style=\"text-align: right;\">\n",
       "      <th></th>\n",
       "      <th>A</th>\n",
       "      <th>B</th>\n",
       "      <th>C</th>\n",
       "      <th>D</th>\n",
       "      <th>E</th>\n",
       "    </tr>\n",
       "  </thead>\n",
       "  <tbody>\n",
       "    <tr>\n",
       "      <th>1</th>\n",
       "      <td>0.550071</td>\n",
       "      <td>0.710912</td>\n",
       "      <td>0.967879</td>\n",
       "      <td>0.835901</td>\n",
       "      <td>0.301165</td>\n",
       "    </tr>\n",
       "    <tr>\n",
       "      <th>2</th>\n",
       "      <td>0.912403</td>\n",
       "      <td>0.326307</td>\n",
       "      <td>0.496282</td>\n",
       "      <td>0.717827</td>\n",
       "      <td>0.437069</td>\n",
       "    </tr>\n",
       "  </tbody>\n",
       "</table>\n",
       "</div>"
      ],
      "text/plain": [
       "          A         B         C         D         E\n",
       "1  0.550071  0.710912  0.967879  0.835901  0.301165\n",
       "2  0.912403  0.326307  0.496282  0.717827  0.437069"
      ]
     },
     "execution_count": 77,
     "metadata": {},
     "output_type": "execute_result"
    }
   ],
   "source": [
    "ndnn.loc[[1,2] , :]"
   ]
  },
  {
   "cell_type": "code",
   "execution_count": 79,
   "id": "d31b9aba",
   "metadata": {},
   "outputs": [
    {
     "data": {
      "text/html": [
       "<div>\n",
       "<style scoped>\n",
       "    .dataframe tbody tr th:only-of-type {\n",
       "        vertical-align: middle;\n",
       "    }\n",
       "\n",
       "    .dataframe tbody tr th {\n",
       "        vertical-align: top;\n",
       "    }\n",
       "\n",
       "    .dataframe thead th {\n",
       "        text-align: right;\n",
       "    }\n",
       "</style>\n",
       "<table border=\"1\" class=\"dataframe\">\n",
       "  <thead>\n",
       "    <tr style=\"text-align: right;\">\n",
       "      <th></th>\n",
       "      <th>A</th>\n",
       "      <th>B</th>\n",
       "      <th>C</th>\n",
       "      <th>D</th>\n",
       "      <th>E</th>\n",
       "    </tr>\n",
       "  </thead>\n",
       "  <tbody>\n",
       "    <tr>\n",
       "      <th>4</th>\n",
       "      <td>0.058916</td>\n",
       "      <td>0.417817</td>\n",
       "      <td>0.609019</td>\n",
       "      <td>0.892734</td>\n",
       "      <td>0.505229</td>\n",
       "    </tr>\n",
       "  </tbody>\n",
       "</table>\n",
       "</div>"
      ],
      "text/plain": [
       "          A         B         C         D         E\n",
       "4  0.058916  0.417817  0.609019  0.892734  0.505229"
      ]
     },
     "execution_count": 79,
     "metadata": {},
     "output_type": "execute_result"
    }
   ],
   "source": [
    "ndnn.loc[(ndnn[\"A\"] < 0.55)]"
   ]
  },
  {
   "cell_type": "code",
   "execution_count": 82,
   "id": "67b98821",
   "metadata": {},
   "outputs": [],
   "source": [
    "# you can use & | \n"
   ]
  },
  {
   "cell_type": "code",
   "execution_count": 83,
   "id": "6a3de086",
   "metadata": {},
   "outputs": [
    {
     "data": {
      "text/plain": [
       "0.7309717834257307"
      ]
     },
     "execution_count": 83,
     "metadata": {},
     "output_type": "execute_result"
    }
   ],
   "source": [
    "ndnn.iloc[0,4]"
   ]
  },
  {
   "cell_type": "code",
   "execution_count": 85,
   "id": "a6947b22",
   "metadata": {},
   "outputs": [
    {
     "data": {
      "text/html": [
       "<div>\n",
       "<style scoped>\n",
       "    .dataframe tbody tr th:only-of-type {\n",
       "        vertical-align: middle;\n",
       "    }\n",
       "\n",
       "    .dataframe tbody tr th {\n",
       "        vertical-align: top;\n",
       "    }\n",
       "\n",
       "    .dataframe thead th {\n",
       "        text-align: right;\n",
       "    }\n",
       "</style>\n",
       "<table border=\"1\" class=\"dataframe\">\n",
       "  <thead>\n",
       "    <tr style=\"text-align: right;\">\n",
       "      <th></th>\n",
       "      <th>A</th>\n",
       "      <th>B</th>\n",
       "      <th>C</th>\n",
       "      <th>D</th>\n",
       "      <th>E</th>\n",
       "    </tr>\n",
       "  </thead>\n",
       "  <tbody>\n",
       "    <tr>\n",
       "      <th>0</th>\n",
       "      <td>15423</td>\n",
       "      <td>0.022837</td>\n",
       "      <td>0.046297</td>\n",
       "      <td>0.770105</td>\n",
       "      <td>0.730972</td>\n",
       "    </tr>\n",
       "    <tr>\n",
       "      <th>1</th>\n",
       "      <td>0.550071</td>\n",
       "      <td>0.710912</td>\n",
       "      <td>0.967879</td>\n",
       "      <td>0.835901</td>\n",
       "      <td>0.301165</td>\n",
       "    </tr>\n",
       "    <tr>\n",
       "      <th>2</th>\n",
       "      <td>0.912403</td>\n",
       "      <td>0.326307</td>\n",
       "      <td>0.496282</td>\n",
       "      <td>0.717827</td>\n",
       "      <td>0.437069</td>\n",
       "    </tr>\n",
       "    <tr>\n",
       "      <th>3</th>\n",
       "      <td>0.717718</td>\n",
       "      <td>0.031644</td>\n",
       "      <td>0.243032</td>\n",
       "      <td>0.341656</td>\n",
       "      <td>0.066220</td>\n",
       "    </tr>\n",
       "    <tr>\n",
       "      <th>4</th>\n",
       "      <td>0.058916</td>\n",
       "      <td>0.417817</td>\n",
       "      <td>0.609019</td>\n",
       "      <td>0.892734</td>\n",
       "      <td>0.505229</td>\n",
       "    </tr>\n",
       "  </tbody>\n",
       "</table>\n",
       "</div>"
      ],
      "text/plain": [
       "          A         B         C         D         E\n",
       "0     15423  0.022837  0.046297  0.770105  0.730972\n",
       "1  0.550071  0.710912  0.967879  0.835901  0.301165\n",
       "2  0.912403  0.326307  0.496282  0.717827  0.437069\n",
       "3  0.717718  0.031644  0.243032  0.341656  0.066220\n",
       "4  0.058916  0.417817  0.609019  0.892734  0.505229"
      ]
     },
     "execution_count": 85,
     "metadata": {},
     "output_type": "execute_result"
    }
   ],
   "source": [
    "ndnn"
   ]
  },
  {
   "cell_type": "code",
   "execution_count": 87,
   "id": "dc65244a",
   "metadata": {},
   "outputs": [],
   "source": [
    "# for use name use loc\n",
    "# otherwise use iloc"
   ]
  },
  {
   "cell_type": "code",
   "execution_count": 88,
   "id": "534cc7f5",
   "metadata": {},
   "outputs": [
    {
     "data": {
      "text/html": [
       "<div>\n",
       "<style scoped>\n",
       "    .dataframe tbody tr th:only-of-type {\n",
       "        vertical-align: middle;\n",
       "    }\n",
       "\n",
       "    .dataframe tbody tr th {\n",
       "        vertical-align: top;\n",
       "    }\n",
       "\n",
       "    .dataframe thead th {\n",
       "        text-align: right;\n",
       "    }\n",
       "</style>\n",
       "<table border=\"1\" class=\"dataframe\">\n",
       "  <thead>\n",
       "    <tr style=\"text-align: right;\">\n",
       "      <th></th>\n",
       "      <th>B</th>\n",
       "      <th>D</th>\n",
       "    </tr>\n",
       "  </thead>\n",
       "  <tbody>\n",
       "    <tr>\n",
       "      <th>0</th>\n",
       "      <td>0.022837</td>\n",
       "      <td>0.770105</td>\n",
       "    </tr>\n",
       "    <tr>\n",
       "      <th>3</th>\n",
       "      <td>0.031644</td>\n",
       "      <td>0.341656</td>\n",
       "    </tr>\n",
       "  </tbody>\n",
       "</table>\n",
       "</div>"
      ],
      "text/plain": [
       "          B         D\n",
       "0  0.022837  0.770105\n",
       "3  0.031644  0.341656"
      ]
     },
     "execution_count": 88,
     "metadata": {},
     "output_type": "execute_result"
    }
   ],
   "source": [
    "ndnn.iloc[[0,3],[1,3]]"
   ]
  },
  {
   "cell_type": "code",
   "execution_count": 89,
   "id": "299d8cc8",
   "metadata": {},
   "outputs": [
    {
     "data": {
      "text/html": [
       "<div>\n",
       "<style scoped>\n",
       "    .dataframe tbody tr th:only-of-type {\n",
       "        vertical-align: middle;\n",
       "    }\n",
       "\n",
       "    .dataframe tbody tr th {\n",
       "        vertical-align: top;\n",
       "    }\n",
       "\n",
       "    .dataframe thead th {\n",
       "        text-align: right;\n",
       "    }\n",
       "</style>\n",
       "<table border=\"1\" class=\"dataframe\">\n",
       "  <thead>\n",
       "    <tr style=\"text-align: right;\">\n",
       "      <th></th>\n",
       "      <th>A</th>\n",
       "      <th>B</th>\n",
       "      <th>C</th>\n",
       "      <th>D</th>\n",
       "      <th>E</th>\n",
       "    </tr>\n",
       "  </thead>\n",
       "  <tbody>\n",
       "    <tr>\n",
       "      <th>0</th>\n",
       "      <td>15423</td>\n",
       "      <td>0.022837</td>\n",
       "      <td>0.046297</td>\n",
       "      <td>0.770105</td>\n",
       "      <td>0.730972</td>\n",
       "    </tr>\n",
       "    <tr>\n",
       "      <th>1</th>\n",
       "      <td>0.550071</td>\n",
       "      <td>0.710912</td>\n",
       "      <td>0.967879</td>\n",
       "      <td>0.835901</td>\n",
       "      <td>0.301165</td>\n",
       "    </tr>\n",
       "    <tr>\n",
       "      <th>2</th>\n",
       "      <td>0.912403</td>\n",
       "      <td>0.326307</td>\n",
       "      <td>0.496282</td>\n",
       "      <td>0.717827</td>\n",
       "      <td>0.437069</td>\n",
       "    </tr>\n",
       "  </tbody>\n",
       "</table>\n",
       "</div>"
      ],
      "text/plain": [
       "          A         B         C         D         E\n",
       "0     15423  0.022837  0.046297  0.770105  0.730972\n",
       "1  0.550071  0.710912  0.967879  0.835901  0.301165\n",
       "2  0.912403  0.326307  0.496282  0.717827  0.437069"
      ]
     },
     "execution_count": 89,
     "metadata": {},
     "output_type": "execute_result"
    }
   ],
   "source": [
    "ndnn.head(3)"
   ]
  },
  {
   "cell_type": "code",
   "execution_count": 90,
   "id": "665e0f5e",
   "metadata": {},
   "outputs": [
    {
     "data": {
      "text/html": [
       "<div>\n",
       "<style scoped>\n",
       "    .dataframe tbody tr th:only-of-type {\n",
       "        vertical-align: middle;\n",
       "    }\n",
       "\n",
       "    .dataframe tbody tr th {\n",
       "        vertical-align: top;\n",
       "    }\n",
       "\n",
       "    .dataframe thead th {\n",
       "        text-align: right;\n",
       "    }\n",
       "</style>\n",
       "<table border=\"1\" class=\"dataframe\">\n",
       "  <thead>\n",
       "    <tr style=\"text-align: right;\">\n",
       "      <th></th>\n",
       "      <th>A</th>\n",
       "      <th>B</th>\n",
       "      <th>C</th>\n",
       "      <th>D</th>\n",
       "      <th>E</th>\n",
       "    </tr>\n",
       "  </thead>\n",
       "  <tbody>\n",
       "    <tr>\n",
       "      <th>1</th>\n",
       "      <td>0.550071</td>\n",
       "      <td>0.710912</td>\n",
       "      <td>0.967879</td>\n",
       "      <td>0.835901</td>\n",
       "      <td>0.301165</td>\n",
       "    </tr>\n",
       "    <tr>\n",
       "      <th>2</th>\n",
       "      <td>0.912403</td>\n",
       "      <td>0.326307</td>\n",
       "      <td>0.496282</td>\n",
       "      <td>0.717827</td>\n",
       "      <td>0.437069</td>\n",
       "    </tr>\n",
       "    <tr>\n",
       "      <th>3</th>\n",
       "      <td>0.717718</td>\n",
       "      <td>0.031644</td>\n",
       "      <td>0.243032</td>\n",
       "      <td>0.341656</td>\n",
       "      <td>0.066220</td>\n",
       "    </tr>\n",
       "    <tr>\n",
       "      <th>4</th>\n",
       "      <td>0.058916</td>\n",
       "      <td>0.417817</td>\n",
       "      <td>0.609019</td>\n",
       "      <td>0.892734</td>\n",
       "      <td>0.505229</td>\n",
       "    </tr>\n",
       "  </tbody>\n",
       "</table>\n",
       "</div>"
      ],
      "text/plain": [
       "          A         B         C         D         E\n",
       "1  0.550071  0.710912  0.967879  0.835901  0.301165\n",
       "2  0.912403  0.326307  0.496282  0.717827  0.437069\n",
       "3  0.717718  0.031644  0.243032  0.341656  0.066220\n",
       "4  0.058916  0.417817  0.609019  0.892734  0.505229"
      ]
     },
     "execution_count": 90,
     "metadata": {},
     "output_type": "execute_result"
    }
   ],
   "source": [
    "ndnn.drop([0])"
   ]
  },
  {
   "cell_type": "code",
   "execution_count": 92,
   "id": "ed26a51b",
   "metadata": {},
   "outputs": [
    {
     "data": {
      "text/html": [
       "<div>\n",
       "<style scoped>\n",
       "    .dataframe tbody tr th:only-of-type {\n",
       "        vertical-align: middle;\n",
       "    }\n",
       "\n",
       "    .dataframe tbody tr th {\n",
       "        vertical-align: top;\n",
       "    }\n",
       "\n",
       "    .dataframe thead th {\n",
       "        text-align: right;\n",
       "    }\n",
       "</style>\n",
       "<table border=\"1\" class=\"dataframe\">\n",
       "  <thead>\n",
       "    <tr style=\"text-align: right;\">\n",
       "      <th></th>\n",
       "      <th>B</th>\n",
       "      <th>D</th>\n",
       "      <th>E</th>\n",
       "    </tr>\n",
       "  </thead>\n",
       "  <tbody>\n",
       "    <tr>\n",
       "      <th>0</th>\n",
       "      <td>0.022837</td>\n",
       "      <td>0.770105</td>\n",
       "      <td>0.730972</td>\n",
       "    </tr>\n",
       "    <tr>\n",
       "      <th>1</th>\n",
       "      <td>0.710912</td>\n",
       "      <td>0.835901</td>\n",
       "      <td>0.301165</td>\n",
       "    </tr>\n",
       "    <tr>\n",
       "      <th>2</th>\n",
       "      <td>0.326307</td>\n",
       "      <td>0.717827</td>\n",
       "      <td>0.437069</td>\n",
       "    </tr>\n",
       "    <tr>\n",
       "      <th>3</th>\n",
       "      <td>0.031644</td>\n",
       "      <td>0.341656</td>\n",
       "      <td>0.066220</td>\n",
       "    </tr>\n",
       "    <tr>\n",
       "      <th>4</th>\n",
       "      <td>0.417817</td>\n",
       "      <td>0.892734</td>\n",
       "      <td>0.505229</td>\n",
       "    </tr>\n",
       "  </tbody>\n",
       "</table>\n",
       "</div>"
      ],
      "text/plain": [
       "          B         D         E\n",
       "0  0.022837  0.770105  0.730972\n",
       "1  0.710912  0.835901  0.301165\n",
       "2  0.326307  0.717827  0.437069\n",
       "3  0.031644  0.341656  0.066220\n",
       "4  0.417817  0.892734  0.505229"
      ]
     },
     "execution_count": 92,
     "metadata": {},
     "output_type": "execute_result"
    }
   ],
   "source": [
    "ndnn.drop(['A', 'C'] ,axis =1)"
   ]
  },
  {
   "cell_type": "code",
   "execution_count": 93,
   "id": "57a4aabc",
   "metadata": {},
   "outputs": [
    {
     "data": {
      "text/html": [
       "<div>\n",
       "<style scoped>\n",
       "    .dataframe tbody tr th:only-of-type {\n",
       "        vertical-align: middle;\n",
       "    }\n",
       "\n",
       "    .dataframe tbody tr th {\n",
       "        vertical-align: top;\n",
       "    }\n",
       "\n",
       "    .dataframe thead th {\n",
       "        text-align: right;\n",
       "    }\n",
       "</style>\n",
       "<table border=\"1\" class=\"dataframe\">\n",
       "  <thead>\n",
       "    <tr style=\"text-align: right;\">\n",
       "      <th></th>\n",
       "      <th>A</th>\n",
       "      <th>B</th>\n",
       "      <th>C</th>\n",
       "      <th>D</th>\n",
       "      <th>E</th>\n",
       "    </tr>\n",
       "  </thead>\n",
       "  <tbody>\n",
       "    <tr>\n",
       "      <th>0</th>\n",
       "      <td>15423</td>\n",
       "      <td>0.022837</td>\n",
       "      <td>0.046297</td>\n",
       "      <td>0.770105</td>\n",
       "      <td>0.730972</td>\n",
       "    </tr>\n",
       "    <tr>\n",
       "      <th>1</th>\n",
       "      <td>0.550071</td>\n",
       "      <td>0.710912</td>\n",
       "      <td>0.967879</td>\n",
       "      <td>0.835901</td>\n",
       "      <td>0.301165</td>\n",
       "    </tr>\n",
       "    <tr>\n",
       "      <th>2</th>\n",
       "      <td>0.912403</td>\n",
       "      <td>0.326307</td>\n",
       "      <td>0.496282</td>\n",
       "      <td>0.717827</td>\n",
       "      <td>0.437069</td>\n",
       "    </tr>\n",
       "    <tr>\n",
       "      <th>3</th>\n",
       "      <td>0.717718</td>\n",
       "      <td>0.031644</td>\n",
       "      <td>0.243032</td>\n",
       "      <td>0.341656</td>\n",
       "      <td>0.066220</td>\n",
       "    </tr>\n",
       "    <tr>\n",
       "      <th>4</th>\n",
       "      <td>0.058916</td>\n",
       "      <td>0.417817</td>\n",
       "      <td>0.609019</td>\n",
       "      <td>0.892734</td>\n",
       "      <td>0.505229</td>\n",
       "    </tr>\n",
       "  </tbody>\n",
       "</table>\n",
       "</div>"
      ],
      "text/plain": [
       "          A         B         C         D         E\n",
       "0     15423  0.022837  0.046297  0.770105  0.730972\n",
       "1  0.550071  0.710912  0.967879  0.835901  0.301165\n",
       "2  0.912403  0.326307  0.496282  0.717827  0.437069\n",
       "3  0.717718  0.031644  0.243032  0.341656  0.066220\n",
       "4  0.058916  0.417817  0.609019  0.892734  0.505229"
      ]
     },
     "execution_count": 93,
     "metadata": {},
     "output_type": "execute_result"
    }
   ],
   "source": [
    "ndnn"
   ]
  },
  {
   "cell_type": "code",
   "execution_count": 94,
   "id": "8568f3f5",
   "metadata": {},
   "outputs": [],
   "source": [
    "#  inplace is = true "
   ]
  },
  {
   "cell_type": "code",
   "execution_count": 95,
   "id": "a5d50376",
   "metadata": {},
   "outputs": [],
   "source": [
    "#   .reset_index                drop = true   inplace true"
   ]
  },
  {
   "cell_type": "code",
   "execution_count": 96,
   "id": "96351b0e",
   "metadata": {},
   "outputs": [
    {
     "data": {
      "text/html": [
       "<div>\n",
       "<style scoped>\n",
       "    .dataframe tbody tr th:only-of-type {\n",
       "        vertical-align: middle;\n",
       "    }\n",
       "\n",
       "    .dataframe tbody tr th {\n",
       "        vertical-align: top;\n",
       "    }\n",
       "\n",
       "    .dataframe thead th {\n",
       "        text-align: right;\n",
       "    }\n",
       "</style>\n",
       "<table border=\"1\" class=\"dataframe\">\n",
       "  <thead>\n",
       "    <tr style=\"text-align: right;\">\n",
       "      <th></th>\n",
       "      <th>A</th>\n",
       "      <th>B</th>\n",
       "      <th>C</th>\n",
       "      <th>D</th>\n",
       "      <th>E</th>\n",
       "    </tr>\n",
       "  </thead>\n",
       "  <tbody>\n",
       "    <tr>\n",
       "      <th>0</th>\n",
       "      <td>15423</td>\n",
       "      <td>0.022837</td>\n",
       "      <td>0.046297</td>\n",
       "      <td>0.770105</td>\n",
       "      <td>0.730972</td>\n",
       "    </tr>\n",
       "    <tr>\n",
       "      <th>2</th>\n",
       "      <td>0.912403</td>\n",
       "      <td>0.326307</td>\n",
       "      <td>0.496282</td>\n",
       "      <td>0.717827</td>\n",
       "      <td>0.437069</td>\n",
       "    </tr>\n",
       "    <tr>\n",
       "      <th>3</th>\n",
       "      <td>0.717718</td>\n",
       "      <td>0.031644</td>\n",
       "      <td>0.243032</td>\n",
       "      <td>0.341656</td>\n",
       "      <td>0.066220</td>\n",
       "    </tr>\n",
       "    <tr>\n",
       "      <th>4</th>\n",
       "      <td>0.058916</td>\n",
       "      <td>0.417817</td>\n",
       "      <td>0.609019</td>\n",
       "      <td>0.892734</td>\n",
       "      <td>0.505229</td>\n",
       "    </tr>\n",
       "  </tbody>\n",
       "</table>\n",
       "</div>"
      ],
      "text/plain": [
       "          A         B         C         D         E\n",
       "0     15423  0.022837  0.046297  0.770105  0.730972\n",
       "2  0.912403  0.326307  0.496282  0.717827  0.437069\n",
       "3  0.717718  0.031644  0.243032  0.341656  0.066220\n",
       "4  0.058916  0.417817  0.609019  0.892734  0.505229"
      ]
     },
     "execution_count": 96,
     "metadata": {},
     "output_type": "execute_result"
    }
   ],
   "source": [
    "ndnn.drop([1])"
   ]
  },
  {
   "cell_type": "code",
   "execution_count": 97,
   "id": "4dba3082",
   "metadata": {},
   "outputs": [
    {
     "data": {
      "text/html": [
       "<div>\n",
       "<style scoped>\n",
       "    .dataframe tbody tr th:only-of-type {\n",
       "        vertical-align: middle;\n",
       "    }\n",
       "\n",
       "    .dataframe tbody tr th {\n",
       "        vertical-align: top;\n",
       "    }\n",
       "\n",
       "    .dataframe thead th {\n",
       "        text-align: right;\n",
       "    }\n",
       "</style>\n",
       "<table border=\"1\" class=\"dataframe\">\n",
       "  <thead>\n",
       "    <tr style=\"text-align: right;\">\n",
       "      <th></th>\n",
       "      <th>A</th>\n",
       "      <th>C</th>\n",
       "      <th>D</th>\n",
       "      <th>E</th>\n",
       "    </tr>\n",
       "  </thead>\n",
       "  <tbody>\n",
       "    <tr>\n",
       "      <th>0</th>\n",
       "      <td>15423</td>\n",
       "      <td>0.046297</td>\n",
       "      <td>0.770105</td>\n",
       "      <td>0.730972</td>\n",
       "    </tr>\n",
       "    <tr>\n",
       "      <th>1</th>\n",
       "      <td>0.550071</td>\n",
       "      <td>0.967879</td>\n",
       "      <td>0.835901</td>\n",
       "      <td>0.301165</td>\n",
       "    </tr>\n",
       "    <tr>\n",
       "      <th>2</th>\n",
       "      <td>0.912403</td>\n",
       "      <td>0.496282</td>\n",
       "      <td>0.717827</td>\n",
       "      <td>0.437069</td>\n",
       "    </tr>\n",
       "    <tr>\n",
       "      <th>3</th>\n",
       "      <td>0.717718</td>\n",
       "      <td>0.243032</td>\n",
       "      <td>0.341656</td>\n",
       "      <td>0.066220</td>\n",
       "    </tr>\n",
       "    <tr>\n",
       "      <th>4</th>\n",
       "      <td>0.058916</td>\n",
       "      <td>0.609019</td>\n",
       "      <td>0.892734</td>\n",
       "      <td>0.505229</td>\n",
       "    </tr>\n",
       "  </tbody>\n",
       "</table>\n",
       "</div>"
      ],
      "text/plain": [
       "          A         C         D         E\n",
       "0     15423  0.046297  0.770105  0.730972\n",
       "1  0.550071  0.967879  0.835901  0.301165\n",
       "2  0.912403  0.496282  0.717827  0.437069\n",
       "3  0.717718  0.243032  0.341656  0.066220\n",
       "4  0.058916  0.609019  0.892734  0.505229"
      ]
     },
     "execution_count": 97,
     "metadata": {},
     "output_type": "execute_result"
    }
   ],
   "source": [
    "ndnn.drop([\"B\"] , axis = 1)"
   ]
  },
  {
   "cell_type": "code",
   "execution_count": 98,
   "id": "616b0551",
   "metadata": {},
   "outputs": [
    {
     "data": {
      "text/html": [
       "<div>\n",
       "<style scoped>\n",
       "    .dataframe tbody tr th:only-of-type {\n",
       "        vertical-align: middle;\n",
       "    }\n",
       "\n",
       "    .dataframe tbody tr th {\n",
       "        vertical-align: top;\n",
       "    }\n",
       "\n",
       "    .dataframe thead th {\n",
       "        text-align: right;\n",
       "    }\n",
       "</style>\n",
       "<table border=\"1\" class=\"dataframe\">\n",
       "  <thead>\n",
       "    <tr style=\"text-align: right;\">\n",
       "      <th></th>\n",
       "      <th>A</th>\n",
       "      <th>B</th>\n",
       "      <th>C</th>\n",
       "      <th>D</th>\n",
       "      <th>E</th>\n",
       "    </tr>\n",
       "  </thead>\n",
       "  <tbody>\n",
       "    <tr>\n",
       "      <th>0</th>\n",
       "      <td>15423</td>\n",
       "      <td>0.022837</td>\n",
       "      <td>0.046297</td>\n",
       "      <td>0.770105</td>\n",
       "      <td>0.730972</td>\n",
       "    </tr>\n",
       "    <tr>\n",
       "      <th>1</th>\n",
       "      <td>0.550071</td>\n",
       "      <td>0.710912</td>\n",
       "      <td>0.967879</td>\n",
       "      <td>0.835901</td>\n",
       "      <td>0.301165</td>\n",
       "    </tr>\n",
       "    <tr>\n",
       "      <th>2</th>\n",
       "      <td>0.912403</td>\n",
       "      <td>0.326307</td>\n",
       "      <td>0.496282</td>\n",
       "      <td>0.717827</td>\n",
       "      <td>0.437069</td>\n",
       "    </tr>\n",
       "    <tr>\n",
       "      <th>3</th>\n",
       "      <td>0.717718</td>\n",
       "      <td>0.031644</td>\n",
       "      <td>0.243032</td>\n",
       "      <td>0.341656</td>\n",
       "      <td>0.066220</td>\n",
       "    </tr>\n",
       "    <tr>\n",
       "      <th>4</th>\n",
       "      <td>0.058916</td>\n",
       "      <td>0.417817</td>\n",
       "      <td>0.609019</td>\n",
       "      <td>0.892734</td>\n",
       "      <td>0.505229</td>\n",
       "    </tr>\n",
       "  </tbody>\n",
       "</table>\n",
       "</div>"
      ],
      "text/plain": [
       "          A         B         C         D         E\n",
       "0     15423  0.022837  0.046297  0.770105  0.730972\n",
       "1  0.550071  0.710912  0.967879  0.835901  0.301165\n",
       "2  0.912403  0.326307  0.496282  0.717827  0.437069\n",
       "3  0.717718  0.031644  0.243032  0.341656  0.066220\n",
       "4  0.058916  0.417817  0.609019  0.892734  0.505229"
      ]
     },
     "execution_count": 98,
     "metadata": {},
     "output_type": "execute_result"
    }
   ],
   "source": [
    "ndnn"
   ]
  },
  {
   "cell_type": "code",
   "execution_count": 99,
   "id": "5bf89848",
   "metadata": {},
   "outputs": [],
   "source": [
    "# for duplicate    drop_duplicates()\n",
    "\n"
   ]
  },
  {
   "cell_type": "code",
   "execution_count": 100,
   "id": "f802b52d",
   "metadata": {},
   "outputs": [],
   "source": [
    "ndnn[\"B\"] = None"
   ]
  },
  {
   "cell_type": "code",
   "execution_count": 101,
   "id": "8342bcaa",
   "metadata": {},
   "outputs": [
    {
     "data": {
      "text/html": [
       "<div>\n",
       "<style scoped>\n",
       "    .dataframe tbody tr th:only-of-type {\n",
       "        vertical-align: middle;\n",
       "    }\n",
       "\n",
       "    .dataframe tbody tr th {\n",
       "        vertical-align: top;\n",
       "    }\n",
       "\n",
       "    .dataframe thead th {\n",
       "        text-align: right;\n",
       "    }\n",
       "</style>\n",
       "<table border=\"1\" class=\"dataframe\">\n",
       "  <thead>\n",
       "    <tr style=\"text-align: right;\">\n",
       "      <th></th>\n",
       "      <th>A</th>\n",
       "      <th>B</th>\n",
       "      <th>C</th>\n",
       "      <th>D</th>\n",
       "      <th>E</th>\n",
       "    </tr>\n",
       "  </thead>\n",
       "  <tbody>\n",
       "    <tr>\n",
       "      <th>0</th>\n",
       "      <td>15423</td>\n",
       "      <td>None</td>\n",
       "      <td>0.046297</td>\n",
       "      <td>0.770105</td>\n",
       "      <td>0.730972</td>\n",
       "    </tr>\n",
       "    <tr>\n",
       "      <th>1</th>\n",
       "      <td>0.550071</td>\n",
       "      <td>None</td>\n",
       "      <td>0.967879</td>\n",
       "      <td>0.835901</td>\n",
       "      <td>0.301165</td>\n",
       "    </tr>\n",
       "    <tr>\n",
       "      <th>2</th>\n",
       "      <td>0.912403</td>\n",
       "      <td>None</td>\n",
       "      <td>0.496282</td>\n",
       "      <td>0.717827</td>\n",
       "      <td>0.437069</td>\n",
       "    </tr>\n",
       "    <tr>\n",
       "      <th>3</th>\n",
       "      <td>0.717718</td>\n",
       "      <td>None</td>\n",
       "      <td>0.243032</td>\n",
       "      <td>0.341656</td>\n",
       "      <td>0.066220</td>\n",
       "    </tr>\n",
       "    <tr>\n",
       "      <th>4</th>\n",
       "      <td>0.058916</td>\n",
       "      <td>None</td>\n",
       "      <td>0.609019</td>\n",
       "      <td>0.892734</td>\n",
       "      <td>0.505229</td>\n",
       "    </tr>\n",
       "  </tbody>\n",
       "</table>\n",
       "</div>"
      ],
      "text/plain": [
       "          A     B         C         D         E\n",
       "0     15423  None  0.046297  0.770105  0.730972\n",
       "1  0.550071  None  0.967879  0.835901  0.301165\n",
       "2  0.912403  None  0.496282  0.717827  0.437069\n",
       "3  0.717718  None  0.243032  0.341656  0.066220\n",
       "4  0.058916  None  0.609019  0.892734  0.505229"
      ]
     },
     "execution_count": 101,
     "metadata": {},
     "output_type": "execute_result"
    }
   ],
   "source": [
    "ndnn"
   ]
  },
  {
   "cell_type": "code",
   "execution_count": 105,
   "id": "c2b123a0",
   "metadata": {},
   "outputs": [
    {
     "data": {
      "text/html": [
       "<div>\n",
       "<style scoped>\n",
       "    .dataframe tbody tr th:only-of-type {\n",
       "        vertical-align: middle;\n",
       "    }\n",
       "\n",
       "    .dataframe tbody tr th {\n",
       "        vertical-align: top;\n",
       "    }\n",
       "\n",
       "    .dataframe thead th {\n",
       "        text-align: right;\n",
       "    }\n",
       "</style>\n",
       "<table border=\"1\" class=\"dataframe\">\n",
       "  <thead>\n",
       "    <tr style=\"text-align: right;\">\n",
       "      <th></th>\n",
       "      <th>B</th>\n",
       "    </tr>\n",
       "  </thead>\n",
       "  <tbody>\n",
       "    <tr>\n",
       "      <th>0</th>\n",
       "      <td>True</td>\n",
       "    </tr>\n",
       "    <tr>\n",
       "      <th>1</th>\n",
       "      <td>True</td>\n",
       "    </tr>\n",
       "    <tr>\n",
       "      <th>2</th>\n",
       "      <td>True</td>\n",
       "    </tr>\n",
       "    <tr>\n",
       "      <th>3</th>\n",
       "      <td>True</td>\n",
       "    </tr>\n",
       "    <tr>\n",
       "      <th>4</th>\n",
       "      <td>True</td>\n",
       "    </tr>\n",
       "  </tbody>\n",
       "</table>\n",
       "</div>"
      ],
      "text/plain": [
       "      B\n",
       "0  True\n",
       "1  True\n",
       "2  True\n",
       "3  True\n",
       "4  True"
      ]
     },
     "execution_count": 105,
     "metadata": {},
     "output_type": "execute_result"
    }
   ],
   "source": [
    "ndnn[[\"B\"]].isnull()"
   ]
  },
  {
   "cell_type": "code",
   "execution_count": 106,
   "id": "0c2c0c68",
   "metadata": {},
   "outputs": [
    {
     "name": "stderr",
     "output_type": "stream",
     "text": [
      "C:\\Users\\dhruv\\AppData\\Local\\Temp\\ipykernel_2184\\698504783.py:1: FutureWarning: In a future version, `df.iloc[:, i] = newvals` will attempt to set the values inplace instead of always setting a new array. To retain the old behavior, use either `df[df.columns[i]] = newvals` or, if columns are non-unique, `df.isetitem(i, newvals)`\n",
      "  ndnn.loc[:, [\"B\"]] = 34\n"
     ]
    }
   ],
   "source": [
    "ndnn.loc[:, [\"B\"]] = 34"
   ]
  },
  {
   "cell_type": "code",
   "execution_count": 107,
   "id": "ec671177",
   "metadata": {},
   "outputs": [
    {
     "data": {
      "text/html": [
       "<div>\n",
       "<style scoped>\n",
       "    .dataframe tbody tr th:only-of-type {\n",
       "        vertical-align: middle;\n",
       "    }\n",
       "\n",
       "    .dataframe tbody tr th {\n",
       "        vertical-align: top;\n",
       "    }\n",
       "\n",
       "    .dataframe thead th {\n",
       "        text-align: right;\n",
       "    }\n",
       "</style>\n",
       "<table border=\"1\" class=\"dataframe\">\n",
       "  <thead>\n",
       "    <tr style=\"text-align: right;\">\n",
       "      <th></th>\n",
       "      <th>A</th>\n",
       "      <th>B</th>\n",
       "      <th>C</th>\n",
       "      <th>D</th>\n",
       "      <th>E</th>\n",
       "    </tr>\n",
       "  </thead>\n",
       "  <tbody>\n",
       "    <tr>\n",
       "      <th>0</th>\n",
       "      <td>15423</td>\n",
       "      <td>34</td>\n",
       "      <td>0.046297</td>\n",
       "      <td>0.770105</td>\n",
       "      <td>0.730972</td>\n",
       "    </tr>\n",
       "    <tr>\n",
       "      <th>1</th>\n",
       "      <td>0.550071</td>\n",
       "      <td>34</td>\n",
       "      <td>0.967879</td>\n",
       "      <td>0.835901</td>\n",
       "      <td>0.301165</td>\n",
       "    </tr>\n",
       "    <tr>\n",
       "      <th>2</th>\n",
       "      <td>0.912403</td>\n",
       "      <td>34</td>\n",
       "      <td>0.496282</td>\n",
       "      <td>0.717827</td>\n",
       "      <td>0.437069</td>\n",
       "    </tr>\n",
       "    <tr>\n",
       "      <th>3</th>\n",
       "      <td>0.717718</td>\n",
       "      <td>34</td>\n",
       "      <td>0.243032</td>\n",
       "      <td>0.341656</td>\n",
       "      <td>0.066220</td>\n",
       "    </tr>\n",
       "    <tr>\n",
       "      <th>4</th>\n",
       "      <td>0.058916</td>\n",
       "      <td>34</td>\n",
       "      <td>0.609019</td>\n",
       "      <td>0.892734</td>\n",
       "      <td>0.505229</td>\n",
       "    </tr>\n",
       "  </tbody>\n",
       "</table>\n",
       "</div>"
      ],
      "text/plain": [
       "          A   B         C         D         E\n",
       "0     15423  34  0.046297  0.770105  0.730972\n",
       "1  0.550071  34  0.967879  0.835901  0.301165\n",
       "2  0.912403  34  0.496282  0.717827  0.437069\n",
       "3  0.717718  34  0.243032  0.341656  0.066220\n",
       "4  0.058916  34  0.609019  0.892734  0.505229"
      ]
     },
     "execution_count": 107,
     "metadata": {},
     "output_type": "execute_result"
    }
   ],
   "source": [
    "ndnn"
   ]
  },
  {
   "cell_type": "code",
   "execution_count": 119,
   "id": "89aa3feb",
   "metadata": {},
   "outputs": [],
   "source": [
    "ndnn.iloc[:, [1]] = 0"
   ]
  },
  {
   "cell_type": "code",
   "execution_count": 116,
   "id": "5ac34f1d",
   "metadata": {},
   "outputs": [
    {
     "data": {
      "text/html": [
       "<div>\n",
       "<style scoped>\n",
       "    .dataframe tbody tr th:only-of-type {\n",
       "        vertical-align: middle;\n",
       "    }\n",
       "\n",
       "    .dataframe tbody tr th {\n",
       "        vertical-align: top;\n",
       "    }\n",
       "\n",
       "    .dataframe thead th {\n",
       "        text-align: right;\n",
       "    }\n",
       "</style>\n",
       "<table border=\"1\" class=\"dataframe\">\n",
       "  <thead>\n",
       "    <tr style=\"text-align: right;\">\n",
       "      <th></th>\n",
       "      <th>A</th>\n",
       "      <th>B</th>\n",
       "      <th>C</th>\n",
       "      <th>D</th>\n",
       "      <th>E</th>\n",
       "    </tr>\n",
       "  </thead>\n",
       "  <tbody>\n",
       "    <tr>\n",
       "      <th>0</th>\n",
       "      <td>15423</td>\n",
       "      <td>34</td>\n",
       "      <td>0.046297</td>\n",
       "      <td>0.770105</td>\n",
       "      <td>0.730972</td>\n",
       "    </tr>\n",
       "    <tr>\n",
       "      <th>1</th>\n",
       "      <td>0.550071</td>\n",
       "      <td>34</td>\n",
       "      <td>0.967879</td>\n",
       "      <td>0.835901</td>\n",
       "      <td>0.301165</td>\n",
       "    </tr>\n",
       "    <tr>\n",
       "      <th>2</th>\n",
       "      <td>0.912403</td>\n",
       "      <td>34</td>\n",
       "      <td>0.496282</td>\n",
       "      <td>0.717827</td>\n",
       "      <td>0.437069</td>\n",
       "    </tr>\n",
       "    <tr>\n",
       "      <th>3</th>\n",
       "      <td>0.717718</td>\n",
       "      <td>34</td>\n",
       "      <td>0.243032</td>\n",
       "      <td>0.341656</td>\n",
       "      <td>0.066220</td>\n",
       "    </tr>\n",
       "    <tr>\n",
       "      <th>4</th>\n",
       "      <td>0.058916</td>\n",
       "      <td>34</td>\n",
       "      <td>0.609019</td>\n",
       "      <td>0.892734</td>\n",
       "      <td>0.505229</td>\n",
       "    </tr>\n",
       "  </tbody>\n",
       "</table>\n",
       "</div>"
      ],
      "text/plain": [
       "          A   B         C         D         E\n",
       "0     15423  34  0.046297  0.770105  0.730972\n",
       "1  0.550071  34  0.967879  0.835901  0.301165\n",
       "2  0.912403  34  0.496282  0.717827  0.437069\n",
       "3  0.717718  34  0.243032  0.341656  0.066220\n",
       "4  0.058916  34  0.609019  0.892734  0.505229"
      ]
     },
     "execution_count": 116,
     "metadata": {},
     "output_type": "execute_result"
    }
   ],
   "source": [
    "ndnn"
   ]
  },
  {
   "cell_type": "code",
   "execution_count": 120,
   "id": "9d385ad8",
   "metadata": {},
   "outputs": [
    {
     "data": {
      "text/html": [
       "<div>\n",
       "<style scoped>\n",
       "    .dataframe tbody tr th:only-of-type {\n",
       "        vertical-align: middle;\n",
       "    }\n",
       "\n",
       "    .dataframe tbody tr th {\n",
       "        vertical-align: top;\n",
       "    }\n",
       "\n",
       "    .dataframe thead th {\n",
       "        text-align: right;\n",
       "    }\n",
       "</style>\n",
       "<table border=\"1\" class=\"dataframe\">\n",
       "  <thead>\n",
       "    <tr style=\"text-align: right;\">\n",
       "      <th></th>\n",
       "      <th>A</th>\n",
       "      <th>B</th>\n",
       "      <th>C</th>\n",
       "      <th>D</th>\n",
       "      <th>E</th>\n",
       "    </tr>\n",
       "  </thead>\n",
       "  <tbody>\n",
       "    <tr>\n",
       "      <th>0</th>\n",
       "      <td>15423</td>\n",
       "      <td>0</td>\n",
       "      <td>0.046297</td>\n",
       "      <td>0.770105</td>\n",
       "      <td>0.730972</td>\n",
       "    </tr>\n",
       "    <tr>\n",
       "      <th>1</th>\n",
       "      <td>0.550071</td>\n",
       "      <td>0</td>\n",
       "      <td>0.967879</td>\n",
       "      <td>0.835901</td>\n",
       "      <td>0.301165</td>\n",
       "    </tr>\n",
       "    <tr>\n",
       "      <th>2</th>\n",
       "      <td>0.912403</td>\n",
       "      <td>0</td>\n",
       "      <td>0.496282</td>\n",
       "      <td>0.717827</td>\n",
       "      <td>0.437069</td>\n",
       "    </tr>\n",
       "    <tr>\n",
       "      <th>3</th>\n",
       "      <td>0.717718</td>\n",
       "      <td>0</td>\n",
       "      <td>0.243032</td>\n",
       "      <td>0.341656</td>\n",
       "      <td>0.066220</td>\n",
       "    </tr>\n",
       "    <tr>\n",
       "      <th>4</th>\n",
       "      <td>0.058916</td>\n",
       "      <td>0</td>\n",
       "      <td>0.609019</td>\n",
       "      <td>0.892734</td>\n",
       "      <td>0.505229</td>\n",
       "    </tr>\n",
       "  </tbody>\n",
       "</table>\n",
       "</div>"
      ],
      "text/plain": [
       "          A  B         C         D         E\n",
       "0     15423  0  0.046297  0.770105  0.730972\n",
       "1  0.550071  0  0.967879  0.835901  0.301165\n",
       "2  0.912403  0  0.496282  0.717827  0.437069\n",
       "3  0.717718  0  0.243032  0.341656  0.066220\n",
       "4  0.058916  0  0.609019  0.892734  0.505229"
      ]
     },
     "execution_count": 120,
     "metadata": {},
     "output_type": "execute_result"
    }
   ],
   "source": [
    "ndnn"
   ]
  },
  {
   "cell_type": "code",
   "execution_count": 126,
   "id": "3e2d9445",
   "metadata": {},
   "outputs": [],
   "source": [
    "# drop_duplicates        subset   keep  \n",
    "\n",
    "\n",
    "# df.shape\n",
    "\n",
    "# df.info()\n",
    "\n"
   ]
  },
  {
   "cell_type": "code",
   "execution_count": 127,
   "id": "b9587459",
   "metadata": {},
   "outputs": [],
   "source": [
    "# .value_count    \n",
    "\n",
    "#   drop  = False True\n",
    "\n",
    "# .isnull()\n"
   ]
  },
  {
   "cell_type": "code",
   "execution_count": 128,
   "id": "5c8fb881",
   "metadata": {},
   "outputs": [
    {
     "ename": "SyntaxError",
     "evalue": "invalid syntax (569784971.py, line 1)",
     "output_type": "error",
     "traceback": [
      "\u001b[1;36m  Cell \u001b[1;32mIn[128], line 1\u001b[1;36m\u001b[0m\n\u001b[1;33m    creat dataframe which contain only 3 method\u001b[0m\n\u001b[1;37m          ^\u001b[0m\n\u001b[1;31mSyntaxError\u001b[0m\u001b[1;31m:\u001b[0m invalid syntax\n"
     ]
    }
   ],
   "source": [
    "creat dataframe which contain only 3 method \n",
    "df.describe() "
   ]
  },
  {
   "cell_type": "code",
   "execution_count": 129,
   "id": "97ec22a0",
   "metadata": {},
   "outputs": [
    {
     "name": "stdout",
     "output_type": "stream",
     "text": [
      "<class 'pandas.core.frame.DataFrame'>\n",
      "RangeIndex: 4 entries, 0 to 3\n",
      "Data columns (total 3 columns):\n",
      " #   Column  Non-Null Count  Dtype \n",
      "---  ------  --------------  ----- \n",
      " 0   name    4 non-null      object\n",
      " 1   age     4 non-null      int64 \n",
      " 2   work    4 non-null      object\n",
      "dtypes: int64(1), object(2)\n",
      "memory usage: 224.0+ bytes\n"
     ]
    },
    {
     "name": "stderr",
     "output_type": "stream",
     "text": [
      "C:\\Users\\dhruv\\AppData\\Local\\Temp\\ipykernel_2184\\2934897180.py:3: FutureWarning: The default value of numeric_only in DataFrame.median is deprecated. In a future version, it will default to False. In addition, specifying 'numeric_only=None' is deprecated. Select only valid columns or specify the value of numeric_only to silence this warning.\n",
      "  df.median()\n",
      "C:\\Users\\dhruv\\AppData\\Local\\Temp\\ipykernel_2184\\2934897180.py:4: FutureWarning: The default value of numeric_only in DataFrame.mean is deprecated. In a future version, it will default to False. In addition, specifying 'numeric_only=None' is deprecated. Select only valid columns or specify the value of numeric_only to silence this warning.\n",
      "  df.mean()\n",
      "C:\\Users\\dhruv\\AppData\\Local\\Temp\\ipykernel_2184\\2934897180.py:5: FutureWarning: The default value of numeric_only in DataFrame.corr is deprecated. In a future version, it will default to False. Select only valid columns or specify the value of numeric_only to silence this warning.\n",
      "  df.corr()\n",
      "C:\\Users\\dhruv\\AppData\\Local\\Temp\\ipykernel_2184\\2934897180.py:6: FutureWarning: The default value of numeric_only in DataFrame.std is deprecated. In a future version, it will default to False. In addition, specifying 'numeric_only=None' is deprecated. Select only valid columns or specify the value of numeric_only to silence this warning.\n",
      "  df.std()\n"
     ]
    }
   ],
   "source": [
    "df.count()\n",
    "df.min()\n",
    "df.median()\n",
    "df.mean()\n",
    "df.corr()\n",
    "df.std()\n",
    "df.info()"
   ]
  },
  {
   "cell_type": "code",
   "execution_count": 131,
   "id": "7a4fc6ae",
   "metadata": {},
   "outputs": [],
   "source": [
    "# .read_excle\n",
    "\n",
    "\n",
    "# loc\n",
    "# iloc"
   ]
  },
  {
   "cell_type": "code",
   "execution_count": null,
   "id": "a7387f7f",
   "metadata": {},
   "outputs": [],
   "source": [
    "# .xlsx"
   ]
  }
 ],
 "metadata": {
  "kernelspec": {
   "display_name": "Python 3 (ipykernel)",
   "language": "python",
   "name": "python3"
  },
  "language_info": {
   "codemirror_mode": {
    "name": "ipython",
    "version": 3
   },
   "file_extension": ".py",
   "mimetype": "text/x-python",
   "name": "python",
   "nbconvert_exporter": "python",
   "pygments_lexer": "ipython3",
   "version": "3.9.7"
  }
 },
 "nbformat": 4,
 "nbformat_minor": 5
}
