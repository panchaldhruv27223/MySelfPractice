{
 "cells": [
  {
   "cell_type": "markdown",
   "id": "82858fec",
   "metadata": {},
   "source": [
    "# OOPs :\n",
    "## Class\n",
    "## Objects\n",
    "## Polymorphism\n",
    "## Encapsulation\n",
    "## Inheritance\n",
    "## Data Abstraction"
   ]
  },
  {
   "cell_type": "markdown",
   "id": "62bcfd94",
   "metadata": {},
   "source": [
    "# Class :\n",
    "    \n",
    "## A class is a collection of objects. A class contains the blueprints or the prototype from which the objects are being created. It is a logical entity that contains some attributes and methods. \n",
    "\n",
    "## Classes are created by keyword class.\n",
    "## Attributes are the variables that belong to a class.\n",
    "## Attributes are public and can be accessed using the dot (.) operator. Eg.: Myclass.Myattribute"
   ]
  },
  {
   "cell_type": "code",
   "execution_count": 1,
   "id": "1378d98a",
   "metadata": {},
   "outputs": [],
   "source": [
    "a = 1"
   ]
  },
  {
   "cell_type": "code",
   "execution_count": 2,
   "id": "348b0d05",
   "metadata": {},
   "outputs": [
    {
     "data": {
      "text/plain": [
       "int"
      ]
     },
     "execution_count": 2,
     "metadata": {},
     "output_type": "execute_result"
    }
   ],
   "source": [
    "type(a)"
   ]
  },
  {
   "cell_type": "code",
   "execution_count": 3,
   "id": "46d0ca51",
   "metadata": {},
   "outputs": [
    {
     "data": {
      "text/plain": [
       "['__abs__',\n",
       " '__add__',\n",
       " '__and__',\n",
       " '__bool__',\n",
       " '__ceil__',\n",
       " '__class__',\n",
       " '__delattr__',\n",
       " '__dir__',\n",
       " '__divmod__',\n",
       " '__doc__',\n",
       " '__eq__',\n",
       " '__float__',\n",
       " '__floor__',\n",
       " '__floordiv__',\n",
       " '__format__',\n",
       " '__ge__',\n",
       " '__getattribute__',\n",
       " '__getnewargs__',\n",
       " '__gt__',\n",
       " '__hash__',\n",
       " '__index__',\n",
       " '__init__',\n",
       " '__init_subclass__',\n",
       " '__int__',\n",
       " '__invert__',\n",
       " '__le__',\n",
       " '__lshift__',\n",
       " '__lt__',\n",
       " '__mod__',\n",
       " '__mul__',\n",
       " '__ne__',\n",
       " '__neg__',\n",
       " '__new__',\n",
       " '__or__',\n",
       " '__pos__',\n",
       " '__pow__',\n",
       " '__radd__',\n",
       " '__rand__',\n",
       " '__rdivmod__',\n",
       " '__reduce__',\n",
       " '__reduce_ex__',\n",
       " '__repr__',\n",
       " '__rfloordiv__',\n",
       " '__rlshift__',\n",
       " '__rmod__',\n",
       " '__rmul__',\n",
       " '__ror__',\n",
       " '__round__',\n",
       " '__rpow__',\n",
       " '__rrshift__',\n",
       " '__rshift__',\n",
       " '__rsub__',\n",
       " '__rtruediv__',\n",
       " '__rxor__',\n",
       " '__setattr__',\n",
       " '__sizeof__',\n",
       " '__str__',\n",
       " '__sub__',\n",
       " '__subclasshook__',\n",
       " '__truediv__',\n",
       " '__trunc__',\n",
       " '__xor__',\n",
       " 'as_integer_ratio',\n",
       " 'bit_length',\n",
       " 'conjugate',\n",
       " 'denominator',\n",
       " 'from_bytes',\n",
       " 'imag',\n",
       " 'numerator',\n",
       " 'real',\n",
       " 'to_bytes']"
      ]
     },
     "execution_count": 3,
     "metadata": {},
     "output_type": "execute_result"
    }
   ],
   "source": [
    "dir(int)"
   ]
  },
  {
   "cell_type": "code",
   "execution_count": 4,
   "id": "933c4512",
   "metadata": {},
   "outputs": [
    {
     "name": "stdout",
     "output_type": "stream",
     "text": [
      "<class 'int'>\n"
     ]
    }
   ],
   "source": [
    "print(type(a))"
   ]
  },
  {
   "cell_type": "code",
   "execution_count": 5,
   "id": "25b85143",
   "metadata": {},
   "outputs": [],
   "source": [
    "a = type(a)"
   ]
  },
  {
   "cell_type": "code",
   "execution_count": 7,
   "id": "e68fe6a9",
   "metadata": {},
   "outputs": [
    {
     "data": {
      "text/plain": [
       "int"
      ]
     },
     "execution_count": 7,
     "metadata": {},
     "output_type": "execute_result"
    }
   ],
   "source": [
    "a"
   ]
  },
  {
   "cell_type": "code",
   "execution_count": 8,
   "id": "c383642e",
   "metadata": {},
   "outputs": [],
   "source": [
    "class test:\n",
    "    pass"
   ]
  },
  {
   "cell_type": "code",
   "execution_count": 9,
   "id": "622e984a",
   "metadata": {},
   "outputs": [],
   "source": [
    "var1 = test()"
   ]
  },
  {
   "cell_type": "code",
   "execution_count": 10,
   "id": "c5b8dfdf",
   "metadata": {},
   "outputs": [
    {
     "data": {
      "text/plain": [
       "<__main__.test at 0x2066cf22d90>"
      ]
     },
     "execution_count": 10,
     "metadata": {},
     "output_type": "execute_result"
    }
   ],
   "source": [
    "var1"
   ]
  },
  {
   "cell_type": "code",
   "execution_count": 11,
   "id": "a5a15554",
   "metadata": {},
   "outputs": [
    {
     "name": "stdout",
     "output_type": "stream",
     "text": [
      "<class '__main__.test'>\n"
     ]
    }
   ],
   "source": [
    "print(type(var1))"
   ]
  },
  {
   "cell_type": "code",
   "execution_count": 13,
   "id": "43efa2f7",
   "metadata": {},
   "outputs": [
    {
     "data": {
      "text/plain": [
       "__main__.test"
      ]
     },
     "execution_count": 13,
     "metadata": {},
     "output_type": "execute_result"
    }
   ],
   "source": [
    "type(var1)"
   ]
  },
  {
   "cell_type": "code",
   "execution_count": 5,
   "id": "c1a1c55e",
   "metadata": {},
   "outputs": [],
   "source": [
    "class DhruvClass:\n",
    "    def greeting(self) -> int:\n",
    "        print(\"Hello guys.!! \")"
   ]
  },
  {
   "cell_type": "code",
   "execution_count": 6,
   "id": "b4b9c0c1",
   "metadata": {},
   "outputs": [],
   "source": [
    "c1 = DhruvClass()"
   ]
  },
  {
   "cell_type": "code",
   "execution_count": 7,
   "id": "1e11a4ac",
   "metadata": {},
   "outputs": [
    {
     "name": "stdout",
     "output_type": "stream",
     "text": [
      "Hello guys.!! \n"
     ]
    }
   ],
   "source": [
    "c1.greeting()"
   ]
  },
  {
   "cell_type": "code",
   "execution_count": 19,
   "id": "40333099",
   "metadata": {},
   "outputs": [
    {
     "data": {
      "text/plain": [
       "__main__.DhruvClass"
      ]
     },
     "execution_count": 19,
     "metadata": {},
     "output_type": "execute_result"
    }
   ],
   "source": [
    "type(c1)"
   ]
  },
  {
   "cell_type": "code",
   "execution_count": 20,
   "id": "f5d720f7",
   "metadata": {},
   "outputs": [
    {
     "name": "stdout",
     "output_type": "stream",
     "text": [
      "<class '__main__.DhruvClass'>\n"
     ]
    }
   ],
   "source": [
    "print(type(c1))"
   ]
  },
  {
   "cell_type": "code",
   "execution_count": 21,
   "id": "8711689e",
   "metadata": {},
   "outputs": [],
   "source": [
    "c2 = DhruvClass()"
   ]
  },
  {
   "cell_type": "code",
   "execution_count": 22,
   "id": "99b51944",
   "metadata": {},
   "outputs": [
    {
     "data": {
      "text/plain": [
       "__main__.DhruvClass"
      ]
     },
     "execution_count": 22,
     "metadata": {},
     "output_type": "execute_result"
    }
   ],
   "source": [
    "type(c2)"
   ]
  },
  {
   "cell_type": "code",
   "execution_count": 23,
   "id": "c88cb2c9",
   "metadata": {},
   "outputs": [
    {
     "name": "stdout",
     "output_type": "stream",
     "text": [
      "<class '__main__.DhruvClass'>\n"
     ]
    }
   ],
   "source": [
    "print(type(c2))"
   ]
  },
  {
   "cell_type": "code",
   "execution_count": 24,
   "id": "d29f31ce",
   "metadata": {},
   "outputs": [
    {
     "name": "stdout",
     "output_type": "stream",
     "text": [
      "Hello guys.!! \n"
     ]
    }
   ],
   "source": [
    "c2.greeting()"
   ]
  },
  {
   "cell_type": "code",
   "execution_count": null,
   "id": "f6eb37e1",
   "metadata": {},
   "outputs": [],
   "source": []
  },
  {
   "cell_type": "markdown",
   "id": "c2b8d1be",
   "metadata": {},
   "source": [
    "## Objects\n",
    "### The object is an entity that has a state and behavior associated with it. It may be any real-world object like a mouse, keyboard, chair, table, pen, etc. Integers, strings, floating-point numbers, even arrays, and dictionaries, are all objects. More specifically, any single integer or any single string is an object. The number 12 is an object, the string “Hello, world” is an object, a list is an object that can hold other objects, and so on. You’ve been using objects all along and may not even realize it.\n",
    "\n",
    "### An object consists of:\n",
    "\n",
    "### State: It is represented by the attributes of an object. It also reflects the properties of an object.\n",
    "### Behavior: It is represented by the methods of an object. It also reflects the response of an object to other objects.\n",
    "### Identity: It gives a unique name to an object and enables one object to interact with other objects."
   ]
  },
  {
   "cell_type": "markdown",
   "id": "0fd64339",
   "metadata": {},
   "source": [
    "# When we define a class, only the description or a blueprint of the object is created. There is no memory allocation until we create its object. The objector instance contains real data or information."
   ]
  },
  {
   "cell_type": "markdown",
   "id": "38766a06",
   "metadata": {},
   "source": [
    "What was that self?\n",
    "Classes are templates. Objects of a class don't yet exist when a class is being defined, but we often need a way to refer to the data of a particular object within class definition. That is the purpose of self - it's a stand-in for the future object. That's why every method should have the self argument -- so we could use it to access attributes and call other methods from within the class definition even when no objects were created yet. Python will handle self when the method is called from an object using the dot syntax. In fact, using object-dot-method is equivalent to passing that object as an argument. That's why we don't specify it explicitly when calling the method from an existing object."
   ]
  },
  {
   "cell_type": "code",
   "execution_count": 31,
   "id": "070496ea",
   "metadata": {},
   "outputs": [],
   "source": [
    "# Example\n",
    "\n",
    "class ClassFirst():\n",
    "    \n",
    "    def giveMeInfo(self,name,age,number):\n",
    "        self.name = name\n",
    "        self.age = age\n",
    "        self.number = number\n",
    "        \n",
    "    def sendData(self):\n",
    "        print(f\"name : {self.name}\\nage:{self.age}\\nnumber:{self.number}\")"
   ]
  },
  {
   "cell_type": "code",
   "execution_count": 32,
   "id": "65c67add",
   "metadata": {},
   "outputs": [],
   "source": [
    "Dhruv = ClassFirst()"
   ]
  },
  {
   "cell_type": "code",
   "execution_count": 33,
   "id": "62541b8b",
   "metadata": {},
   "outputs": [],
   "source": [
    "Dhruv.giveMeInfo(\"Dhruv Panchal\", 21, 7226033217)"
   ]
  },
  {
   "cell_type": "code",
   "execution_count": 34,
   "id": "37b373d4",
   "metadata": {},
   "outputs": [
    {
     "name": "stdout",
     "output_type": "stream",
     "text": [
      "name : Dhruv Panchal\n",
      "age:21\n",
      "number:7226033217\n"
     ]
    }
   ],
   "source": [
    "Dhruv.sendData()"
   ]
  },
  {
   "cell_type": "code",
   "execution_count": 35,
   "id": "ac6ecff2",
   "metadata": {},
   "outputs": [
    {
     "data": {
      "text/plain": [
       "21"
      ]
     },
     "execution_count": 35,
     "metadata": {},
     "output_type": "execute_result"
    }
   ],
   "source": [
    "Dhruv.age"
   ]
  },
  {
   "cell_type": "code",
   "execution_count": 36,
   "id": "3da1482e",
   "metadata": {},
   "outputs": [
    {
     "data": {
      "text/plain": [
       "7226033217"
      ]
     },
     "execution_count": 36,
     "metadata": {},
     "output_type": "execute_result"
    }
   ],
   "source": [
    "Dhruv.number"
   ]
  },
  {
   "cell_type": "code",
   "execution_count": 37,
   "id": "d7507257",
   "metadata": {},
   "outputs": [
    {
     "data": {
      "text/plain": [
       "'Dhruv Panchal'"
      ]
     },
     "execution_count": 37,
     "metadata": {},
     "output_type": "execute_result"
    }
   ],
   "source": [
    "Dhruv.name"
   ]
  },
  {
   "cell_type": "code",
   "execution_count": 38,
   "id": "d00ca53a",
   "metadata": {},
   "outputs": [
    {
     "data": {
      "text/plain": [
       "21"
      ]
     },
     "execution_count": 38,
     "metadata": {},
     "output_type": "execute_result"
    }
   ],
   "source": [
    "Dhruv.age"
   ]
  },
  {
   "cell_type": "code",
   "execution_count": 39,
   "id": "5bcb92e4",
   "metadata": {},
   "outputs": [],
   "source": [
    "class skills:\n",
    "    \n",
    "    def __init__(self,name,skill):\n",
    "        self.name = name\n",
    "        self.skill = skill\n",
    "    \n",
    "    def giveMeData(self):\n",
    "        return self.name, self.skill\n",
    "    "
   ]
  },
  {
   "cell_type": "code",
   "execution_count": 40,
   "id": "87a44bb3",
   "metadata": {},
   "outputs": [],
   "source": [
    "dhruv = skills(\"Dhruv\",\"python\")"
   ]
  },
  {
   "cell_type": "code",
   "execution_count": 42,
   "id": "b5b8b1c1",
   "metadata": {},
   "outputs": [],
   "source": [
    "n,s = dhruv.giveMeData()"
   ]
  },
  {
   "cell_type": "code",
   "execution_count": 43,
   "id": "67d0e50c",
   "metadata": {},
   "outputs": [
    {
     "data": {
      "text/plain": [
       "'Dhruv'"
      ]
     },
     "execution_count": 43,
     "metadata": {},
     "output_type": "execute_result"
    }
   ],
   "source": [
    "n"
   ]
  },
  {
   "cell_type": "code",
   "execution_count": 44,
   "id": "c26af446",
   "metadata": {},
   "outputs": [
    {
     "data": {
      "text/plain": [
       "'python'"
      ]
     },
     "execution_count": 44,
     "metadata": {},
     "output_type": "execute_result"
    }
   ],
   "source": [
    "s"
   ]
  },
  {
   "cell_type": "code",
   "execution_count": 45,
   "id": "5c748763",
   "metadata": {},
   "outputs": [
    {
     "data": {
      "text/plain": [
       "'Dhruv'"
      ]
     },
     "execution_count": 45,
     "metadata": {},
     "output_type": "execute_result"
    }
   ],
   "source": [
    "dhruv.name"
   ]
  },
  {
   "cell_type": "code",
   "execution_count": 46,
   "id": "b1f96095",
   "metadata": {},
   "outputs": [
    {
     "data": {
      "text/plain": [
       "'python'"
      ]
     },
     "execution_count": 46,
     "metadata": {},
     "output_type": "execute_result"
    }
   ],
   "source": [
    "dhruv.skill"
   ]
  },
  {
   "cell_type": "markdown",
   "id": "fd323d1d",
   "metadata": {},
   "source": [
    "## __init__() method :\n",
    "### The __init__ method is similar to constructors in C++ and Java. Constructors are used to initializing the object’s state. Like methods, a constructor also contains a collection of statements(i.e. instructions) that are executed at the time of Object creation. It runs as soon as an object of a class is instantiated. The method is useful to do any initialization you want to do with your object."
   ]
  },
  {
   "cell_type": "code",
   "execution_count": 64,
   "id": "884c2039",
   "metadata": {},
   "outputs": [],
   "source": [
    "## Constructor \n",
    "\n",
    "class car :\n",
    "    \n",
    "    def __init__(self,name,avg):\n",
    "        self.name = name\n",
    "        self.avg = avg\n",
    "    \n",
    "    def details(self):\n",
    "        return self.name, self.avg ,self.speed\n",
    "    \n",
    "    def getting_maxSpeed(self,max_speed):\n",
    "        self.speed = max_speed\n",
    " "
   ]
  },
  {
   "cell_type": "code",
   "execution_count": 65,
   "id": "3d58bf13",
   "metadata": {},
   "outputs": [],
   "source": [
    "c1 = car(\"city\", 20)\n",
    "c2 = car(\"skoda\",18)\n",
    "c3 = car(\"verna\",15)"
   ]
  },
  {
   "cell_type": "code",
   "execution_count": 66,
   "id": "1d682181",
   "metadata": {},
   "outputs": [],
   "source": [
    "c1.getting_maxSpeed(140)\n",
    "c2.getting_maxSpeed(160)\n",
    "c3.getting_maxSpeed(180)"
   ]
  },
  {
   "cell_type": "code",
   "execution_count": 67,
   "id": "e16e9edd",
   "metadata": {},
   "outputs": [
    {
     "name": "stdout",
     "output_type": "stream",
     "text": [
      "('city', 20, 140)\n"
     ]
    }
   ],
   "source": [
    "print(c1.details())"
   ]
  },
  {
   "cell_type": "code",
   "execution_count": 68,
   "id": "a8c58a48",
   "metadata": {},
   "outputs": [
    {
     "name": "stdout",
     "output_type": "stream",
     "text": [
      "('skoda', 18, 160)\n"
     ]
    }
   ],
   "source": [
    "print(c2.details())"
   ]
  },
  {
   "cell_type": "code",
   "execution_count": 69,
   "id": "694a1b77",
   "metadata": {},
   "outputs": [
    {
     "name": "stdout",
     "output_type": "stream",
     "text": [
      "('verna', 15, 180)\n"
     ]
    }
   ],
   "source": [
    "print(c3.details())"
   ]
  },
  {
   "cell_type": "code",
   "execution_count": 71,
   "id": "454bbd45",
   "metadata": {},
   "outputs": [],
   "source": [
    "c1.getting_maxSpeed(150)"
   ]
  },
  {
   "cell_type": "code",
   "execution_count": 73,
   "id": "1a969d54",
   "metadata": {},
   "outputs": [
    {
     "data": {
      "text/plain": [
       "('city', 20, 150)"
      ]
     },
     "execution_count": 73,
     "metadata": {},
     "output_type": "execute_result"
    }
   ],
   "source": [
    "c1.details()"
   ]
  },
  {
   "cell_type": "code",
   "execution_count": null,
   "id": "fb006d23",
   "metadata": {},
   "outputs": [],
   "source": []
  },
  {
   "cell_type": "markdown",
   "id": "ae4922a8",
   "metadata": {},
   "source": [
    "## __str__() method:\n",
    "\n",
    "### Python has a particular method called __str__(). that is used to define how a class object should be represented as a string. It is often used to give an object a human-readable textual representation, which is helpful for logging, debugging, or showing users object information. When a class object is used to create a string using the built-in functions print() and str(), the __str__() function is automatically used. You can alter how objects of a class are represented in strings by defining the __str__() method."
   ]
  },
  {
   "cell_type": "code",
   "execution_count": 74,
   "id": "f0a7aee9",
   "metadata": {},
   "outputs": [],
   "source": [
    "class car:\n",
    "    def __init__(self, name, mileage):\n",
    "        self.name = name \n",
    "        self.mileage = mileage\n",
    "    \n",
    "    def __str__(self):\n",
    "        return \"this is a class which is used for car\"\n",
    "    \n",
    "    def detailes(self):\n",
    "        return self.name,self.mileage"
   ]
  },
  {
   "cell_type": "code",
   "execution_count": 75,
   "id": "2dc74f3c",
   "metadata": {},
   "outputs": [],
   "source": [
    "c1 = car(\"brezza\",20)\n",
    "c2 = car(\"XUV\",18)"
   ]
  },
  {
   "cell_type": "code",
   "execution_count": 76,
   "id": "36175829",
   "metadata": {},
   "outputs": [
    {
     "data": {
      "text/plain": [
       "('brezza', 20)"
      ]
     },
     "execution_count": 76,
     "metadata": {},
     "output_type": "execute_result"
    }
   ],
   "source": [
    "c1.detailes()"
   ]
  },
  {
   "cell_type": "code",
   "execution_count": 77,
   "id": "19950b96",
   "metadata": {},
   "outputs": [
    {
     "data": {
      "text/plain": [
       "20"
      ]
     },
     "execution_count": 77,
     "metadata": {},
     "output_type": "execute_result"
    }
   ],
   "source": [
    "c1.mileage"
   ]
  },
  {
   "cell_type": "code",
   "execution_count": 78,
   "id": "310b951b",
   "metadata": {},
   "outputs": [
    {
     "data": {
      "text/plain": [
       "'brezza'"
      ]
     },
     "execution_count": 78,
     "metadata": {},
     "output_type": "execute_result"
    }
   ],
   "source": [
    "c1.name"
   ]
  },
  {
   "cell_type": "code",
   "execution_count": 79,
   "id": "32fa8bdc",
   "metadata": {},
   "outputs": [
    {
     "data": {
      "text/plain": [
       "('XUV', 18)"
      ]
     },
     "execution_count": 79,
     "metadata": {},
     "output_type": "execute_result"
    }
   ],
   "source": [
    "c2.detailes()"
   ]
  },
  {
   "cell_type": "code",
   "execution_count": 80,
   "id": "3e24e64b",
   "metadata": {},
   "outputs": [
    {
     "name": "stdout",
     "output_type": "stream",
     "text": [
      "this is a class which is used for car\n"
     ]
    }
   ],
   "source": [
    "print(c2)"
   ]
  },
  {
   "cell_type": "code",
   "execution_count": 81,
   "id": "9249d900",
   "metadata": {},
   "outputs": [
    {
     "data": {
      "text/plain": [
       "<__main__.car at 0x2066dca1a90>"
      ]
     },
     "execution_count": 81,
     "metadata": {},
     "output_type": "execute_result"
    }
   ],
   "source": [
    "c2"
   ]
  },
  {
   "cell_type": "code",
   "execution_count": 82,
   "id": "6305893d",
   "metadata": {},
   "outputs": [
    {
     "data": {
      "text/plain": [
       "__main__.car"
      ]
     },
     "execution_count": 82,
     "metadata": {},
     "output_type": "execute_result"
    }
   ],
   "source": [
    "type(c2)"
   ]
  },
  {
   "cell_type": "code",
   "execution_count": 83,
   "id": "58e74b80",
   "metadata": {},
   "outputs": [
    {
     "name": "stdout",
     "output_type": "stream",
     "text": [
      "this is a class which is used for car\n"
     ]
    }
   ],
   "source": [
    "print(c1)"
   ]
  },
  {
   "cell_type": "code",
   "execution_count": null,
   "id": "99836096",
   "metadata": {},
   "outputs": [],
   "source": []
  },
  {
   "cell_type": "code",
   "execution_count": null,
   "id": "0eae9195",
   "metadata": {},
   "outputs": [],
   "source": []
  },
  {
   "cell_type": "markdown",
   "id": "c1f4a420",
   "metadata": {},
   "source": [
    "### What is Polymorphism: The word polymorphism means having many forms. In programming, polymorphism means the same function name (but different signatures) being used for different types. The key difference is the data types and number of arguments used in function.\n",
    "\n",
    "### Real-life Illustration Polymorphism: A person at the same time can have different characteristics. Like a man at the same time is a father, a husband, and an employee. So the same person possesses different behavior in different situations. This is called polymorphism. \n",
    "\n",
    "### What is Polymorphism in Java?\n",
    "### Polymorphism is considered one of the important features of Object-Oriented Programming. Polymorphism allows us to perform a single action in different ways. In other words, polymorphism allows you to define one interface and have multiple implementations. The word “poly” means many and “morphs” means forms, So it means many forms."
   ]
  },
  {
   "cell_type": "code",
   "execution_count": 89,
   "id": "414c553f",
   "metadata": {},
   "outputs": [],
   "source": [
    "class Class11:\n",
    "    def Subject(self,*name):\n",
    "        self.sujbect_name= name\n",
    "    def list_subject(self):\n",
    "        for i in self.sujbect_name:\n",
    "            print(i)\n",
    "            \n",
    "class Class10:\n",
    "    def Subject(self,*name):\n",
    "        self.sujbect_name= name\n",
    "    def list_subject(self):\n",
    "        for i in self.sujbect_name:\n",
    "            print(i)"
   ]
  },
  {
   "cell_type": "code",
   "execution_count": 91,
   "id": "c5087ccb",
   "metadata": {},
   "outputs": [],
   "source": [
    "dhruv = Class11()\n",
    "dhruv.Subject(\"PHY\",\"MTH\",\"CHE\")\n",
    "pravin = Class10()\n",
    "pravin.Subject(\"ACT\",\"STA\",\"BA\",\"ECCO\")"
   ]
  },
  {
   "cell_type": "code",
   "execution_count": 97,
   "id": "f242b101",
   "metadata": {},
   "outputs": [],
   "source": [
    "obj_list = [dhruv,pravin]"
   ]
  },
  {
   "cell_type": "code",
   "execution_count": 98,
   "id": "c1627d8c",
   "metadata": {},
   "outputs": [
    {
     "name": "stdout",
     "output_type": "stream",
     "text": [
      "PHY\n",
      "MTH\n",
      "CHE\n",
      "ACT\n",
      "STA\n",
      "BA\n",
      "ECCO\n"
     ]
    }
   ],
   "source": [
    "for i in obj_list:\n",
    "    i.list_subject()"
   ]
  },
  {
   "cell_type": "code",
   "execution_count": null,
   "id": "e208b703",
   "metadata": {},
   "outputs": [],
   "source": []
  },
  {
   "cell_type": "markdown",
   "id": "1c682087",
   "metadata": {},
   "source": [
    "### Encapsulation:\n",
    "### Encapsulation is one of the fundamental concepts in object-oriented programming (OOP). It describes the idea of wrapping data and the methods that work on data within one unit. This puts restrictions on accessing variables and methods directly and can prevent the accidental modification of data. To prevent accidental change, an object’s variable can only be changed by an object’s method. Those types of variables are known as private variables."
   ]
  },
  {
   "cell_type": "markdown",
   "id": "cc9cd921",
   "metadata": {},
   "source": [
    "### A class is an example of encapsulation as it encapsulates all the data that is member functions, variables, etc. The goal of information hiding is to ensure that an object’s state is always valid by controlling access to attributes that are hidden from the outside world."
   ]
  },
  {
   "cell_type": "code",
   "execution_count": 117,
   "id": "2e2dc1d1",
   "metadata": {},
   "outputs": [],
   "source": [
    "## protected \n",
    "\n",
    "class base :\n",
    "    def __init__(self):\n",
    "        self._a = 10\n",
    "        print(\"The value of a is\",self._a)\n",
    "\n",
    "class child(base):\n",
    "    \n",
    "    def __init__(self):\n",
    "        super().__init__()\n",
    "        print(\"calling a variable from base class \",self._a)\n",
    "        \n",
    "        self._a = 20\n",
    "        print(\"Calling from child class\",self._a)"
   ]
  },
  {
   "cell_type": "code",
   "execution_count": 118,
   "id": "0ae8133f",
   "metadata": {},
   "outputs": [
    {
     "name": "stdout",
     "output_type": "stream",
     "text": [
      "The value of a is 10\n",
      "The value of a is 10\n",
      "calling a variable from base class  10\n",
      "Calling from child class 20\n"
     ]
    }
   ],
   "source": [
    "obj1 = base()\n",
    "obj2 = child()"
   ]
  },
  {
   "cell_type": "code",
   "execution_count": 119,
   "id": "d6b03648",
   "metadata": {},
   "outputs": [
    {
     "data": {
      "text/plain": [
       "20"
      ]
     },
     "execution_count": 119,
     "metadata": {},
     "output_type": "execute_result"
    }
   ],
   "source": [
    "obj2._a"
   ]
  },
  {
   "cell_type": "code",
   "execution_count": 120,
   "id": "9a5892f4",
   "metadata": {},
   "outputs": [
    {
     "data": {
      "text/plain": [
       "10"
      ]
     },
     "execution_count": 120,
     "metadata": {},
     "output_type": "execute_result"
    }
   ],
   "source": [
    "obj1._a"
   ]
  },
  {
   "cell_type": "code",
   "execution_count": 121,
   "id": "7211cb4b",
   "metadata": {},
   "outputs": [
    {
     "data": {
      "text/plain": [
       "10"
      ]
     },
     "execution_count": 121,
     "metadata": {},
     "output_type": "execute_result"
    }
   ],
   "source": [
    "obj1._a"
   ]
  },
  {
   "cell_type": "code",
   "execution_count": null,
   "id": "67c8736b",
   "metadata": {},
   "outputs": [],
   "source": []
  },
  {
   "cell_type": "code",
   "execution_count": 126,
   "id": "6ff52dba",
   "metadata": {},
   "outputs": [],
   "source": [
    "## private\n",
    "\n",
    "class base :\n",
    "    def __init__(self):\n",
    "        self.__a = 10\n",
    "        print(\"The value of a is\",self.__a)\n",
    "\n",
    "class child(base):\n",
    "    \n",
    "    def __init__(self):\n",
    "        super().__init__()\n",
    "        print(\"calling a variable from base class \",self.__a)\n",
    "        \n",
    "        self.__a = 20\n",
    "        print(\"Calling from child class\",self.__a)\n",
    "        "
   ]
  },
  {
   "cell_type": "code",
   "execution_count": 127,
   "id": "32d0eef2",
   "metadata": {},
   "outputs": [
    {
     "name": "stdout",
     "output_type": "stream",
     "text": [
      "The value of a is 10\n",
      "The value of a is 10\n"
     ]
    },
    {
     "ename": "AttributeError",
     "evalue": "'child' object has no attribute '_child__a'",
     "output_type": "error",
     "traceback": [
      "\u001b[1;31m---------------------------------------------------------------------------\u001b[0m",
      "\u001b[1;31mAttributeError\u001b[0m                            Traceback (most recent call last)",
      "Cell \u001b[1;32mIn[127], line 2\u001b[0m\n\u001b[0;32m      1\u001b[0m obj1 \u001b[38;5;241m=\u001b[39m base()\n\u001b[1;32m----> 2\u001b[0m obj2 \u001b[38;5;241m=\u001b[39m \u001b[43mchild\u001b[49m\u001b[43m(\u001b[49m\u001b[43m)\u001b[49m\n",
      "Cell \u001b[1;32mIn[126], line 12\u001b[0m, in \u001b[0;36mchild.__init__\u001b[1;34m(self)\u001b[0m\n\u001b[0;32m     10\u001b[0m \u001b[38;5;28;01mdef\u001b[39;00m \u001b[38;5;21m__init__\u001b[39m(\u001b[38;5;28mself\u001b[39m):\n\u001b[0;32m     11\u001b[0m     \u001b[38;5;28msuper\u001b[39m()\u001b[38;5;241m.\u001b[39m\u001b[38;5;21m__init__\u001b[39m()\n\u001b[1;32m---> 12\u001b[0m     \u001b[38;5;28mprint\u001b[39m(\u001b[38;5;124m\"\u001b[39m\u001b[38;5;124mcalling a variable from base class \u001b[39m\u001b[38;5;124m\"\u001b[39m,\u001b[38;5;28;43mself\u001b[39;49m\u001b[38;5;241;43m.\u001b[39;49m\u001b[43m__a\u001b[49m)\n\u001b[0;32m     14\u001b[0m     \u001b[38;5;28mself\u001b[39m\u001b[38;5;241m.\u001b[39m__a \u001b[38;5;241m=\u001b[39m \u001b[38;5;241m20\u001b[39m\n\u001b[0;32m     15\u001b[0m     \u001b[38;5;28mprint\u001b[39m(\u001b[38;5;124m\"\u001b[39m\u001b[38;5;124mCalling from child class\u001b[39m\u001b[38;5;124m\"\u001b[39m,\u001b[38;5;28mself\u001b[39m\u001b[38;5;241m.\u001b[39m__a)\n",
      "\u001b[1;31mAttributeError\u001b[0m: 'child' object has no attribute '_child__a'"
     ]
    }
   ],
   "source": [
    "obj1 = base()\n",
    "obj2 = child()"
   ]
  },
  {
   "cell_type": "code",
   "execution_count": 128,
   "id": "0d1b88b1",
   "metadata": {},
   "outputs": [],
   "source": [
    "## here child class is not able to access the base class value"
   ]
  },
  {
   "cell_type": "code",
   "execution_count": 133,
   "id": "71ce479e",
   "metadata": {},
   "outputs": [],
   "source": [
    "## private\n",
    "\n",
    "class base :\n",
    "    def __init__(self):\n",
    "        self.__a = 10\n",
    "        print(\"The value of a is\",self.__a)\n",
    "\n",
    "class child(base):\n",
    "    \n",
    "    def __init__(self):\n",
    "        super().__init__()\n",
    "        \n",
    "#         self.__a = 20\n",
    "        print(\"Calling from child class\",self.__a)\n",
    "        "
   ]
  },
  {
   "cell_type": "code",
   "execution_count": 134,
   "id": "df3b125a",
   "metadata": {},
   "outputs": [
    {
     "name": "stdout",
     "output_type": "stream",
     "text": [
      "The value of a is 10\n",
      "The value of a is 10\n"
     ]
    },
    {
     "ename": "AttributeError",
     "evalue": "'child' object has no attribute '_child__a'",
     "output_type": "error",
     "traceback": [
      "\u001b[1;31m---------------------------------------------------------------------------\u001b[0m",
      "\u001b[1;31mAttributeError\u001b[0m                            Traceback (most recent call last)",
      "Cell \u001b[1;32mIn[134], line 2\u001b[0m\n\u001b[0;32m      1\u001b[0m obj1 \u001b[38;5;241m=\u001b[39m base()\n\u001b[1;32m----> 2\u001b[0m obj2 \u001b[38;5;241m=\u001b[39m \u001b[43mchild\u001b[49m\u001b[43m(\u001b[49m\u001b[43m)\u001b[49m\n",
      "Cell \u001b[1;32mIn[133], line 14\u001b[0m, in \u001b[0;36mchild.__init__\u001b[1;34m(self)\u001b[0m\n\u001b[0;32m     11\u001b[0m         \u001b[38;5;28msuper\u001b[39m()\u001b[38;5;241m.\u001b[39m\u001b[38;5;21m__init__\u001b[39m()\n\u001b[0;32m     13\u001b[0m \u001b[38;5;66;03m#         self.__a = 20\u001b[39;00m\n\u001b[1;32m---> 14\u001b[0m         \u001b[38;5;28mprint\u001b[39m(\u001b[38;5;124m\"\u001b[39m\u001b[38;5;124mCalling from child class\u001b[39m\u001b[38;5;124m\"\u001b[39m,\u001b[38;5;28;43mself\u001b[39;49m\u001b[38;5;241;43m.\u001b[39;49m\u001b[43m__a\u001b[49m)\n",
      "\u001b[1;31mAttributeError\u001b[0m: 'child' object has no attribute '_child__a'"
     ]
    }
   ],
   "source": [
    "obj1 = base()\n",
    "obj2 = child()"
   ]
  },
  {
   "cell_type": "code",
   "execution_count": 135,
   "id": "d508045b",
   "metadata": {},
   "outputs": [],
   "source": [
    "## now this is clear "
   ]
  },
  {
   "cell_type": "code",
   "execution_count": 136,
   "id": "6ac71308",
   "metadata": {},
   "outputs": [],
   "source": [
    "## private\n",
    "\n",
    "class base :\n",
    "    \n",
    "    def __init__(self):\n",
    "        self.__a = 10\n",
    "        print(\"The value of a is\",self.__a)\n",
    "\n",
    "class child(base):\n",
    "    \n",
    "    def __init__(self):\n",
    "        super().__init__()\n",
    "        \n",
    "        self.__a = 20\n",
    "        print(\"Calling from child class\",self.__a)\n"
   ]
  },
  {
   "cell_type": "code",
   "execution_count": 137,
   "id": "d99f25f2",
   "metadata": {
    "scrolled": true
   },
   "outputs": [
    {
     "name": "stdout",
     "output_type": "stream",
     "text": [
      "The value of a is 10\n",
      "The value of a is 10\n",
      "Calling from child class 20\n"
     ]
    }
   ],
   "source": [
    "obj1 = base()\n",
    "obj2 = child()"
   ]
  },
  {
   "cell_type": "code",
   "execution_count": 139,
   "id": "b0f2090d",
   "metadata": {},
   "outputs": [
    {
     "data": {
      "text/plain": [
       "10"
      ]
     },
     "execution_count": 139,
     "metadata": {},
     "output_type": "execute_result"
    }
   ],
   "source": [
    "obj1._base__a"
   ]
  },
  {
   "cell_type": "code",
   "execution_count": 145,
   "id": "fb471eaf",
   "metadata": {},
   "outputs": [
    {
     "data": {
      "text/plain": [
       "20"
      ]
     },
     "execution_count": 145,
     "metadata": {},
     "output_type": "execute_result"
    }
   ],
   "source": [
    "obj2._child__a"
   ]
  },
  {
   "cell_type": "markdown",
   "id": "66823ec3",
   "metadata": {},
   "source": [
    "### inheritance"
   ]
  },
  {
   "cell_type": "code",
   "execution_count": 1,
   "id": "49e965f5",
   "metadata": {},
   "outputs": [],
   "source": [
    "class vehical :\n",
    "    def __init__(self,name):\n",
    "        self.name = name\n",
    "        \n",
    "    def Speed(self,speed):\n",
    "        self.speed = speed\n",
    "        print(self.speed)\n",
    "\n",
    "class car(vehical):\n",
    "    \n",
    "    def __init__(self,name):\n",
    "        super().__init__(name)\n",
    "        \n",
    "    def Avg(self,avg):\n",
    "        self.avg = avg"
   ]
  },
  {
   "cell_type": "code",
   "execution_count": 2,
   "id": "ff94b2a5",
   "metadata": {},
   "outputs": [],
   "source": [
    "v1 = vehical(\"MY bike\")"
   ]
  },
  {
   "cell_type": "code",
   "execution_count": 3,
   "id": "2db7650b",
   "metadata": {},
   "outputs": [
    {
     "data": {
      "text/plain": [
       "'MY bike'"
      ]
     },
     "execution_count": 3,
     "metadata": {},
     "output_type": "execute_result"
    }
   ],
   "source": [
    "v1.name"
   ]
  },
  {
   "cell_type": "code",
   "execution_count": 4,
   "id": "15e55c04",
   "metadata": {},
   "outputs": [
    {
     "name": "stdout",
     "output_type": "stream",
     "text": [
      "100\n"
     ]
    }
   ],
   "source": [
    "v1.Speed(100)"
   ]
  },
  {
   "cell_type": "code",
   "execution_count": 5,
   "id": "1e25a702",
   "metadata": {},
   "outputs": [],
   "source": [
    "c1 = car(\"Maruti\")"
   ]
  },
  {
   "cell_type": "code",
   "execution_count": 6,
   "id": "7c87bdc5",
   "metadata": {},
   "outputs": [
    {
     "data": {
      "text/plain": [
       "'Maruti'"
      ]
     },
     "execution_count": 6,
     "metadata": {},
     "output_type": "execute_result"
    }
   ],
   "source": [
    "c1.name"
   ]
  },
  {
   "cell_type": "code",
   "execution_count": 7,
   "id": "9a824207",
   "metadata": {},
   "outputs": [
    {
     "name": "stdout",
     "output_type": "stream",
     "text": [
      "100\n"
     ]
    }
   ],
   "source": [
    "c1.Speed(100)"
   ]
  },
  {
   "cell_type": "code",
   "execution_count": 8,
   "id": "3fadcdaf",
   "metadata": {},
   "outputs": [
    {
     "data": {
      "text/plain": [
       "100"
      ]
     },
     "execution_count": 8,
     "metadata": {},
     "output_type": "execute_result"
    }
   ],
   "source": [
    "c1.speed"
   ]
  },
  {
   "cell_type": "code",
   "execution_count": 9,
   "id": "31d81f1c",
   "metadata": {},
   "outputs": [],
   "source": [
    "c1.Avg(20)"
   ]
  },
  {
   "cell_type": "code",
   "execution_count": 10,
   "id": "4af3f6f9",
   "metadata": {},
   "outputs": [
    {
     "data": {
      "text/plain": [
       "20"
      ]
     },
     "execution_count": 10,
     "metadata": {},
     "output_type": "execute_result"
    }
   ],
   "source": [
    "c1.avg"
   ]
  },
  {
   "cell_type": "code",
   "execution_count": 12,
   "id": "f7c2ca2c",
   "metadata": {},
   "outputs": [],
   "source": [
    "# Simple inheretance from base class to child class "
   ]
  },
  {
   "cell_type": "code",
   "execution_count": 21,
   "id": "c417f3a0",
   "metadata": {},
   "outputs": [],
   "source": [
    "class base:\n",
    "    \n",
    "    def greeting(self):\n",
    "        print(\"hello all my name is Dhruv Panchal\")\n",
    "\n",
    "class child1(base):\n",
    "    \n",
    "    def greeting(self):\n",
    "        print(\"Good bye\")\n",
    "    \n",
    "    def Why(self):\n",
    "        print(\"always ask Why ?\")\n",
    "\n",
    "class child2(child1):\n",
    "    \n",
    "    def greeting(self):\n",
    "        print(\"OK i will aks \")\n",
    "        \n",
    "    def Why(self):\n",
    "        print(\"What is your marriage date \")\n",
    "        \n",
    "    def why2(self):\n",
    "        print(\"It is on feb 22 rights?\")\n",
    "        "
   ]
  },
  {
   "cell_type": "code",
   "execution_count": 22,
   "id": "3bb1ea9a",
   "metadata": {},
   "outputs": [],
   "source": [
    "c1 = base()\n",
    "c2 = child1()\n",
    "c3 = child2()"
   ]
  },
  {
   "cell_type": "code",
   "execution_count": 23,
   "id": "79e2562d",
   "metadata": {},
   "outputs": [
    {
     "name": "stdout",
     "output_type": "stream",
     "text": [
      "hello all my name is Dhruv Panchal\n"
     ]
    }
   ],
   "source": [
    "c1.greeting()"
   ]
  },
  {
   "cell_type": "code",
   "execution_count": 24,
   "id": "eae88877",
   "metadata": {},
   "outputs": [
    {
     "name": "stdout",
     "output_type": "stream",
     "text": [
      "Good bye\n"
     ]
    }
   ],
   "source": [
    "c2.greeting()"
   ]
  },
  {
   "cell_type": "code",
   "execution_count": 27,
   "id": "1dde8f64",
   "metadata": {},
   "outputs": [
    {
     "name": "stdout",
     "output_type": "stream",
     "text": [
      "always ask Why ?\n"
     ]
    }
   ],
   "source": [
    "c2.Why()"
   ]
  },
  {
   "cell_type": "code",
   "execution_count": 28,
   "id": "286940da",
   "metadata": {},
   "outputs": [
    {
     "name": "stdout",
     "output_type": "stream",
     "text": [
      "OK i will aks \n"
     ]
    }
   ],
   "source": [
    "c3.greeting()"
   ]
  },
  {
   "cell_type": "code",
   "execution_count": 29,
   "id": "891945b7",
   "metadata": {},
   "outputs": [
    {
     "name": "stdout",
     "output_type": "stream",
     "text": [
      "What is your marriage date \n"
     ]
    }
   ],
   "source": [
    "c3.Why()"
   ]
  },
  {
   "cell_type": "code",
   "execution_count": 31,
   "id": "4d1f850b",
   "metadata": {},
   "outputs": [
    {
     "name": "stdout",
     "output_type": "stream",
     "text": [
      "It is on feb 22 rights?\n"
     ]
    }
   ],
   "source": [
    "c3.why2()"
   ]
  },
  {
   "cell_type": "code",
   "execution_count": 32,
   "id": "9be17f01",
   "metadata": {},
   "outputs": [],
   "source": [
    "# same name same signature is called method overriding\n",
    "# same name diff number of signature is called method overloading\n"
   ]
  },
  {
   "cell_type": "code",
   "execution_count": 40,
   "id": "a4448aa6",
   "metadata": {},
   "outputs": [],
   "source": [
    "class base:\n",
    "    \n",
    "    def greeting(self):\n",
    "        print(\"hello all my name is Dhruv Panchal\")\n",
    "\n",
    "class child1(base):\n",
    "    \n",
    "    def greeting(self):\n",
    "        print(\"Good bye\")\n",
    "    \n",
    "    def Why(self):\n",
    "        print(\"always ask Why ?\")\n",
    "\n",
    "class child2(child1):\n",
    "    def greeting(self):\n",
    "        print(\"OK i will aks \")\n",
    "        \n",
    "    def greeting(self,name):\n",
    "        self.name = name \n",
    "        print(\"OK i will aks \",self.name)\n",
    "        \n",
    "    def Why(self):\n",
    "        print(\"What is your marriage date \")\n",
    "        \n",
    "    def why2(self):\n",
    "        print(\"It is on feb 22 rights?\")\n",
    "        "
   ]
  },
  {
   "cell_type": "code",
   "execution_count": 41,
   "id": "e25547cf",
   "metadata": {},
   "outputs": [],
   "source": [
    "c1 = child1()"
   ]
  },
  {
   "cell_type": "code",
   "execution_count": 42,
   "id": "80cd7b37",
   "metadata": {},
   "outputs": [],
   "source": [
    "c2 = child2()"
   ]
  },
  {
   "cell_type": "code",
   "execution_count": 43,
   "id": "5143030b",
   "metadata": {},
   "outputs": [
    {
     "name": "stdout",
     "output_type": "stream",
     "text": [
      "Good bye\n"
     ]
    }
   ],
   "source": [
    "c1.greeting()"
   ]
  },
  {
   "cell_type": "code",
   "execution_count": 44,
   "id": "96fd5635",
   "metadata": {},
   "outputs": [
    {
     "name": "stdout",
     "output_type": "stream",
     "text": [
      "OK i will aks  Dhruv\n"
     ]
    }
   ],
   "source": [
    "c2.greeting(\"Dhruv\")"
   ]
  },
  {
   "cell_type": "code",
   "execution_count": 45,
   "id": "e8a75a81",
   "metadata": {},
   "outputs": [
    {
     "ename": "TypeError",
     "evalue": "greeting() missing 1 required positional argument: 'name'",
     "output_type": "error",
     "traceback": [
      "\u001b[1;31m---------------------------------------------------------------------------\u001b[0m",
      "\u001b[1;31mTypeError\u001b[0m                                 Traceback (most recent call last)",
      "Cell \u001b[1;32mIn[45], line 1\u001b[0m\n\u001b[1;32m----> 1\u001b[0m \u001b[43mc2\u001b[49m\u001b[38;5;241;43m.\u001b[39;49m\u001b[43mgreeting\u001b[49m\u001b[43m(\u001b[49m\u001b[43m)\u001b[49m\n",
      "\u001b[1;31mTypeError\u001b[0m: greeting() missing 1 required positional argument: 'name'"
     ]
    }
   ],
   "source": [
    "c2.greeting()"
   ]
  },
  {
   "cell_type": "markdown",
   "id": "db41e708",
   "metadata": {},
   "source": [
    "## method overloading is not possible in python \n",
    "## we can just do method overriding"
   ]
  },
  {
   "cell_type": "code",
   "execution_count": 47,
   "id": "20eb7f45",
   "metadata": {},
   "outputs": [],
   "source": [
    "# Single inheritance\n",
    "# multiple inheritance\n",
    "# multilevel inheritance\n",
    "# herarchical inheritance\n",
    "# hybride inheritance\n"
   ]
  },
  {
   "cell_type": "code",
   "execution_count": 48,
   "id": "9362d83f",
   "metadata": {},
   "outputs": [],
   "source": [
    "## abstraction\n"
   ]
  },
  {
   "cell_type": "code",
   "execution_count": 67,
   "id": "9c080e6a",
   "metadata": {},
   "outputs": [],
   "source": [
    "import abc\n",
    "\n",
    "class base():\n",
    "    \n",
    "    @abc.abstractclassmethod\n",
    "    def goal(self):\n",
    "        pass\n",
    "    \n",
    "    @abc.abstractclassmethod\n",
    "    def achivement(self):\n",
    "        pass\n",
    "    \n",
    "    @abc.abstractclassmethod\n",
    "    def failure(self):\n",
    "        pass\n",
    "    \n",
    "    def final(self):\n",
    "        print(\"This is end of the story\")\n",
    "    \n",
    "class my_second_class(base):\n",
    "    \n",
    "    def goal(self):\n",
    "        print(\"My goal is to become a rich person by money\")\n",
    "        \n",
    "    def achivement(self):\n",
    "        print(\"I think i can achive my goal by next 1 year\")\n",
    "    \n",
    "    def failure(self):\n",
    "        print(\"if i will fail. then i work hard there is no other option\")"
   ]
  },
  {
   "cell_type": "code",
   "execution_count": 68,
   "id": "7f53926a",
   "metadata": {},
   "outputs": [],
   "source": [
    "c1 = my_second_class()"
   ]
  },
  {
   "cell_type": "code",
   "execution_count": 69,
   "id": "0b52ad5e",
   "metadata": {},
   "outputs": [],
   "source": [
    "c0 = base()"
   ]
  },
  {
   "cell_type": "code",
   "execution_count": 70,
   "id": "b6cc8cc6",
   "metadata": {},
   "outputs": [],
   "source": [
    "c0.achivement()"
   ]
  },
  {
   "cell_type": "code",
   "execution_count": 71,
   "id": "15251373",
   "metadata": {},
   "outputs": [],
   "source": [
    "c0.failure()"
   ]
  },
  {
   "cell_type": "code",
   "execution_count": 72,
   "id": "3fe936d3",
   "metadata": {},
   "outputs": [],
   "source": [
    "c0.goal()"
   ]
  },
  {
   "cell_type": "code",
   "execution_count": 73,
   "id": "6f3ab5d8",
   "metadata": {},
   "outputs": [
    {
     "name": "stdout",
     "output_type": "stream",
     "text": [
      "I think i can achive my goal by next 1 year\n"
     ]
    }
   ],
   "source": [
    "c1.achivement()"
   ]
  },
  {
   "cell_type": "code",
   "execution_count": 74,
   "id": "7f216814",
   "metadata": {},
   "outputs": [
    {
     "name": "stdout",
     "output_type": "stream",
     "text": [
      "if i will fail. then i work hard there is no other option\n"
     ]
    }
   ],
   "source": [
    "c1.failure()"
   ]
  },
  {
   "cell_type": "code",
   "execution_count": 75,
   "id": "19a27ef5",
   "metadata": {},
   "outputs": [
    {
     "name": "stdout",
     "output_type": "stream",
     "text": [
      "My goal is to become a rich person by money\n"
     ]
    }
   ],
   "source": [
    "c1.goal()"
   ]
  },
  {
   "cell_type": "code",
   "execution_count": 78,
   "id": "285b97a8",
   "metadata": {},
   "outputs": [
    {
     "name": "stdout",
     "output_type": "stream",
     "text": [
      "This is end of the story\n"
     ]
    }
   ],
   "source": [
    "c0.final()"
   ]
  },
  {
   "cell_type": "code",
   "execution_count": 79,
   "id": "568f34f4",
   "metadata": {},
   "outputs": [
    {
     "name": "stdout",
     "output_type": "stream",
     "text": [
      "This is end of the story\n"
     ]
    }
   ],
   "source": [
    "c1.final()"
   ]
  },
  {
   "cell_type": "code",
   "execution_count": 80,
   "id": "3b2fe9a3",
   "metadata": {},
   "outputs": [
    {
     "name": "stdout",
     "output_type": "stream",
     "text": [
      "<__main__.base object at 0x0000023744D14EB0>\n"
     ]
    }
   ],
   "source": [
    "print(c0)"
   ]
  },
  {
   "cell_type": "code",
   "execution_count": 81,
   "id": "ba11f311",
   "metadata": {},
   "outputs": [
    {
     "name": "stdout",
     "output_type": "stream",
     "text": [
      "<__main__.my_second_class object at 0x0000023744B87CA0>\n"
     ]
    }
   ],
   "source": [
    "print(c1)"
   ]
  },
  {
   "cell_type": "code",
   "execution_count": 12,
   "id": "46a718b8",
   "metadata": {},
   "outputs": [],
   "source": [
    "from abc import ABC,abstractmethod\n",
    "\n",
    "## abstract class\n",
    "class base(ABC):\n",
    "    \n",
    "    def __init__(self,name):\n",
    "        self.name = name\n",
    "        print(f\"This is my name : {self.name}\")\n",
    "    \n",
    "    ## abstract method\n",
    "    @abc.abstractclassmethod\n",
    "    def goal(self):\n",
    "        pass\n",
    "    \n",
    "    @abc.abstractclassmethod\n",
    "    def achivement(self):\n",
    "        pass\n",
    "    \n",
    "    @abc.abstractclassmethod\n",
    "    def failure(self):\n",
    "        pass\n",
    "    \n",
    "    def final(self):\n",
    "        print(\"This is end of the story\")\n",
    "    \n",
    "class my_second_class(base):\n",
    "    def __init__(self,name):\n",
    "        super().__init__(name)\n",
    "    \n",
    "    def goal(self):\n",
    "        print(\"My goal is to become a rich person by money.\")\n",
    "        \n",
    "    def achivement(self):\n",
    "        print(\"I think i can achive my goal by next 1 year.\")\n",
    "    \n",
    "    def failure(self):\n",
    "        print(\"if i will fail. then i work hard there is no other option.\")"
   ]
  },
  {
   "cell_type": "code",
   "execution_count": 13,
   "id": "2d404a16",
   "metadata": {},
   "outputs": [
    {
     "ename": "TypeError",
     "evalue": "Can't instantiate abstract class base with abstract methods achivement, failure, goal",
     "output_type": "error",
     "traceback": [
      "\u001b[1;31m---------------------------------------------------------------------------\u001b[0m",
      "\u001b[1;31mTypeError\u001b[0m                                 Traceback (most recent call last)",
      "Cell \u001b[1;32mIn[13], line 1\u001b[0m\n\u001b[1;32m----> 1\u001b[0m c1 \u001b[38;5;241m=\u001b[39m \u001b[43mbase\u001b[49m\u001b[43m(\u001b[49m\u001b[43m)\u001b[49m\n",
      "\u001b[1;31mTypeError\u001b[0m: Can't instantiate abstract class base with abstract methods achivement, failure, goal"
     ]
    }
   ],
   "source": [
    "c1 = base()"
   ]
  },
  {
   "cell_type": "code",
   "execution_count": 14,
   "id": "06a95c4a",
   "metadata": {},
   "outputs": [
    {
     "name": "stdout",
     "output_type": "stream",
     "text": [
      "This is my name : Dhruv\n"
     ]
    }
   ],
   "source": [
    "c2 = my_second_class(\"Dhruv\")"
   ]
  },
  {
   "cell_type": "code",
   "execution_count": 15,
   "id": "a70bff68",
   "metadata": {},
   "outputs": [
    {
     "name": "stdout",
     "output_type": "stream",
     "text": [
      "My goal is to become a rich person by money.\n"
     ]
    }
   ],
   "source": [
    "c2.goal()"
   ]
  },
  {
   "cell_type": "code",
   "execution_count": 16,
   "id": "4af5151c",
   "metadata": {},
   "outputs": [
    {
     "name": "stdout",
     "output_type": "stream",
     "text": [
      "I think i can achive my goal by next 1 year.\n"
     ]
    }
   ],
   "source": [
    "c2.achivement()"
   ]
  },
  {
   "cell_type": "code",
   "execution_count": 17,
   "id": "ff4d2260",
   "metadata": {},
   "outputs": [
    {
     "name": "stdout",
     "output_type": "stream",
     "text": [
      "if i will fail. then i work hard there is no other option.\n"
     ]
    }
   ],
   "source": [
    "c2.failure()"
   ]
  },
  {
   "cell_type": "code",
   "execution_count": 18,
   "id": "b5a75305",
   "metadata": {},
   "outputs": [
    {
     "name": "stdout",
     "output_type": "stream",
     "text": [
      "This is end of the story\n"
     ]
    }
   ],
   "source": [
    "c2.final()"
   ]
  },
  {
   "cell_type": "code",
   "execution_count": null,
   "id": "99ff21ed",
   "metadata": {},
   "outputs": [],
   "source": []
  },
  {
   "cell_type": "code",
   "execution_count": 82,
   "id": "a9f151d6",
   "metadata": {},
   "outputs": [],
   "source": [
    "#  __del__"
   ]
  },
  {
   "cell_type": "code",
   "execution_count": 83,
   "id": "1b25e6f3",
   "metadata": {},
   "outputs": [],
   "source": [
    "import abc\n",
    "\n",
    "class base():\n",
    "    \n",
    "    @abc.abstractclassmethod\n",
    "    def goal(self):\n",
    "        pass\n",
    "    \n",
    "    @abc.abstractclassmethod\n",
    "    def achivement(self):\n",
    "        pass\n",
    "    \n",
    "    @abc.abstractclassmethod\n",
    "    def failure(self):\n",
    "        pass\n",
    "    \n",
    "    def final(self):\n",
    "        print(\"This is end of the story\")\n",
    "    \n",
    "class my_second_class(base):\n",
    "    \n",
    "    def goal(self):\n",
    "        print(\"My goal is to become a rich person by money\")\n",
    "        "
   ]
  },
  {
   "cell_type": "code",
   "execution_count": 84,
   "id": "7cac3e27",
   "metadata": {},
   "outputs": [],
   "source": [
    "c1 = my_second_class()"
   ]
  },
  {
   "cell_type": "code",
   "execution_count": 85,
   "id": "3e5838ad",
   "metadata": {},
   "outputs": [
    {
     "name": "stdout",
     "output_type": "stream",
     "text": [
      "My goal is to become a rich person by money\n"
     ]
    }
   ],
   "source": [
    "c1.goal()"
   ]
  },
  {
   "cell_type": "code",
   "execution_count": 86,
   "id": "e10c7655",
   "metadata": {},
   "outputs": [],
   "source": [
    "c1.failure()"
   ]
  },
  {
   "cell_type": "code",
   "execution_count": null,
   "id": "e8083d83",
   "metadata": {},
   "outputs": [],
   "source": []
  },
  {
   "cell_type": "markdown",
   "id": "9994682a",
   "metadata": {},
   "source": [
    "### In Python, a static variable is a variable that is shared among all instances of a class, rather than being unique to each instance. It is also sometimes referred to as a class variable, because it belongs to the class itself rather than any particular instance of the class.\n",
    "\n",
    "### Static variables are defined inside the class definition, but outside of any method definitions. They are typically initialized with a value, just like an instance variable, but they can be accessed and modified through the class itself, rather than through an instance."
   ]
  },
  {
   "cell_type": "code",
   "execution_count": 20,
   "id": "ceb0c2e6",
   "metadata": {},
   "outputs": [],
   "source": [
    "class class_vs_static:\n",
    "    \n",
    "    class_var = 10        ## class variable \n",
    "    \n",
    "    def method1(self,name):\n",
    "        self.name = name             ### instance variable \n",
    "        print(f\"class variable is : {class_vs_static.class_var} and name is {self.name}\")"
   ]
  },
  {
   "cell_type": "code",
   "execution_count": 21,
   "id": "480f3c91",
   "metadata": {},
   "outputs": [],
   "source": [
    "c1 = class_vs_static()"
   ]
  },
  {
   "cell_type": "code",
   "execution_count": 89,
   "id": "c7749614",
   "metadata": {},
   "outputs": [
    {
     "data": {
      "text/plain": [
       "10"
      ]
     },
     "execution_count": 89,
     "metadata": {},
     "output_type": "execute_result"
    }
   ],
   "source": [
    "c1.class_var"
   ]
  },
  {
   "cell_type": "code",
   "execution_count": 90,
   "id": "759daad6",
   "metadata": {},
   "outputs": [
    {
     "name": "stdout",
     "output_type": "stream",
     "text": [
      "class variable is : 10 and name is Dhruv\n"
     ]
    }
   ],
   "source": [
    "c1.method1(\"Dhruv\")"
   ]
  },
  {
   "cell_type": "code",
   "execution_count": 91,
   "id": "97bdffc1",
   "metadata": {},
   "outputs": [],
   "source": [
    "c1.class_var = 20"
   ]
  },
  {
   "cell_type": "code",
   "execution_count": 93,
   "id": "bc496f9c",
   "metadata": {},
   "outputs": [
    {
     "data": {
      "text/plain": [
       "20"
      ]
     },
     "execution_count": 93,
     "metadata": {},
     "output_type": "execute_result"
    }
   ],
   "source": [
    "c1.class_var"
   ]
  },
  {
   "cell_type": "code",
   "execution_count": 94,
   "id": "60ba6e7d",
   "metadata": {},
   "outputs": [
    {
     "name": "stdout",
     "output_type": "stream",
     "text": [
      "class variable is : 10 and name is Panchal\n"
     ]
    }
   ],
   "source": [
    "c1.method1(\"Panchal\")"
   ]
  },
  {
   "cell_type": "code",
   "execution_count": 69,
   "id": "2e098ff3",
   "metadata": {},
   "outputs": [],
   "source": [
    "class class_vs_static:\n",
    "    \n",
    "    class_var = 10\n",
    "    \n",
    "    def method1(self,name):\n",
    "        self.name = name \n",
    "        print(f\"class variable is : {self.class_var} and name is {self.name}\")"
   ]
  },
  {
   "cell_type": "code",
   "execution_count": 70,
   "id": "97fe6ad3",
   "metadata": {},
   "outputs": [],
   "source": [
    "c2 = class_vs_static()"
   ]
  },
  {
   "cell_type": "code",
   "execution_count": 71,
   "id": "6bbef26e",
   "metadata": {},
   "outputs": [
    {
     "data": {
      "text/plain": [
       "10"
      ]
     },
     "execution_count": 71,
     "metadata": {},
     "output_type": "execute_result"
    }
   ],
   "source": [
    "c2.class_var"
   ]
  },
  {
   "cell_type": "code",
   "execution_count": 72,
   "id": "c1007e73",
   "metadata": {},
   "outputs": [],
   "source": [
    "c2.class_var = 20"
   ]
  },
  {
   "cell_type": "code",
   "execution_count": 73,
   "id": "6bcdbf2f",
   "metadata": {},
   "outputs": [
    {
     "name": "stdout",
     "output_type": "stream",
     "text": [
      "class variable is : 20 and name is Dhruv\n"
     ]
    }
   ],
   "source": [
    "c2.method1(\"Dhruv\")"
   ]
  },
  {
   "cell_type": "code",
   "execution_count": 74,
   "id": "7830382a",
   "metadata": {},
   "outputs": [],
   "source": [
    "c3 = class_vs_static()"
   ]
  },
  {
   "cell_type": "code",
   "execution_count": 75,
   "id": "53a24861",
   "metadata": {},
   "outputs": [
    {
     "data": {
      "text/plain": [
       "10"
      ]
     },
     "execution_count": 75,
     "metadata": {},
     "output_type": "execute_result"
    }
   ],
   "source": [
    "c3.class_var"
   ]
  },
  {
   "cell_type": "code",
   "execution_count": 76,
   "id": "b195adfb",
   "metadata": {},
   "outputs": [
    {
     "name": "stdout",
     "output_type": "stream",
     "text": [
      "class variable is : 10 and name is D\n"
     ]
    }
   ],
   "source": [
    "c3.method1(\"D\")"
   ]
  },
  {
   "cell_type": "code",
   "execution_count": 77,
   "id": "e723a8a2",
   "metadata": {},
   "outputs": [],
   "source": [
    "c3.class_var = 50"
   ]
  },
  {
   "cell_type": "code",
   "execution_count": 78,
   "id": "c0f8f897",
   "metadata": {},
   "outputs": [
    {
     "data": {
      "text/plain": [
       "50"
      ]
     },
     "execution_count": 78,
     "metadata": {},
     "output_type": "execute_result"
    }
   ],
   "source": [
    "c3.class_var"
   ]
  },
  {
   "cell_type": "code",
   "execution_count": 79,
   "id": "7c538646",
   "metadata": {},
   "outputs": [
    {
     "name": "stdout",
     "output_type": "stream",
     "text": [
      "class variable is : 50 and name is Panchal\n"
     ]
    }
   ],
   "source": [
    "c3.method1(\"Panchal\")"
   ]
  },
  {
   "cell_type": "code",
   "execution_count": 80,
   "id": "15e607de",
   "metadata": {},
   "outputs": [
    {
     "data": {
      "text/plain": [
       "20"
      ]
     },
     "execution_count": 80,
     "metadata": {},
     "output_type": "execute_result"
    }
   ],
   "source": [
    "c2.class_var"
   ]
  },
  {
   "cell_type": "code",
   "execution_count": 82,
   "id": "da6dc47c",
   "metadata": {},
   "outputs": [
    {
     "data": {
      "text/plain": [
       "50"
      ]
     },
     "execution_count": 82,
     "metadata": {},
     "output_type": "execute_result"
    }
   ],
   "source": [
    "c3.class_var"
   ]
  },
  {
   "cell_type": "code",
   "execution_count": 83,
   "id": "1c8309a5",
   "metadata": {},
   "outputs": [],
   "source": [
    "##"
   ]
  },
  {
   "cell_type": "code",
   "execution_count": 84,
   "id": "4e3c4bf1",
   "metadata": {},
   "outputs": [
    {
     "data": {
      "text/plain": [
       "10"
      ]
     },
     "execution_count": 84,
     "metadata": {},
     "output_type": "execute_result"
    }
   ],
   "source": [
    "class_vs_static.class_var"
   ]
  },
  {
   "cell_type": "code",
   "execution_count": 85,
   "id": "fca409cb",
   "metadata": {},
   "outputs": [],
   "source": [
    "class_vs_static.class_var = 30"
   ]
  },
  {
   "cell_type": "code",
   "execution_count": 86,
   "id": "285adb65",
   "metadata": {},
   "outputs": [
    {
     "data": {
      "text/plain": [
       "20"
      ]
     },
     "execution_count": 86,
     "metadata": {},
     "output_type": "execute_result"
    }
   ],
   "source": [
    "c2.class_var"
   ]
  },
  {
   "cell_type": "code",
   "execution_count": 87,
   "id": "013ae8dd",
   "metadata": {},
   "outputs": [
    {
     "data": {
      "text/plain": [
       "50"
      ]
     },
     "execution_count": 87,
     "metadata": {},
     "output_type": "execute_result"
    }
   ],
   "source": [
    "c3.class_var"
   ]
  },
  {
   "cell_type": "code",
   "execution_count": 89,
   "id": "a76f8203",
   "metadata": {},
   "outputs": [],
   "source": [
    "class class_var:\n",
    "    \n",
    "    school_name = \"Muktajivan vidhyalaya\"\n",
    "    \n",
    "    def enroll(self,name):\n",
    "        self.name = name \n",
    "        print(f\"Hello i am {self.name} and i am now enrolled in this school {class_var.school_name}\")"
   ]
  },
  {
   "cell_type": "code",
   "execution_count": 92,
   "id": "1fdd4870",
   "metadata": {},
   "outputs": [],
   "source": [
    "c1 = class_var()\n",
    "c2 = class_var()"
   ]
  },
  {
   "cell_type": "code",
   "execution_count": 93,
   "id": "40df7960",
   "metadata": {},
   "outputs": [
    {
     "name": "stdout",
     "output_type": "stream",
     "text": [
      "Hello i am Dhruv and i am now enrolled in this school Muktajivan vidhyalaya\n",
      "Hello i am pravin and i am now enrolled in this school Muktajivan vidhyalaya\n"
     ]
    }
   ],
   "source": [
    "c1.enroll(\"Dhruv\")\n",
    "c2.enroll(\"pravin\")"
   ]
  },
  {
   "cell_type": "code",
   "execution_count": 94,
   "id": "5118ffbc",
   "metadata": {},
   "outputs": [
    {
     "data": {
      "text/plain": [
       "'Muktajivan vidhyalaya'"
      ]
     },
     "execution_count": 94,
     "metadata": {},
     "output_type": "execute_result"
    }
   ],
   "source": [
    "c1.school_name"
   ]
  },
  {
   "cell_type": "code",
   "execution_count": 95,
   "id": "c0bcef4a",
   "metadata": {},
   "outputs": [
    {
     "data": {
      "text/plain": [
       "'Muktajivan vidhyalaya'"
      ]
     },
     "execution_count": 95,
     "metadata": {},
     "output_type": "execute_result"
    }
   ],
   "source": [
    "c2.school_name"
   ]
  },
  {
   "cell_type": "code",
   "execution_count": 96,
   "id": "00c5e0e3",
   "metadata": {},
   "outputs": [],
   "source": [
    "class_var.school_name = \"Pooja vidhayalaya\""
   ]
  },
  {
   "cell_type": "code",
   "execution_count": 97,
   "id": "efa270b6",
   "metadata": {},
   "outputs": [
    {
     "data": {
      "text/plain": [
       "'Pooja vidhayalaya'"
      ]
     },
     "execution_count": 97,
     "metadata": {},
     "output_type": "execute_result"
    }
   ],
   "source": [
    "c1.school_name"
   ]
  },
  {
   "cell_type": "code",
   "execution_count": 98,
   "id": "a045b32a",
   "metadata": {},
   "outputs": [
    {
     "data": {
      "text/plain": [
       "'Pooja vidhayalaya'"
      ]
     },
     "execution_count": 98,
     "metadata": {},
     "output_type": "execute_result"
    }
   ],
   "source": [
    "c2.school_name"
   ]
  },
  {
   "cell_type": "code",
   "execution_count": 99,
   "id": "a4dc60c1",
   "metadata": {},
   "outputs": [],
   "source": [
    "c2.school_name = \"Muktajivan\""
   ]
  },
  {
   "cell_type": "code",
   "execution_count": 100,
   "id": "aedbd0bd",
   "metadata": {},
   "outputs": [
    {
     "data": {
      "text/plain": [
       "'Muktajivan'"
      ]
     },
     "execution_count": 100,
     "metadata": {},
     "output_type": "execute_result"
    }
   ],
   "source": [
    "c2.school_name"
   ]
  },
  {
   "cell_type": "markdown",
   "id": "639d7b04",
   "metadata": {},
   "source": [
    "Features of Static (Class ) Variables\n",
    "Static variables are allocated memory once when the object for the class is created for the first time.\n",
    "Static variables are created outside of methods but inside a class\n",
    "Static variables can be accessed through a class but not directly with an instance.\n",
    "Static variables behavior doesn’t change for every object."
   ]
  },
  {
   "cell_type": "markdown",
   "id": "c960d49d",
   "metadata": {},
   "source": [
    "## Decorator "
   ]
  },
  {
   "cell_type": "markdown",
   "id": "5a355dcd",
   "metadata": {},
   "source": [
    "As stated above the decorators are used to modify the behaviour of function or class. In Decorators, functions are taken as the argument into another function and then called inside the wrapper function."
   ]
  },
  {
   "cell_type": "code",
   "execution_count": 101,
   "id": "1e49ce9f",
   "metadata": {},
   "outputs": [],
   "source": [
    "def deco(func):\n",
    "    def inner_dec():\n",
    "        print(\"Start Dhruv Panchal\")\n",
    "        func()\n",
    "        print(\"End Dhruv Panchal\")\n",
    "    return inner_dec\n",
    "\n",
    "def greeting():\n",
    "    print(\"Good morning to all\")\n",
    "    print(\"Whishing you all very very happy Diwali\")"
   ]
  },
  {
   "cell_type": "code",
   "execution_count": 116,
   "id": "07f5c8b1",
   "metadata": {},
   "outputs": [
    {
     "name": "stdout",
     "output_type": "stream",
     "text": [
      "Good morning to all\n",
      "Whishing you all very very happy Diwali\n"
     ]
    }
   ],
   "source": [
    "greeting()"
   ]
  },
  {
   "cell_type": "code",
   "execution_count": 117,
   "id": "1ad7a970",
   "metadata": {},
   "outputs": [],
   "source": [
    "def deco(func):\n",
    "    def inner_dec():\n",
    "        print(\"Start Dhruv Panchal\")\n",
    "        func()\n",
    "        print(\"End Dhruv Panchal\")\n",
    "    return inner_dec\n",
    "\n",
    "@deco\n",
    "def greeting():\n",
    "    print(\"Good morning to all\")\n",
    "    print(\"Whishing you all very very happy Diwali\")"
   ]
  },
  {
   "cell_type": "code",
   "execution_count": 118,
   "id": "d338db93",
   "metadata": {},
   "outputs": [
    {
     "name": "stdout",
     "output_type": "stream",
     "text": [
      "Start Dhruv Panchal\n",
      "Good morning to all\n",
      "Whishing you all very very happy Diwali\n",
      "End Dhruv Panchal\n"
     ]
    }
   ],
   "source": [
    "greeting()"
   ]
  },
  {
   "cell_type": "code",
   "execution_count": 1,
   "id": "72cae45b",
   "metadata": {},
   "outputs": [],
   "source": [
    "def deco(func):\n",
    "    \n",
    "    def inner_dec():\n",
    "        print(\"Start Dhruv Panchal\")\n",
    "        func()\n",
    "        print(\"End Dhruv Panchal\")\n",
    "    return inner_dec\n",
    "\n",
    "@deco\n",
    "def greeting(name):\n",
    "    print(\"Good morning to all and specially \", name)\n",
    "    print(\"Whishing you all very very happy Diwali\")"
   ]
  },
  {
   "cell_type": "code",
   "execution_count": 2,
   "id": "4b5e1f8a",
   "metadata": {},
   "outputs": [
    {
     "ename": "TypeError",
     "evalue": "inner_dec() takes 0 positional arguments but 1 was given",
     "output_type": "error",
     "traceback": [
      "\u001b[1;31m---------------------------------------------------------------------------\u001b[0m",
      "\u001b[1;31mTypeError\u001b[0m                                 Traceback (most recent call last)",
      "Cell \u001b[1;32mIn[2], line 1\u001b[0m\n\u001b[1;32m----> 1\u001b[0m \u001b[43mgreeting\u001b[49m\u001b[43m(\u001b[49m\u001b[38;5;124;43m\"\u001b[39;49m\u001b[38;5;124;43mDhruv\u001b[39;49m\u001b[38;5;124;43m\"\u001b[39;49m\u001b[43m)\u001b[49m\n",
      "\u001b[1;31mTypeError\u001b[0m: inner_dec() takes 0 positional arguments but 1 was given"
     ]
    }
   ],
   "source": [
    "greeting(\"Dhruv\")"
   ]
  },
  {
   "cell_type": "code",
   "execution_count": 3,
   "id": "540d2c9d",
   "metadata": {},
   "outputs": [],
   "source": [
    "def deco(func):\n",
    "    \n",
    "    def inner_dec(name):\n",
    "        print(\"Start Dhruv Panchal\")\n",
    "        func(name)\n",
    "        print(\"End Dhruv Panchal\")\n",
    "    return inner_dec\n",
    "\n",
    "@deco\n",
    "def greeting(name):\n",
    "    print(\"Good morning to all and specially \", name)\n",
    "    print(\"Whishing you all very very happy Diwali\")"
   ]
  },
  {
   "cell_type": "code",
   "execution_count": 4,
   "id": "149963d6",
   "metadata": {},
   "outputs": [
    {
     "name": "stdout",
     "output_type": "stream",
     "text": [
      "Start Dhruv Panchal\n",
      "Good morning to all and specially  Dhruv Panchal\n",
      "Whishing you all very very happy Diwali\n",
      "End Dhruv Panchal\n"
     ]
    }
   ],
   "source": [
    "greeting(\"Dhruv Panchal\")"
   ]
  },
  {
   "cell_type": "code",
   "execution_count": 18,
   "id": "893c6cdc",
   "metadata": {},
   "outputs": [],
   "source": [
    "def decorator(func):\n",
    "    def inner(*args):\n",
    "        print(\"Start\")\n",
    "        ans = func(*args)\n",
    "        print(ans)\n",
    "        print(\"End\")\n",
    "        return ans\n",
    "    return inner"
   ]
  },
  {
   "cell_type": "code",
   "execution_count": 19,
   "id": "c9bff22b",
   "metadata": {},
   "outputs": [],
   "source": [
    "@decorator\n",
    "def addition(*args):\n",
    "    sum = 0 \n",
    "    for i in args :\n",
    "        sum = sum + i\n",
    "    return sum"
   ]
  },
  {
   "cell_type": "code",
   "execution_count": 20,
   "id": "37ecad58",
   "metadata": {},
   "outputs": [
    {
     "name": "stdout",
     "output_type": "stream",
     "text": [
      "Start\n",
      "21\n",
      "End\n"
     ]
    }
   ],
   "source": [
    "ans = addition(1,2,3,4,5,6)"
   ]
  },
  {
   "cell_type": "code",
   "execution_count": 21,
   "id": "f1f778d1",
   "metadata": {},
   "outputs": [
    {
     "data": {
      "text/plain": [
       "21"
      ]
     },
     "execution_count": 21,
     "metadata": {},
     "output_type": "execute_result"
    }
   ],
   "source": [
    "ans"
   ]
  },
  {
   "cell_type": "markdown",
   "id": "14dbd6f7",
   "metadata": {},
   "source": [
    "## class and static method"
   ]
  },
  {
   "cell_type": "code",
   "execution_count": 22,
   "id": "282fd7a3",
   "metadata": {},
   "outputs": [],
   "source": [
    "class dhruv_class:\n",
    "    \n",
    "    def __init__(self,name,number):\n",
    "        self.name = name\n",
    "        self.number = number\n",
    "        \n",
    "    def details(self):\n",
    "        print(f\"The name is {self.name} number is {self.number}\")"
   ]
  },
  {
   "cell_type": "code",
   "execution_count": 23,
   "id": "613b1c15",
   "metadata": {},
   "outputs": [],
   "source": [
    "d = dhruv_class(\"Dhruv panchal\",1)"
   ]
  },
  {
   "cell_type": "code",
   "execution_count": 24,
   "id": "be290444",
   "metadata": {},
   "outputs": [
    {
     "name": "stdout",
     "output_type": "stream",
     "text": [
      "The name is Dhruv panchal number is 1\n"
     ]
    }
   ],
   "source": [
    "d.details()"
   ]
  },
  {
   "cell_type": "code",
   "execution_count": 102,
   "id": "8835725b",
   "metadata": {},
   "outputs": [],
   "source": [
    "## class method \n",
    "\n",
    "class dhruv_class:\n",
    "    defaulte = 0 \n",
    "    \n",
    "    def __init__(self,name):\n",
    "        self.name = name\n",
    "        print(\"instance created using init method \\n\",dhruv_class.defaulte)\n",
    "        dhruv_class.defaulte = dhruv_class.defaulte + 1\n",
    "        \n",
    "    @classmethod\n",
    "    def dhruv_method(cls,name):\n",
    "        cls.defaulte = 10\n",
    "        print(\"object created using class method \\n\",dhruv_class.defaulte)\n",
    "        dhruv_class.defaulte = dhruv_class.defaulte+1\n",
    "        return cls(name)"
   ]
  },
  {
   "cell_type": "code",
   "execution_count": 103,
   "id": "0140c47c",
   "metadata": {},
   "outputs": [
    {
     "name": "stdout",
     "output_type": "stream",
     "text": [
      "instance created using init method \n",
      " 0\n"
     ]
    }
   ],
   "source": [
    "d1 = dhruv_class(\"Dhruv\")"
   ]
  },
  {
   "cell_type": "code",
   "execution_count": 27,
   "id": "8c794708",
   "metadata": {
    "scrolled": true
   },
   "outputs": [
    {
     "name": "stdout",
     "output_type": "stream",
     "text": [
      "object created using class method \n",
      " 10\n",
      "instance created using init method \n",
      " 11\n"
     ]
    }
   ],
   "source": [
    "d2 = dhruv_class.dhruv_method(\"Dhruv\")"
   ]
  },
  {
   "cell_type": "code",
   "execution_count": 28,
   "id": "35f38ff9",
   "metadata": {},
   "outputs": [
    {
     "data": {
      "text/plain": [
       "'Dhruv'"
      ]
     },
     "execution_count": 28,
     "metadata": {},
     "output_type": "execute_result"
    }
   ],
   "source": [
    "d2.name"
   ]
  },
  {
   "cell_type": "code",
   "execution_count": 29,
   "id": "7982eae2",
   "metadata": {},
   "outputs": [
    {
     "name": "stdout",
     "output_type": "stream",
     "text": [
      "object created using class method \n",
      " 10\n",
      "instance created using init method \n",
      " 11\n"
     ]
    }
   ],
   "source": [
    "d3 = dhruv_class.dhruv_method(\"panchal\")"
   ]
  },
  {
   "cell_type": "code",
   "execution_count": 30,
   "id": "b87a5f09",
   "metadata": {},
   "outputs": [
    {
     "name": "stdout",
     "output_type": "stream",
     "text": [
      "instance created using init method \n",
      " 12\n"
     ]
    }
   ],
   "source": [
    "d4 = dhruv_class(\"xyz\")"
   ]
  },
  {
   "cell_type": "markdown",
   "id": "6f163b94",
   "metadata": {},
   "source": [
    "Access to Class: Class methods, defined using @classmethod, have access to the class itself through the cls parameter.\n",
    "Usage: They can be used for various purposes related to the class, such as modifying class-level variables or creating instances of the class."
   ]
  },
  {
   "cell_type": "markdown",
   "id": "e555188d",
   "metadata": {},
   "source": [
    "Diff\n",
    "\n",
    "Access to Parameters:\n",
    "\n",
    "Static methods: Do not have access to self or cls.\n",
    "Class methods: Have access to cls, allowing interaction with class-level data.\n",
    "\n",
    "Usage:\n",
    "\n",
    "Static methods: For utility functions independent of instance or class state.\n",
    "Class methods: For operations involving class-level data and manipulation."
   ]
  },
  {
   "cell_type": "code",
   "execution_count": 13,
   "id": "45785b32",
   "metadata": {},
   "outputs": [],
   "source": [
    "class kody_technolab:\n",
    "    \n",
    "    Company_number = 9638527410\n",
    "    \n",
    "    def __init__(self,name,age):\n",
    "        self.name = name\n",
    "        self.age = age\n",
    "            \n",
    "    @classmethod\n",
    "    def add_using_class(cls,name,age):\n",
    "        return cls(name,age)\n",
    "\n",
    "    def add_number(self,number):\n",
    "        self.number = number \n",
    "\n",
    "    @classmethod\n",
    "    def change_company_number(cls,number):\n",
    "        kody_technolab.Company_number = number\n",
    "    \n",
    "    @classmethod\n",
    "    def add_company_mail(cls,mail):\n",
    "        kody_technolab.mail = mail\n",
    "    \n",
    "    def details(self):\n",
    "        print(f\"You name and age is {self.name} , {self.age}\")\n",
    "        print(\"you are working in kody technolab\")\n",
    "        print(f\"for any quarry you can contact at {kody_technolab.Company_number}, {kody_technolab.mail}\" )"
   ]
  },
  {
   "cell_type": "code",
   "execution_count": 14,
   "id": "a03d6872",
   "metadata": {},
   "outputs": [],
   "source": [
    "k1 = kody_technolab.add_using_class(\"Dhruv\",20)"
   ]
  },
  {
   "cell_type": "code",
   "execution_count": 15,
   "id": "7119dde9",
   "metadata": {},
   "outputs": [
    {
     "data": {
      "text/plain": [
       "'Dhruv'"
      ]
     },
     "execution_count": 15,
     "metadata": {},
     "output_type": "execute_result"
    }
   ],
   "source": [
    "k1.name"
   ]
  },
  {
   "cell_type": "code",
   "execution_count": 16,
   "id": "45012ff8",
   "metadata": {},
   "outputs": [
    {
     "data": {
      "text/plain": [
       "20"
      ]
     },
     "execution_count": 16,
     "metadata": {},
     "output_type": "execute_result"
    }
   ],
   "source": [
    "k1.age"
   ]
  },
  {
   "cell_type": "code",
   "execution_count": 17,
   "id": "865266f2",
   "metadata": {},
   "outputs": [],
   "source": [
    "k1.add_number(74108529630)"
   ]
  },
  {
   "cell_type": "code",
   "execution_count": 18,
   "id": "fc1a14cc",
   "metadata": {},
   "outputs": [
    {
     "data": {
      "text/plain": [
       "74108529630"
      ]
     },
     "execution_count": 18,
     "metadata": {},
     "output_type": "execute_result"
    }
   ],
   "source": [
    "k1.number"
   ]
  },
  {
   "cell_type": "code",
   "execution_count": 19,
   "id": "55e87020",
   "metadata": {},
   "outputs": [],
   "source": [
    "k1.add_company_mail(\"kody@technolab_gmail.com\")"
   ]
  },
  {
   "cell_type": "code",
   "execution_count": 20,
   "id": "87a7c1f6",
   "metadata": {},
   "outputs": [
    {
     "data": {
      "text/plain": [
       "'kody@technolab_gmail.com'"
      ]
     },
     "execution_count": 20,
     "metadata": {},
     "output_type": "execute_result"
    }
   ],
   "source": [
    "k1.mail"
   ]
  },
  {
   "cell_type": "code",
   "execution_count": 21,
   "id": "3cc9b382",
   "metadata": {},
   "outputs": [
    {
     "data": {
      "text/plain": [
       "9638527410"
      ]
     },
     "execution_count": 21,
     "metadata": {},
     "output_type": "execute_result"
    }
   ],
   "source": [
    "k1.Company_number"
   ]
  },
  {
   "cell_type": "code",
   "execution_count": 22,
   "id": "5cdca799",
   "metadata": {},
   "outputs": [
    {
     "name": "stdout",
     "output_type": "stream",
     "text": [
      "You name and age is Dhruv , 20\n",
      "you are working in kody technolab\n",
      "for any quarry you can contact at 9638527410, kody@technolab_gmail.com\n"
     ]
    }
   ],
   "source": [
    "k1.details()"
   ]
  },
  {
   "cell_type": "code",
   "execution_count": 25,
   "id": "224bb12c",
   "metadata": {},
   "outputs": [],
   "source": [
    "k1.change_company_number(741963410523)"
   ]
  },
  {
   "cell_type": "code",
   "execution_count": 27,
   "id": "f5183c46",
   "metadata": {},
   "outputs": [
    {
     "name": "stdout",
     "output_type": "stream",
     "text": [
      "You name and age is Dhruv , 20\n",
      "you are working in kody technolab\n",
      "for any quarry you can contact at 741963410523, kody@technolab_gmail.com\n"
     ]
    }
   ],
   "source": [
    "k1.details()"
   ]
  },
  {
   "cell_type": "code",
   "execution_count": 28,
   "id": "bebf5e90",
   "metadata": {},
   "outputs": [],
   "source": [
    "k2 = kody_technolab(\"harshit\",23)"
   ]
  },
  {
   "cell_type": "code",
   "execution_count": 29,
   "id": "a8711ae2",
   "metadata": {},
   "outputs": [
    {
     "data": {
      "text/plain": [
       "741963410523"
      ]
     },
     "execution_count": 29,
     "metadata": {},
     "output_type": "execute_result"
    }
   ],
   "source": [
    "k2.Company_number"
   ]
  },
  {
   "cell_type": "code",
   "execution_count": 30,
   "id": "2e3d92a8",
   "metadata": {},
   "outputs": [
    {
     "data": {
      "text/plain": [
       "'kody@technolab_gmail.com'"
      ]
     },
     "execution_count": 30,
     "metadata": {},
     "output_type": "execute_result"
    }
   ],
   "source": [
    "k2.mail"
   ]
  },
  {
   "cell_type": "code",
   "execution_count": 31,
   "id": "2723a546",
   "metadata": {},
   "outputs": [
    {
     "name": "stdout",
     "output_type": "stream",
     "text": [
      "You name and age is harshit , 23\n",
      "you are working in kody technolab\n",
      "for any quarry you can contact at 741963410523, kody@technolab_gmail.com\n"
     ]
    }
   ],
   "source": [
    "k2.details()"
   ]
  },
  {
   "cell_type": "code",
   "execution_count": 32,
   "id": "6c9bcf65",
   "metadata": {},
   "outputs": [
    {
     "data": {
      "text/plain": [
       "74108529630"
      ]
     },
     "execution_count": 32,
     "metadata": {},
     "output_type": "execute_result"
    }
   ],
   "source": [
    "k1.number"
   ]
  },
  {
   "cell_type": "code",
   "execution_count": 34,
   "id": "da4bd7a7",
   "metadata": {},
   "outputs": [],
   "source": [
    "k2.add_number(741852000)"
   ]
  },
  {
   "cell_type": "code",
   "execution_count": 35,
   "id": "cd0afcad",
   "metadata": {},
   "outputs": [
    {
     "data": {
      "text/plain": [
       "741852000"
      ]
     },
     "execution_count": 35,
     "metadata": {},
     "output_type": "execute_result"
    }
   ],
   "source": [
    "k2.number"
   ]
  },
  {
   "cell_type": "code",
   "execution_count": 36,
   "id": "dfba6d77",
   "metadata": {},
   "outputs": [],
   "source": [
    "## create outside method to class method"
   ]
  },
  {
   "cell_type": "code",
   "execution_count": 37,
   "id": "138b4056",
   "metadata": {},
   "outputs": [],
   "source": [
    "def technology(cls,technology_name):\n",
    "    kody_technolab.techo_name = technology_name"
   ]
  },
  {
   "cell_type": "code",
   "execution_count": 38,
   "id": "907b4256",
   "metadata": {},
   "outputs": [],
   "source": [
    "kody_technolab.technology = classmethod(technology)"
   ]
  },
  {
   "cell_type": "code",
   "execution_count": 39,
   "id": "f72fd30c",
   "metadata": {},
   "outputs": [],
   "source": [
    "k1.technology(\"python\")"
   ]
  },
  {
   "cell_type": "code",
   "execution_count": 40,
   "id": "d8eacf68",
   "metadata": {},
   "outputs": [
    {
     "data": {
      "text/plain": [
       "'python'"
      ]
     },
     "execution_count": 40,
     "metadata": {},
     "output_type": "execute_result"
    }
   ],
   "source": [
    "k1.techo_name"
   ]
  },
  {
   "cell_type": "code",
   "execution_count": 41,
   "id": "6c3c3596",
   "metadata": {},
   "outputs": [
    {
     "data": {
      "text/plain": [
       "'python'"
      ]
     },
     "execution_count": 41,
     "metadata": {},
     "output_type": "execute_result"
    }
   ],
   "source": [
    "k2.techo_name"
   ]
  },
  {
   "cell_type": "code",
   "execution_count": 42,
   "id": "c5a9889e",
   "metadata": {},
   "outputs": [],
   "source": [
    "del kody_technolab.change_company_number"
   ]
  },
  {
   "cell_type": "code",
   "execution_count": 43,
   "id": "c376b4ec",
   "metadata": {},
   "outputs": [
    {
     "ename": "AttributeError",
     "evalue": "'kody_technolab' object has no attribute 'change_company_number'",
     "output_type": "error",
     "traceback": [
      "\u001b[1;31m---------------------------------------------------------------------------\u001b[0m",
      "\u001b[1;31mAttributeError\u001b[0m                            Traceback (most recent call last)",
      "Cell \u001b[1;32mIn[43], line 1\u001b[0m\n\u001b[1;32m----> 1\u001b[0m \u001b[43mk1\u001b[49m\u001b[38;5;241;43m.\u001b[39;49m\u001b[43mchange_company_number\u001b[49m(\u001b[38;5;241m7410920\u001b[39m)\n",
      "\u001b[1;31mAttributeError\u001b[0m: 'kody_technolab' object has no attribute 'change_company_number'"
     ]
    }
   ],
   "source": [
    "k1.change_company_number(7410920)"
   ]
  },
  {
   "cell_type": "code",
   "execution_count": 47,
   "id": "39207222",
   "metadata": {},
   "outputs": [],
   "source": [
    "delattr(kody_technolab,\"add_company_mail\")"
   ]
  },
  {
   "cell_type": "code",
   "execution_count": 49,
   "id": "0a154388",
   "metadata": {},
   "outputs": [
    {
     "name": "stdout",
     "output_type": "stream",
     "text": [
      "You name and age is Dhruv , 20\n",
      "you are working in kody technolab\n",
      "for any quarry you can contact at 741963410523, kody@technolab_gmail.com\n"
     ]
    }
   ],
   "source": [
    "k1.details()"
   ]
  },
  {
   "cell_type": "code",
   "execution_count": 50,
   "id": "beff82a4",
   "metadata": {},
   "outputs": [
    {
     "ename": "AttributeError",
     "evalue": "'kody_technolab' object has no attribute 'add_company_mail'",
     "output_type": "error",
     "traceback": [
      "\u001b[1;31m---------------------------------------------------------------------------\u001b[0m",
      "\u001b[1;31mAttributeError\u001b[0m                            Traceback (most recent call last)",
      "Cell \u001b[1;32mIn[50], line 1\u001b[0m\n\u001b[1;32m----> 1\u001b[0m \u001b[43mk1\u001b[49m\u001b[38;5;241;43m.\u001b[39;49m\u001b[43madd_company_mail\u001b[49m(\u001b[38;5;124m\"\u001b[39m\u001b[38;5;124mkody12technolab@gmail.com\u001b[39m\u001b[38;5;124m\"\u001b[39m)\n",
      "\u001b[1;31mAttributeError\u001b[0m: 'kody_technolab' object has no attribute 'add_company_mail'"
     ]
    }
   ],
   "source": [
    "k1.add_company_mail(\"kody12technolab@gmail.com\")"
   ]
  },
  {
   "cell_type": "code",
   "execution_count": 51,
   "id": "d7aa17aa",
   "metadata": {},
   "outputs": [
    {
     "ename": "AttributeError",
     "evalue": "'kody_technolab' object has no attribute 'add_company_mail'",
     "output_type": "error",
     "traceback": [
      "\u001b[1;31m---------------------------------------------------------------------------\u001b[0m",
      "\u001b[1;31mAttributeError\u001b[0m                            Traceback (most recent call last)",
      "Cell \u001b[1;32mIn[51], line 1\u001b[0m\n\u001b[1;32m----> 1\u001b[0m \u001b[43mk2\u001b[49m\u001b[38;5;241;43m.\u001b[39;49m\u001b[43madd_company_mail\u001b[49m(\u001b[38;5;124m\"\u001b[39m\u001b[38;5;124mqwertyuhgfd@gmail.com\u001b[39m\u001b[38;5;124m\"\u001b[39m)\n",
      "\u001b[1;31mAttributeError\u001b[0m: 'kody_technolab' object has no attribute 'add_company_mail'"
     ]
    }
   ],
   "source": [
    "k2.add_company_mail(\"qwertyuhgfd@gmail.com\")"
   ]
  },
  {
   "cell_type": "code",
   "execution_count": 52,
   "id": "a1b59c2a",
   "metadata": {},
   "outputs": [],
   "source": [
    "## static method "
   ]
  },
  {
   "cell_type": "markdown",
   "id": "74d7fefc",
   "metadata": {},
   "source": [
    "Definition:\n",
    "\n",
    "Static methods in Python are defined using the @staticmethod decorator.\n",
    "They belong to the class but do not have access to the instance or class state through implicit parameters.\n",
    "\n",
    "Characteristics:\n",
    "\n",
    "They don't operate on instance-specific data and do not modify the class state.\n",
    "No access to self or cls parameters, meaning they cannot access instance or class variables unless explicitly passed as arguments.\n",
    "\n",
    "Use Cases:\n",
    "\n",
    "Utility functions related to the class.\n",
    "Functions that do not require access to instance or class-specific data."
   ]
  },
  {
   "cell_type": "code",
   "execution_count": 54,
   "id": "347997dc",
   "metadata": {},
   "outputs": [],
   "source": [
    "class d_school:\n",
    "    \n",
    "    def __init__(self,name,token_number):\n",
    "        self.name = name\n",
    "        self.number = token_number\n",
    "        \n",
    "    def show(self):\n",
    "        print(self.number)\n",
    "        print(self.name)\n",
    "        \n",
    "    @staticmethod\n",
    "    def list_of_technology(list_of_technology):\n",
    "        d_school.list_tech = list_of_technology\n",
    "    "
   ]
  },
  {
   "cell_type": "code",
   "execution_count": 55,
   "id": "fbe4b7c9",
   "metadata": {},
   "outputs": [],
   "source": [
    "d1 = d_school(\"Dhruv Panchal\",1)"
   ]
  },
  {
   "cell_type": "code",
   "execution_count": 56,
   "id": "61619ee0",
   "metadata": {},
   "outputs": [
    {
     "name": "stdout",
     "output_type": "stream",
     "text": [
      "1\n",
      "Dhruv Panchal\n"
     ]
    }
   ],
   "source": [
    "d1.show()"
   ]
  },
  {
   "cell_type": "code",
   "execution_count": 57,
   "id": "14abbbde",
   "metadata": {},
   "outputs": [],
   "source": [
    "d1.list_of_technology([\"python\",\"java\",\"c\",\"c++\",\"mobile app\",\"web devlopment\"])\n"
   ]
  },
  {
   "cell_type": "code",
   "execution_count": 58,
   "id": "eddd6f5e",
   "metadata": {},
   "outputs": [
    {
     "data": {
      "text/plain": [
       "['python', 'java', 'c', 'c++', 'mobile app', 'web devlopment']"
      ]
     },
     "execution_count": 58,
     "metadata": {},
     "output_type": "execute_result"
    }
   ],
   "source": [
    "d1.list_tech"
   ]
  },
  {
   "cell_type": "code",
   "execution_count": 59,
   "id": "4c3b1691",
   "metadata": {},
   "outputs": [
    {
     "data": {
      "text/plain": [
       "['python', 'java', 'c', 'c++', 'mobile app', 'web devlopment']"
      ]
     },
     "execution_count": 59,
     "metadata": {},
     "output_type": "execute_result"
    }
   ],
   "source": [
    "d_school.list_tech"
   ]
  },
  {
   "cell_type": "code",
   "execution_count": 60,
   "id": "195d8ea3",
   "metadata": {},
   "outputs": [],
   "source": [
    "d2 = d_school(\"Pravin\",2)"
   ]
  },
  {
   "cell_type": "code",
   "execution_count": 61,
   "id": "d8ec6956",
   "metadata": {},
   "outputs": [
    {
     "data": {
      "text/plain": [
       "['python', 'java', 'c', 'c++', 'mobile app', 'web devlopment']"
      ]
     },
     "execution_count": 61,
     "metadata": {},
     "output_type": "execute_result"
    }
   ],
   "source": [
    "d2.list_tech"
   ]
  },
  {
   "cell_type": "code",
   "execution_count": 62,
   "id": "d19fbf29",
   "metadata": {},
   "outputs": [
    {
     "name": "stdout",
     "output_type": "stream",
     "text": [
      "2\n",
      "Pravin\n"
     ]
    }
   ],
   "source": [
    "d2.show()"
   ]
  },
  {
   "cell_type": "code",
   "execution_count": 63,
   "id": "417fa85c",
   "metadata": {},
   "outputs": [
    {
     "name": "stdout",
     "output_type": "stream",
     "text": [
      "1\n",
      "Dhruv Panchal\n"
     ]
    }
   ],
   "source": [
    "d1.show()"
   ]
  },
  {
   "cell_type": "code",
   "execution_count": 64,
   "id": "7694a2c8",
   "metadata": {},
   "outputs": [
    {
     "data": {
      "text/plain": [
       "['python', 'java', 'c', 'c++', 'mobile app', 'web devlopment']"
      ]
     },
     "execution_count": 64,
     "metadata": {},
     "output_type": "execute_result"
    }
   ],
   "source": [
    "d1.list_tech"
   ]
  },
  {
   "cell_type": "code",
   "execution_count": 65,
   "id": "c6534686",
   "metadata": {},
   "outputs": [
    {
     "data": {
      "text/plain": [
       "['python', 'java', 'c', 'c++', 'mobile app', 'web devlopment']"
      ]
     },
     "execution_count": 65,
     "metadata": {},
     "output_type": "execute_result"
    }
   ],
   "source": [
    "d2.list_tech"
   ]
  },
  {
   "cell_type": "markdown",
   "id": "b8b44731",
   "metadata": {},
   "source": [
    "## Donnder or magic method"
   ]
  },
  {
   "cell_type": "code",
   "execution_count": 66,
   "id": "efce35ca",
   "metadata": {},
   "outputs": [
    {
     "data": {
      "text/plain": [
       "['__abs__',\n",
       " '__add__',\n",
       " '__and__',\n",
       " '__bool__',\n",
       " '__ceil__',\n",
       " '__class__',\n",
       " '__delattr__',\n",
       " '__dir__',\n",
       " '__divmod__',\n",
       " '__doc__',\n",
       " '__eq__',\n",
       " '__float__',\n",
       " '__floor__',\n",
       " '__floordiv__',\n",
       " '__format__',\n",
       " '__ge__',\n",
       " '__getattribute__',\n",
       " '__getnewargs__',\n",
       " '__gt__',\n",
       " '__hash__',\n",
       " '__index__',\n",
       " '__init__',\n",
       " '__init_subclass__',\n",
       " '__int__',\n",
       " '__invert__',\n",
       " '__le__',\n",
       " '__lshift__',\n",
       " '__lt__',\n",
       " '__mod__',\n",
       " '__mul__',\n",
       " '__ne__',\n",
       " '__neg__',\n",
       " '__new__',\n",
       " '__or__',\n",
       " '__pos__',\n",
       " '__pow__',\n",
       " '__radd__',\n",
       " '__rand__',\n",
       " '__rdivmod__',\n",
       " '__reduce__',\n",
       " '__reduce_ex__',\n",
       " '__repr__',\n",
       " '__rfloordiv__',\n",
       " '__rlshift__',\n",
       " '__rmod__',\n",
       " '__rmul__',\n",
       " '__ror__',\n",
       " '__round__',\n",
       " '__rpow__',\n",
       " '__rrshift__',\n",
       " '__rshift__',\n",
       " '__rsub__',\n",
       " '__rtruediv__',\n",
       " '__rxor__',\n",
       " '__setattr__',\n",
       " '__sizeof__',\n",
       " '__str__',\n",
       " '__sub__',\n",
       " '__subclasshook__',\n",
       " '__truediv__',\n",
       " '__trunc__',\n",
       " '__xor__',\n",
       " 'as_integer_ratio',\n",
       " 'bit_length',\n",
       " 'conjugate',\n",
       " 'denominator',\n",
       " 'from_bytes',\n",
       " 'imag',\n",
       " 'numerator',\n",
       " 'real',\n",
       " 'to_bytes']"
      ]
     },
     "execution_count": 66,
     "metadata": {},
     "output_type": "execute_result"
    }
   ],
   "source": [
    "dir(int)"
   ]
  },
  {
   "cell_type": "code",
   "execution_count": 67,
   "id": "4a9af683",
   "metadata": {},
   "outputs": [
    {
     "data": {
      "text/plain": [
       "['__call__',\n",
       " '__class__',\n",
       " '__delattr__',\n",
       " '__dir__',\n",
       " '__doc__',\n",
       " '__eq__',\n",
       " '__format__',\n",
       " '__ge__',\n",
       " '__getattribute__',\n",
       " '__gt__',\n",
       " '__hash__',\n",
       " '__init__',\n",
       " '__init_subclass__',\n",
       " '__le__',\n",
       " '__lt__',\n",
       " '__module__',\n",
       " '__name__',\n",
       " '__ne__',\n",
       " '__new__',\n",
       " '__qualname__',\n",
       " '__reduce__',\n",
       " '__reduce_ex__',\n",
       " '__repr__',\n",
       " '__self__',\n",
       " '__setattr__',\n",
       " '__sizeof__',\n",
       " '__str__',\n",
       " '__subclasshook__',\n",
       " '__text_signature__']"
      ]
     },
     "execution_count": 67,
     "metadata": {},
     "output_type": "execute_result"
    }
   ],
   "source": [
    "dir(print)"
   ]
  },
  {
   "cell_type": "code",
   "execution_count": 71,
   "id": "629d8f77",
   "metadata": {},
   "outputs": [],
   "source": [
    "## Example"
   ]
  },
  {
   "cell_type": "code",
   "execution_count": 72,
   "id": "95bb069b",
   "metadata": {},
   "outputs": [],
   "source": [
    "a = 10\n",
    "b = 5"
   ]
  },
  {
   "cell_type": "code",
   "execution_count": 73,
   "id": "ad00d3ab",
   "metadata": {},
   "outputs": [
    {
     "data": {
      "text/plain": [
       "15"
      ]
     },
     "execution_count": 73,
     "metadata": {},
     "output_type": "execute_result"
    }
   ],
   "source": [
    "a+b"
   ]
  },
  {
   "cell_type": "code",
   "execution_count": 74,
   "id": "3a866a37",
   "metadata": {},
   "outputs": [
    {
     "data": {
      "text/plain": [
       "15"
      ]
     },
     "execution_count": 74,
     "metadata": {},
     "output_type": "execute_result"
    }
   ],
   "source": [
    "a.__add__(b)"
   ]
  },
  {
   "cell_type": "code",
   "execution_count": 76,
   "id": "0ede3ccd",
   "metadata": {},
   "outputs": [],
   "source": [
    "### __init__ , __add__ , __new__ , __str__"
   ]
  },
  {
   "cell_type": "code",
   "execution_count": 77,
   "id": "1fd2d636",
   "metadata": {},
   "outputs": [],
   "source": [
    "class base_class:\n",
    "    \n",
    "    def __init__(self,name):\n",
    "        self.name = name\n",
    "        \n",
    "    def __str__(self):\n",
    "        return \"This fuction is doing nothing.\""
   ]
  },
  {
   "cell_type": "code",
   "execution_count": 78,
   "id": "1b422074",
   "metadata": {},
   "outputs": [],
   "source": [
    "c1 = base_class(\"Dhruv\")"
   ]
  },
  {
   "cell_type": "code",
   "execution_count": 79,
   "id": "f6b758d1",
   "metadata": {},
   "outputs": [
    {
     "data": {
      "text/plain": [
       "'Dhruv'"
      ]
     },
     "execution_count": 79,
     "metadata": {},
     "output_type": "execute_result"
    }
   ],
   "source": [
    "c1.name"
   ]
  },
  {
   "cell_type": "code",
   "execution_count": 80,
   "id": "c1bd20ae",
   "metadata": {},
   "outputs": [
    {
     "data": {
      "text/plain": [
       "<__main__.base_class at 0x23c897fab20>"
      ]
     },
     "execution_count": 80,
     "metadata": {},
     "output_type": "execute_result"
    }
   ],
   "source": [
    "c1"
   ]
  },
  {
   "cell_type": "code",
   "execution_count": 81,
   "id": "248954e2",
   "metadata": {},
   "outputs": [
    {
     "name": "stdout",
     "output_type": "stream",
     "text": [
      "This fuction is doing nothing.\n"
     ]
    }
   ],
   "source": [
    "print(c1)"
   ]
  },
  {
   "cell_type": "code",
   "execution_count": 84,
   "id": "91531225",
   "metadata": {},
   "outputs": [
    {
     "name": "stdout",
     "output_type": "stream",
     "text": [
      "<class '__main__.base_class'>\n"
     ]
    }
   ],
   "source": [
    "print(base_class)"
   ]
  },
  {
   "cell_type": "code",
   "execution_count": 90,
   "id": "9228b445",
   "metadata": {},
   "outputs": [],
   "source": [
    "class base_class :\n",
    "    \n",
    "    def __init__(self,name,number):\n",
    "        self.name = name\n",
    "        self.number = number\n",
    "        \n",
    "    def __new__(cls,name):\n",
    "        cls.name = name\n",
    "        print(\"this is a new method.\")"
   ]
  },
  {
   "cell_type": "code",
   "execution_count": 91,
   "id": "3a350200",
   "metadata": {},
   "outputs": [
    {
     "name": "stdout",
     "output_type": "stream",
     "text": [
      "this is a new method.\n"
     ]
    }
   ],
   "source": [
    "b1 = base_class(\"Dhruv\")"
   ]
  },
  {
   "cell_type": "code",
   "execution_count": 92,
   "id": "28ac5d29",
   "metadata": {},
   "outputs": [
    {
     "ename": "AttributeError",
     "evalue": "'NoneType' object has no attribute 'name'",
     "output_type": "error",
     "traceback": [
      "\u001b[1;31m---------------------------------------------------------------------------\u001b[0m",
      "\u001b[1;31mAttributeError\u001b[0m                            Traceback (most recent call last)",
      "Cell \u001b[1;32mIn[92], line 1\u001b[0m\n\u001b[1;32m----> 1\u001b[0m \u001b[43mb1\u001b[49m\u001b[38;5;241;43m.\u001b[39;49m\u001b[43mname\u001b[49m\n",
      "\u001b[1;31mAttributeError\u001b[0m: 'NoneType' object has no attribute 'name'"
     ]
    }
   ],
   "source": [
    "b1.name"
   ]
  },
  {
   "cell_type": "code",
   "execution_count": 93,
   "id": "effa0456",
   "metadata": {},
   "outputs": [
    {
     "data": {
      "text/plain": [
       "'Dhruv'"
      ]
     },
     "execution_count": 93,
     "metadata": {},
     "output_type": "execute_result"
    }
   ],
   "source": [
    "base_class.name"
   ]
  },
  {
   "cell_type": "code",
   "execution_count": null,
   "id": "f089535e",
   "metadata": {},
   "outputs": [],
   "source": [
    "## new method run first."
   ]
  },
  {
   "cell_type": "code",
   "execution_count": 8,
   "id": "fde09cc3",
   "metadata": {},
   "outputs": [],
   "source": [
    "class base_class :\n",
    "    \n",
    "    def __init__(self,name,number):\n",
    "        self.name = name\n",
    "        self.number = number\n",
    "        \n",
    "    def __new__(cls,name):\n",
    "        cls.name = name\n",
    "        print(\"this is a new method.\")"
   ]
  },
  {
   "cell_type": "code",
   "execution_count": 9,
   "id": "84d0a4a0",
   "metadata": {},
   "outputs": [
    {
     "name": "stdout",
     "output_type": "stream",
     "text": [
      "this is a new method.\n"
     ]
    }
   ],
   "source": [
    "b1 = base_class(\"Dhruv\")"
   ]
  },
  {
   "cell_type": "code",
   "execution_count": 10,
   "id": "8ae07666",
   "metadata": {},
   "outputs": [
    {
     "ename": "AttributeError",
     "evalue": "'NoneType' object has no attribute 'name'",
     "output_type": "error",
     "traceback": [
      "\u001b[1;31m---------------------------------------------------------------------------\u001b[0m",
      "\u001b[1;31mAttributeError\u001b[0m                            Traceback (most recent call last)",
      "Cell \u001b[1;32mIn[10], line 1\u001b[0m\n\u001b[1;32m----> 1\u001b[0m \u001b[43mb1\u001b[49m\u001b[38;5;241;43m.\u001b[39;49m\u001b[43mname\u001b[49m\n",
      "\u001b[1;31mAttributeError\u001b[0m: 'NoneType' object has no attribute 'name'"
     ]
    }
   ],
   "source": [
    "b1.name"
   ]
  },
  {
   "cell_type": "code",
   "execution_count": 11,
   "id": "4f9f83d9",
   "metadata": {},
   "outputs": [
    {
     "data": {
      "text/plain": [
       "'Dhruv'"
      ]
     },
     "execution_count": 11,
     "metadata": {},
     "output_type": "execute_result"
    }
   ],
   "source": [
    "base_class.name"
   ]
  },
  {
   "cell_type": "code",
   "execution_count": 12,
   "id": "9e273361",
   "metadata": {},
   "outputs": [
    {
     "ename": "TypeError",
     "evalue": "__new__() takes 2 positional arguments but 3 were given",
     "output_type": "error",
     "traceback": [
      "\u001b[1;31m---------------------------------------------------------------------------\u001b[0m",
      "\u001b[1;31mTypeError\u001b[0m                                 Traceback (most recent call last)",
      "Cell \u001b[1;32mIn[12], line 1\u001b[0m\n\u001b[1;32m----> 1\u001b[0m b2 \u001b[38;5;241m=\u001b[39m \u001b[43mbase_class\u001b[49m\u001b[43m(\u001b[49m\u001b[38;5;124;43m\"\u001b[39;49m\u001b[38;5;124;43mDhruv\u001b[39;49m\u001b[38;5;124;43m\"\u001b[39;49m\u001b[43m,\u001b[49m\u001b[38;5;241;43m741085209630\u001b[39;49m\u001b[43m)\u001b[49m\n",
      "\u001b[1;31mTypeError\u001b[0m: __new__() takes 2 positional arguments but 3 were given"
     ]
    }
   ],
   "source": [
    "b2 = base_class(\"Dhruv\",741085209630)"
   ]
  },
  {
   "cell_type": "markdown",
   "id": "07ec5fb9",
   "metadata": {},
   "source": [
    "## getter setter"
   ]
  },
  {
   "cell_type": "code",
   "execution_count": 99,
   "id": "de4b6225",
   "metadata": {},
   "outputs": [],
   "source": [
    "class Hdfc_bank:\n",
    "    \n",
    "    def __init__(self,name,account_number,balance):\n",
    "        self.name = name\n",
    "        self.__account_number = account_number\n",
    "        self.__balance = balance\n",
    "        \n",
    "    @property\n",
    "    def show_balance(self):\n",
    "        return self.__balance\n",
    "    \n",
    "    @show_balance.setter\n",
    "    def set_balance(self,balance):\n",
    "        self.__balance = balance\n",
    "        "
   ]
  },
  {
   "cell_type": "code",
   "execution_count": 100,
   "id": "ea61f918",
   "metadata": {},
   "outputs": [],
   "source": [
    "acc1 = Hdfc_bank(\"Dhruv\",44567898765432,123456)"
   ]
  },
  {
   "cell_type": "code",
   "execution_count": 101,
   "id": "450b87d9",
   "metadata": {},
   "outputs": [
    {
     "data": {
      "text/plain": [
       "'Dhruv'"
      ]
     },
     "execution_count": 101,
     "metadata": {},
     "output_type": "execute_result"
    }
   ],
   "source": [
    "acc1.name"
   ]
  },
  {
   "cell_type": "code",
   "execution_count": 102,
   "id": "f2313ebf",
   "metadata": {},
   "outputs": [
    {
     "data": {
      "text/plain": [
       "44567898765432"
      ]
     },
     "execution_count": 102,
     "metadata": {},
     "output_type": "execute_result"
    }
   ],
   "source": [
    "acc1._Hdfc_bank__account_number"
   ]
  },
  {
   "cell_type": "code",
   "execution_count": 105,
   "id": "25c18e51",
   "metadata": {},
   "outputs": [
    {
     "data": {
      "text/plain": [
       "123456"
      ]
     },
     "execution_count": 105,
     "metadata": {},
     "output_type": "execute_result"
    }
   ],
   "source": [
    "acc1._Hdfc_bank__balance"
   ]
  },
  {
   "cell_type": "code",
   "execution_count": 106,
   "id": "7061d260",
   "metadata": {},
   "outputs": [
    {
     "data": {
      "text/plain": [
       "123456"
      ]
     },
     "execution_count": 106,
     "metadata": {},
     "output_type": "execute_result"
    }
   ],
   "source": [
    "acc1.show_balance"
   ]
  },
  {
   "cell_type": "code",
   "execution_count": 107,
   "id": "6339b7ae",
   "metadata": {},
   "outputs": [],
   "source": [
    "acc1.set_balance = 55000"
   ]
  },
  {
   "cell_type": "code",
   "execution_count": 108,
   "id": "5a082dea",
   "metadata": {},
   "outputs": [
    {
     "data": {
      "text/plain": [
       "55000"
      ]
     },
     "execution_count": 108,
     "metadata": {},
     "output_type": "execute_result"
    }
   ],
   "source": [
    "acc1.show_balance"
   ]
  },
  {
   "cell_type": "markdown",
   "id": "52536fdb",
   "metadata": {},
   "source": [
    "\n",
    "    In Python, getter and setter methods are used to control access to an object's attributes. These methods help enforce encapsulation and ensure proper handling of attribute values.\n",
    "\n",
    "    Getter and Setter Methods:\n",
    "    Getter Method:\n",
    "\n",
    "    A getter method retrieves the value of a private attribute.\n",
    "    It allows controlled access to retrieve the attribute's value.\n",
    "    Setter Method:\n",
    "\n",
    "    A setter method modifies the value of a private attribute.\n",
    "    It allows controlled modification or validation of attribute values.\n"
   ]
  },
  {
   "cell_type": "markdown",
   "id": "fbb5d250",
   "metadata": {},
   "source": [
    "    Benefits:\n",
    "    Encapsulation: Helps in encapsulating the attributes by controlling their access.\n",
    "\n",
    "    Validation: Allows validation of values before setting attributes.\n",
    "\n",
    "    Flexibility: Facilitates changes in implementation without affecting external code.\n",
    "    By using getters and setters, you can enforce restrictions, perform validation, or add additional logic when accessing or modifying attributes in your Python classes, promoting more robust and maintainable code in an object-oriented context.\n"
   ]
  },
  {
   "cell_type": "code",
   "execution_count": 109,
   "id": "d0f361c9",
   "metadata": {},
   "outputs": [
    {
     "data": {
      "text/plain": [
       "'C:\\\\Users\\\\dhruv\\\\Documents\\\\ML'"
      ]
     },
     "execution_count": 109,
     "metadata": {},
     "output_type": "execute_result"
    }
   ],
   "source": [
    "pwd"
   ]
  },
  {
   "cell_type": "code",
   "execution_count": null,
   "id": "0ade24b7",
   "metadata": {},
   "outputs": [],
   "source": []
  },
  {
   "cell_type": "code",
   "execution_count": null,
   "id": "4b3a9f10",
   "metadata": {},
   "outputs": [],
   "source": []
  },
  {
   "cell_type": "code",
   "execution_count": null,
   "id": "568b2cc0",
   "metadata": {},
   "outputs": [],
   "source": []
  },
  {
   "cell_type": "code",
   "execution_count": null,
   "id": "23b06fc1",
   "metadata": {},
   "outputs": [],
   "source": []
  },
  {
   "cell_type": "markdown",
   "id": "80e9a465",
   "metadata": {},
   "source": [
    "## File opration "
   ]
  },
  {
   "cell_type": "code",
   "execution_count": 3,
   "id": "99ec8643",
   "metadata": {},
   "outputs": [],
   "source": [
    "f = open(\"Dhruv_text.txt\",\"w\")"
   ]
  },
  {
   "cell_type": "code",
   "execution_count": 4,
   "id": "c054af9d",
   "metadata": {},
   "outputs": [
    {
     "data": {
      "text/plain": [
       "27"
      ]
     },
     "execution_count": 4,
     "metadata": {},
     "output_type": "execute_result"
    }
   ],
   "source": [
    "f.write(\"Hello This is dhruv panchal\")\n"
   ]
  },
  {
   "cell_type": "code",
   "execution_count": 5,
   "id": "4da3c01f",
   "metadata": {},
   "outputs": [],
   "source": [
    "f.close()"
   ]
  },
  {
   "cell_type": "code",
   "execution_count": 6,
   "id": "9f37115e",
   "metadata": {},
   "outputs": [
    {
     "name": "stdout",
     "output_type": "stream",
     "text": [
      "Hello This is dhruv panchal\n"
     ]
    }
   ],
   "source": [
    "f = open(\"Dhruv_text.txt\",\"r\")\n",
    "text = f.read()\n",
    "f.close()\n",
    "print(text)"
   ]
  },
  {
   "cell_type": "code",
   "execution_count": 7,
   "id": "acce1eea",
   "metadata": {},
   "outputs": [
    {
     "data": {
      "text/plain": [
       "'Hello This is dhruv panchal'"
      ]
     },
     "execution_count": 7,
     "metadata": {},
     "output_type": "execute_result"
    }
   ],
   "source": [
    "text"
   ]
  },
  {
   "cell_type": "code",
   "execution_count": 8,
   "id": "6438dd69",
   "metadata": {},
   "outputs": [],
   "source": [
    "f = open(\"Dhruv.txt\",\"r\")"
   ]
  },
  {
   "cell_type": "code",
   "execution_count": 9,
   "id": "9fb12f45",
   "metadata": {},
   "outputs": [
    {
     "data": {
      "text/plain": [
       "\"this is my file--------- ---------------------------------------------------------------\\n\\n'r'       open for reading (default)\\n\\n'w'       open for writing, truncating the file first\\n\\n'x'       create a new file and open it for writing\\n\\n'a'       open for writing, appending to the end of the file if it exists\\n\\n'b'       binary mode\\n\\n't'       text mode (default)\\n\\n'+'       open a disk file for updating (reading and writing)\\n\\n'U'       universal newline mode (deprecated)\\n\""
      ]
     },
     "execution_count": 9,
     "metadata": {},
     "output_type": "execute_result"
    }
   ],
   "source": [
    "f.read()"
   ]
  },
  {
   "cell_type": "code",
   "execution_count": 10,
   "id": "1431f170",
   "metadata": {},
   "outputs": [],
   "source": [
    "f.close()"
   ]
  },
  {
   "cell_type": "code",
   "execution_count": 11,
   "id": "bdbe9397",
   "metadata": {},
   "outputs": [],
   "source": [
    "## second method"
   ]
  },
  {
   "cell_type": "code",
   "execution_count": 12,
   "id": "98feda65",
   "metadata": {},
   "outputs": [],
   "source": [
    "with open(\"Dhruv.txt\",\"r\") as f :\n",
    "    text = f.read()"
   ]
  },
  {
   "cell_type": "code",
   "execution_count": 13,
   "id": "0f85e859",
   "metadata": {},
   "outputs": [],
   "source": [
    "## here we don't have close the file it is automaticaly close"
   ]
  },
  {
   "cell_type": "code",
   "execution_count": 14,
   "id": "53e0fbd5",
   "metadata": {},
   "outputs": [
    {
     "data": {
      "text/plain": [
       "\"this is my file--------- ---------------------------------------------------------------\\n\\n'r'       open for reading (default)\\n\\n'w'       open for writing, truncating the file first\\n\\n'x'       create a new file and open it for writing\\n\\n'a'       open for writing, appending to the end of the file if it exists\\n\\n'b'       binary mode\\n\\n't'       text mode (default)\\n\\n'+'       open a disk file for updating (reading and writing)\\n\\n'U'       universal newline mode (deprecated)\\n\""
      ]
     },
     "execution_count": 14,
     "metadata": {},
     "output_type": "execute_result"
    }
   ],
   "source": [
    "text"
   ]
  },
  {
   "cell_type": "code",
   "execution_count": 15,
   "id": "da9e55cc",
   "metadata": {},
   "outputs": [
    {
     "name": "stdout",
     "output_type": "stream",
     "text": [
      "this is my file--------- ---------------------------------------------------------------\n",
      "\n",
      "'r'       open for reading (default)\n",
      "\n",
      "'w'       open for writing, truncating the file first\n",
      "\n",
      "'x'       create a new file and open it for writing\n",
      "\n",
      "'a'       open for writing, appending to the end of the file if it exists\n",
      "\n",
      "'b'       binary mode\n",
      "\n",
      "'t'       text mode (default)\n",
      "\n",
      "'+'       open a disk file for updating (reading and writing)\n",
      "\n",
      "'U'       universal newline mode (deprecated)\n",
      "\n"
     ]
    }
   ],
   "source": [
    "print(text)"
   ]
  },
  {
   "cell_type": "code",
   "execution_count": 17,
   "id": "94ae2868",
   "metadata": {},
   "outputs": [
    {
     "name": "stdout",
     "output_type": "stream",
     "text": [
      "This is before the writing\n"
     ]
    },
    {
     "ename": "UnsupportedOperation",
     "evalue": "not readable",
     "output_type": "error",
     "traceback": [
      "\u001b[1;31m---------------------------------------------------------------------------\u001b[0m",
      "\u001b[1;31mUnsupportedOperation\u001b[0m                      Traceback (most recent call last)",
      "Cell \u001b[1;32mIn[17], line 3\u001b[0m\n\u001b[0;32m      1\u001b[0m \u001b[38;5;28;01mwith\u001b[39;00m \u001b[38;5;28mopen\u001b[39m(\u001b[38;5;124m\"\u001b[39m\u001b[38;5;124mDhruv_text.txt\u001b[39m\u001b[38;5;124m\"\u001b[39m,\u001b[38;5;124m\"\u001b[39m\u001b[38;5;124ma\u001b[39m\u001b[38;5;124m\"\u001b[39m) \u001b[38;5;28;01mas\u001b[39;00m f:\n\u001b[0;32m      2\u001b[0m     \u001b[38;5;28mprint\u001b[39m(\u001b[38;5;124m\"\u001b[39m\u001b[38;5;124mThis is before the writing\u001b[39m\u001b[38;5;124m\"\u001b[39m)\n\u001b[1;32m----> 3\u001b[0m     t \u001b[38;5;241m=\u001b[39m \u001b[43mf\u001b[49m\u001b[38;5;241;43m.\u001b[39;49m\u001b[43mread\u001b[49m\u001b[43m(\u001b[49m\u001b[43m)\u001b[49m\n\u001b[0;32m      4\u001b[0m     \u001b[38;5;28mprint\u001b[39m(t)\n",
      "\u001b[1;31mUnsupportedOperation\u001b[0m: not readable"
     ]
    }
   ],
   "source": [
    "with open(\"Dhruv_text.txt\",\"a\") as f:\n",
    "    print(\"This is before the writing\")\n",
    "    t = f.read()\n",
    "    print(t)"
   ]
  },
  {
   "cell_type": "code",
   "execution_count": 18,
   "id": "bcf85051",
   "metadata": {
    "scrolled": true
   },
   "outputs": [
    {
     "name": "stdout",
     "output_type": "stream",
     "text": [
      "This is before the writing\n",
      "\n"
     ]
    }
   ],
   "source": [
    "with open(\"Dhruv_text.txt\",\"a+\") as f:\n",
    "    print(\"This is before the writing\")\n",
    "    t = f.read()\n",
    "    print(t)"
   ]
  },
  {
   "cell_type": "code",
   "execution_count": 19,
   "id": "d2bf8f32",
   "metadata": {},
   "outputs": [],
   "source": [
    "## we have to use +\n"
   ]
  },
  {
   "cell_type": "code",
   "execution_count": 20,
   "id": "c9503ceb",
   "metadata": {},
   "outputs": [
    {
     "name": "stdout",
     "output_type": "stream",
     "text": [
      "Hello This is dhruv panchal\n"
     ]
    }
   ],
   "source": [
    "with open(\"Dhruv_text.txt\",\"r\") as f :\n",
    "    print(f.read())"
   ]
  },
  {
   "cell_type": "code",
   "execution_count": 26,
   "id": "64f57f0c",
   "metadata": {},
   "outputs": [],
   "source": [
    "with open(\"Dhruv_text.txt\",\"a\") as f :\n",
    "    f.write(\" \\nThis is written by Dhruv Panchal\")"
   ]
  },
  {
   "cell_type": "code",
   "execution_count": 27,
   "id": "3579da0d",
   "metadata": {},
   "outputs": [
    {
     "name": "stdout",
     "output_type": "stream",
     "text": [
      "Hello This is dhruv panchal \\This is written by Dhruv Panchal n\\This is written by Dhruv Panchal \n",
      "This is written by Dhruv Panchal\n"
     ]
    }
   ],
   "source": [
    "with open(\"Dhruv_text.txt\",\"r\") as f:\n",
    "    print(f.read())"
   ]
  },
  {
   "cell_type": "code",
   "execution_count": 28,
   "id": "607a1190",
   "metadata": {},
   "outputs": [
    {
     "name": "stdout",
     "output_type": "stream",
     "text": [
      "Hello This is dhruv panchal \\This is written by Dhruv Panchal n\\This is written by Dhruv Panchal \n",
      "\n"
     ]
    }
   ],
   "source": [
    "with open(\"Dhruv_text.txt\",\"r\") as f :\n",
    "    print(f.readline())"
   ]
  },
  {
   "cell_type": "code",
   "execution_count": 30,
   "id": "4107c199",
   "metadata": {},
   "outputs": [
    {
     "name": "stdout",
     "output_type": "stream",
     "text": [
      "Hello This is dhruv panchal \\This is written by Dhruv Panchal n\\This is written by Dhruv Panchal \n",
      "\n",
      "This is written by Dhruv Panchal\n"
     ]
    }
   ],
   "source": [
    "with open(\"Dhruv_text.txt\",\"r\") as f :\n",
    "    print(f.readline())\n",
    "    print(f.readline())"
   ]
  },
  {
   "cell_type": "code",
   "execution_count": 33,
   "id": "f4cac022",
   "metadata": {},
   "outputs": [
    {
     "name": "stdout",
     "output_type": "stream",
     "text": [
      "['Hello This is dhruv panchal \\\\This is written by Dhruv Panchal n\\\\This is written by Dhruv Panchal \\n', 'This is written by Dhruv Panchal']\n"
     ]
    }
   ],
   "source": [
    "with open(\"Dhruv_text.txt\",\"r\") as f :\n",
    "    print(f.readlines())\n",
    "    text = f.readlines()\n",
    "    "
   ]
  },
  {
   "cell_type": "code",
   "execution_count": 34,
   "id": "f01cfa5e",
   "metadata": {},
   "outputs": [
    {
     "data": {
      "text/plain": [
       "[]"
      ]
     },
     "execution_count": 34,
     "metadata": {},
     "output_type": "execute_result"
    }
   ],
   "source": [
    "text"
   ]
  },
  {
   "cell_type": "code",
   "execution_count": 35,
   "id": "2d3d1c17",
   "metadata": {},
   "outputs": [
    {
     "name": "stdout",
     "output_type": "stream",
     "text": [
      "[]\n"
     ]
    }
   ],
   "source": [
    "with open(\"Dhruv_text.txt\",\"r\") as f :\n",
    "    text = f.readlines()\n",
    "    \n",
    "    print(f.readlines())\n",
    "    "
   ]
  },
  {
   "cell_type": "code",
   "execution_count": 36,
   "id": "f0e2a97d",
   "metadata": {},
   "outputs": [
    {
     "data": {
      "text/plain": [
       "['Hello This is dhruv panchal \\\\This is written by Dhruv Panchal n\\\\This is written by Dhruv Panchal \\n',\n",
       " 'This is written by Dhruv Panchal']"
      ]
     },
     "execution_count": 36,
     "metadata": {},
     "output_type": "execute_result"
    }
   ],
   "source": [
    "text"
   ]
  },
  {
   "cell_type": "code",
   "execution_count": 37,
   "id": "bbbb2daa",
   "metadata": {},
   "outputs": [
    {
     "data": {
      "text/plain": [
       "'Hello This is dhruv panchal \\\\This is written by Dhruv Panchal n\\\\This is written by Dhruv Panchal \\n'"
      ]
     },
     "execution_count": 37,
     "metadata": {},
     "output_type": "execute_result"
    }
   ],
   "source": [
    "text[0]"
   ]
  },
  {
   "cell_type": "code",
   "execution_count": 38,
   "id": "568f913d",
   "metadata": {},
   "outputs": [
    {
     "data": {
      "text/plain": [
       "'This is written by Dhruv Panchal'"
      ]
     },
     "execution_count": 38,
     "metadata": {},
     "output_type": "execute_result"
    }
   ],
   "source": [
    "text[1]"
   ]
  },
  {
   "cell_type": "code",
   "execution_count": 39,
   "id": "0d05e77d",
   "metadata": {},
   "outputs": [
    {
     "name": "stdout",
     "output_type": "stream",
     "text": [
      "panchal \\This is written by Dhruv Panchal n\\This is written by Dhruv Panchal \n",
      "This is written by Dhruv Panchal\n"
     ]
    }
   ],
   "source": [
    "with open(\"Dhruv_text.txt\",\"r\") as f:\n",
    "    f.seek(20)\n",
    "    print(f.read())"
   ]
  },
  {
   "cell_type": "code",
   "execution_count": 40,
   "id": "1e80721a",
   "metadata": {},
   "outputs": [
    {
     "name": "stdout",
     "output_type": "stream",
     "text": [
      "panchal \\This is written by Dhruv Panchal n\\This is written by Dhruv Panchal \n",
      "\n"
     ]
    }
   ],
   "source": [
    "with open(\"Dhruv_text.txt\",\"r\") as f:\n",
    "    f.seek(20)\n",
    "    print(f.readline())"
   ]
  },
  {
   "cell_type": "code",
   "execution_count": 41,
   "id": "56115322",
   "metadata": {},
   "outputs": [],
   "source": [
    "import os"
   ]
  },
  {
   "cell_type": "code",
   "execution_count": 42,
   "id": "84be0b57",
   "metadata": {},
   "outputs": [
    {
     "data": {
      "text/plain": [
       "131"
      ]
     },
     "execution_count": 42,
     "metadata": {},
     "output_type": "execute_result"
    }
   ],
   "source": [
    "os.path.getsize(\"Dhruv_text.txt\")"
   ]
  },
  {
   "cell_type": "code",
   "execution_count": 45,
   "id": "c9849397",
   "metadata": {},
   "outputs": [
    {
     "ename": "TypeError",
     "evalue": "remove() missing required argument 'path' (pos 1)",
     "output_type": "error",
     "traceback": [
      "\u001b[1;31m---------------------------------------------------------------------------\u001b[0m",
      "\u001b[1;31mTypeError\u001b[0m                                 Traceback (most recent call last)",
      "Cell \u001b[1;32mIn[45], line 2\u001b[0m\n\u001b[0;32m      1\u001b[0m \u001b[38;5;66;03m## delete or remove \u001b[39;00m\n\u001b[1;32m----> 2\u001b[0m \u001b[43mos\u001b[49m\u001b[38;5;241;43m.\u001b[39;49m\u001b[43mremove\u001b[49m\u001b[43m(\u001b[49m\u001b[43m)\u001b[49m\n",
      "\u001b[1;31mTypeError\u001b[0m: remove() missing required argument 'path' (pos 1)"
     ]
    }
   ],
   "source": [
    "## delete or remove \n",
    "os.remove()"
   ]
  },
  {
   "cell_type": "code",
   "execution_count": 46,
   "id": "cec18831",
   "metadata": {},
   "outputs": [],
   "source": [
    "# for rename\n",
    "os.rename(\"Dhruv_text.txt\",\"Dhruv_.txt\")"
   ]
  },
  {
   "cell_type": "code",
   "execution_count": 47,
   "id": "efaa744b",
   "metadata": {},
   "outputs": [
    {
     "ename": "FileNotFoundError",
     "evalue": "[Errno 2] No such file or directory: 'Dhruv_text.txt'",
     "output_type": "error",
     "traceback": [
      "\u001b[1;31m---------------------------------------------------------------------------\u001b[0m",
      "\u001b[1;31mFileNotFoundError\u001b[0m                         Traceback (most recent call last)",
      "Cell \u001b[1;32mIn[47], line 1\u001b[0m\n\u001b[1;32m----> 1\u001b[0m \u001b[38;5;28;01mwith\u001b[39;00m \u001b[38;5;28;43mopen\u001b[39;49m\u001b[43m(\u001b[49m\u001b[38;5;124;43m\"\u001b[39;49m\u001b[38;5;124;43mDhruv_text.txt\u001b[39;49m\u001b[38;5;124;43m\"\u001b[39;49m\u001b[43m,\u001b[49m\u001b[38;5;124;43m\"\u001b[39;49m\u001b[38;5;124;43mr\u001b[39;49m\u001b[38;5;124;43m\"\u001b[39;49m\u001b[43m)\u001b[49m \u001b[38;5;28;01mas\u001b[39;00m f:\n\u001b[0;32m      2\u001b[0m     \u001b[38;5;28mprint\u001b[39m(f\u001b[38;5;241m.\u001b[39mread())\n",
      "File \u001b[1;32m~\\AppData\\Local\\Programs\\Python\\Python39\\lib\\site-packages\\IPython\\core\\interactiveshell.py:282\u001b[0m, in \u001b[0;36m_modified_open\u001b[1;34m(file, *args, **kwargs)\u001b[0m\n\u001b[0;32m    275\u001b[0m \u001b[38;5;28;01mif\u001b[39;00m file \u001b[38;5;129;01min\u001b[39;00m {\u001b[38;5;241m0\u001b[39m, \u001b[38;5;241m1\u001b[39m, \u001b[38;5;241m2\u001b[39m}:\n\u001b[0;32m    276\u001b[0m     \u001b[38;5;28;01mraise\u001b[39;00m \u001b[38;5;167;01mValueError\u001b[39;00m(\n\u001b[0;32m    277\u001b[0m         \u001b[38;5;124mf\u001b[39m\u001b[38;5;124m\"\u001b[39m\u001b[38;5;124mIPython won\u001b[39m\u001b[38;5;124m'\u001b[39m\u001b[38;5;124mt let you open fd=\u001b[39m\u001b[38;5;132;01m{\u001b[39;00mfile\u001b[38;5;132;01m}\u001b[39;00m\u001b[38;5;124m by default \u001b[39m\u001b[38;5;124m\"\u001b[39m\n\u001b[0;32m    278\u001b[0m         \u001b[38;5;124m\"\u001b[39m\u001b[38;5;124mas it is likely to crash IPython. If you know what you are doing, \u001b[39m\u001b[38;5;124m\"\u001b[39m\n\u001b[0;32m    279\u001b[0m         \u001b[38;5;124m\"\u001b[39m\u001b[38;5;124myou can use builtins\u001b[39m\u001b[38;5;124m'\u001b[39m\u001b[38;5;124m open.\u001b[39m\u001b[38;5;124m\"\u001b[39m\n\u001b[0;32m    280\u001b[0m     )\n\u001b[1;32m--> 282\u001b[0m \u001b[38;5;28;01mreturn\u001b[39;00m io_open(file, \u001b[38;5;241m*\u001b[39margs, \u001b[38;5;241m*\u001b[39m\u001b[38;5;241m*\u001b[39mkwargs)\n",
      "\u001b[1;31mFileNotFoundError\u001b[0m: [Errno 2] No such file or directory: 'Dhruv_text.txt'"
     ]
    }
   ],
   "source": [
    "with open(\"Dhruv_text.txt\",\"r\") as f:\n",
    "    print(f.read())"
   ]
  },
  {
   "cell_type": "code",
   "execution_count": 48,
   "id": "a96c0d3a",
   "metadata": {},
   "outputs": [
    {
     "name": "stdout",
     "output_type": "stream",
     "text": [
      "Hello This is dhruv panchal \\This is written by Dhruv Panchal n\\This is written by Dhruv Panchal \n",
      "This is written by Dhruv Panchal\n"
     ]
    }
   ],
   "source": [
    "with open(\"Dhruv_.txt\",\"r\") as f:\n",
    "    print(f.read())"
   ]
  },
  {
   "cell_type": "code",
   "execution_count": 49,
   "id": "f335616c",
   "metadata": {},
   "outputs": [],
   "source": [
    "## for copy"
   ]
  },
  {
   "cell_type": "code",
   "execution_count": 50,
   "id": "701bdcae",
   "metadata": {},
   "outputs": [],
   "source": [
    "import shutil"
   ]
  },
  {
   "cell_type": "code",
   "execution_count": 51,
   "id": "f9c5739b",
   "metadata": {},
   "outputs": [
    {
     "data": {
      "text/plain": [
       "'Dhruv_Panchal.txt'"
      ]
     },
     "execution_count": 51,
     "metadata": {},
     "output_type": "execute_result"
    }
   ],
   "source": [
    "shutil.copy(\"Dhruv_.txt\",\"Dhruv_Panchal.txt\")"
   ]
  },
  {
   "cell_type": "code",
   "execution_count": 53,
   "id": "62eed13e",
   "metadata": {},
   "outputs": [
    {
     "name": "stdout",
     "output_type": "stream",
     "text": [
      "Hello This is dhruv panchal \\This is written by Dhruv Panchal n\\This is written by Dhruv Panchal \n",
      "This is written by Dhruv Panchal\n"
     ]
    }
   ],
   "source": [
    "with open(\"Dhruv_.txt\",\"r\") as f:\n",
    "    print(f.read())"
   ]
  },
  {
   "cell_type": "code",
   "execution_count": 54,
   "id": "68146f35",
   "metadata": {},
   "outputs": [
    {
     "name": "stdout",
     "output_type": "stream",
     "text": [
      "Hello This is dhruv panchal \\This is written by Dhruv Panchal n\\This is written by Dhruv Panchal \n",
      "This is written by Dhruv Panchal\n"
     ]
    }
   ],
   "source": [
    "with open(\"Dhruv_Panchal.txt\",\"r\") as f:\n",
    "    print(f.read())"
   ]
  },
  {
   "cell_type": "code",
   "execution_count": null,
   "id": "772c499b",
   "metadata": {},
   "outputs": [],
   "source": []
  },
  {
   "cell_type": "code",
   "execution_count": null,
   "id": "1310dae7",
   "metadata": {},
   "outputs": [],
   "source": []
  },
  {
   "cell_type": "code",
   "execution_count": null,
   "id": "841bc5a9",
   "metadata": {},
   "outputs": [],
   "source": []
  },
  {
   "cell_type": "code",
   "execution_count": null,
   "id": "feb6897e",
   "metadata": {},
   "outputs": [],
   "source": []
  },
  {
   "cell_type": "markdown",
   "id": "f517be23",
   "metadata": {},
   "source": [
    "## For json data "
   ]
  },
  {
   "cell_type": "code",
   "execution_count": 55,
   "id": "b84d6701",
   "metadata": {},
   "outputs": [],
   "source": [
    "data = {\n",
    "    \"Name\" : \"Dhruv Panchal\",\n",
    "    \"Ph Number\" : 7418520960,\n",
    "    \"City\" : \"Ahm\",\n",
    "    \"State\" : \"Guj\",\n",
    "    \"Country\" : \"IN\"\n",
    "}"
   ]
  },
  {
   "cell_type": "code",
   "execution_count": 56,
   "id": "d0a2cf2c",
   "metadata": {},
   "outputs": [
    {
     "data": {
      "text/plain": [
       "{'Name': 'Dhruv Panchal',\n",
       " 'Ph Number': 7418520960,\n",
       " 'City': 'Ahm',\n",
       " 'State': 'Guj',\n",
       " 'Country': 'IN'}"
      ]
     },
     "execution_count": 56,
     "metadata": {},
     "output_type": "execute_result"
    }
   ],
   "source": [
    "data "
   ]
  },
  {
   "cell_type": "code",
   "execution_count": 58,
   "id": "2ecd2d92",
   "metadata": {},
   "outputs": [],
   "source": [
    "import json"
   ]
  },
  {
   "cell_type": "code",
   "execution_count": 59,
   "id": "cce3d999",
   "metadata": {},
   "outputs": [],
   "source": [
    "with open(\"Dhruv.json\",\"w\") as f :\n",
    "    json.dump(data,f)"
   ]
  },
  {
   "cell_type": "code",
   "execution_count": 61,
   "id": "68b2f892",
   "metadata": {},
   "outputs": [],
   "source": [
    "with open(\"Dhruv.json\",\"r\") as f:\n",
    "    data2 = f.read()"
   ]
  },
  {
   "cell_type": "code",
   "execution_count": 64,
   "id": "011929f3",
   "metadata": {},
   "outputs": [],
   "source": [
    "with open(\"Dhruv.json\",\"r\") as f:\n",
    "    data2 = json.load(f)"
   ]
  },
  {
   "cell_type": "code",
   "execution_count": 65,
   "id": "cafcf179",
   "metadata": {},
   "outputs": [
    {
     "data": {
      "text/plain": [
       "{'Name': 'Dhruv Panchal',\n",
       " 'Ph Number': 7418520960,\n",
       " 'City': 'Ahm',\n",
       " 'State': 'Guj',\n",
       " 'Country': 'IN'}"
      ]
     },
     "execution_count": 65,
     "metadata": {},
     "output_type": "execute_result"
    }
   ],
   "source": [
    "data2"
   ]
  },
  {
   "cell_type": "code",
   "execution_count": 66,
   "id": "7f2be7a5",
   "metadata": {},
   "outputs": [
    {
     "data": {
      "text/plain": [
       "'Dhruv Panchal'"
      ]
     },
     "execution_count": 66,
     "metadata": {},
     "output_type": "execute_result"
    }
   ],
   "source": [
    "data2[\"Name\"]"
   ]
  },
  {
   "cell_type": "code",
   "execution_count": 67,
   "id": "f7a81a98",
   "metadata": {},
   "outputs": [
    {
     "data": {
      "text/plain": [
       "7418520960"
      ]
     },
     "execution_count": 67,
     "metadata": {},
     "output_type": "execute_result"
    }
   ],
   "source": [
    "data2[\"Ph Number\"]"
   ]
  },
  {
   "cell_type": "code",
   "execution_count": 68,
   "id": "df84a5ad",
   "metadata": {},
   "outputs": [
    {
     "data": {
      "text/plain": [
       "'Ahm'"
      ]
     },
     "execution_count": 68,
     "metadata": {},
     "output_type": "execute_result"
    }
   ],
   "source": [
    "data2[\"City\"]"
   ]
  },
  {
   "cell_type": "code",
   "execution_count": 69,
   "id": "251f4cbd",
   "metadata": {},
   "outputs": [
    {
     "data": {
      "text/plain": [
       "'Guj'"
      ]
     },
     "execution_count": 69,
     "metadata": {},
     "output_type": "execute_result"
    }
   ],
   "source": [
    "data2[\"State\"]"
   ]
  },
  {
   "cell_type": "code",
   "execution_count": 70,
   "id": "3937c27b",
   "metadata": {},
   "outputs": [
    {
     "data": {
      "text/plain": [
       "'IN'"
      ]
     },
     "execution_count": 70,
     "metadata": {},
     "output_type": "execute_result"
    }
   ],
   "source": [
    "data2[\"Country\"]"
   ]
  },
  {
   "cell_type": "code",
   "execution_count": 72,
   "id": "9941875f",
   "metadata": {},
   "outputs": [],
   "source": [
    "with open(\"Dhruv.json\",\"w\") as f:\n",
    "    json.dump({\"name\" : \"Dhruv Pancha\",\"number\" : 7410852960, \"state\" : \"Vdo\"},f)"
   ]
  },
  {
   "cell_type": "code",
   "execution_count": 74,
   "id": "534e4d8b",
   "metadata": {},
   "outputs": [],
   "source": [
    "with open(\"Dhruv.json\",\"r\") as f:\n",
    "    data3 = json.load(f)"
   ]
  },
  {
   "cell_type": "code",
   "execution_count": 75,
   "id": "9d57bff0",
   "metadata": {},
   "outputs": [
    {
     "data": {
      "text/plain": [
       "{'name': 'Dhruv Pancha', 'number': 7410852960, 'state': 'Vdo'}"
      ]
     },
     "execution_count": 75,
     "metadata": {},
     "output_type": "execute_result"
    }
   ],
   "source": [
    "data3"
   ]
  },
  {
   "cell_type": "code",
   "execution_count": 76,
   "id": "18fa53cf",
   "metadata": {},
   "outputs": [
    {
     "data": {
      "text/plain": [
       "'Dhruv Pancha'"
      ]
     },
     "execution_count": 76,
     "metadata": {},
     "output_type": "execute_result"
    }
   ],
   "source": [
    "data3[\"name\"]"
   ]
  },
  {
   "cell_type": "code",
   "execution_count": 80,
   "id": "0f147cad",
   "metadata": {},
   "outputs": [
    {
     "data": {
      "text/plain": [
       "'Vdo'"
      ]
     },
     "execution_count": 80,
     "metadata": {},
     "output_type": "execute_result"
    }
   ],
   "source": [
    "data3[\"state\"]"
   ]
  },
  {
   "cell_type": "code",
   "execution_count": 81,
   "id": "db9ee2fa",
   "metadata": {},
   "outputs": [],
   "source": [
    "data1 = [\n",
    "    [\"name\",\"rank\"],\n",
    "    [\"Dhruv\",1],\n",
    "    [\"pravin\",2],\n",
    "    [\"chintan\",3],\n",
    "    [\"ved\",4],\n",
    "    [\"het\",5],\n",
    "    [\"Panchal\",6],\n",
    "    [\"Dhruv2\",7],\n",
    "    [\"parth\",8],\n",
    "    [\"hiten\",9],\n",
    "    [\"aditya\",10]\n",
    "]"
   ]
  },
  {
   "cell_type": "code",
   "execution_count": 82,
   "id": "21ce2ca2",
   "metadata": {},
   "outputs": [
    {
     "data": {
      "text/plain": [
       "[['name', 'rank'],\n",
       " ['Dhruv', 1],\n",
       " ['pravin', 2],\n",
       " ['chintan', 3],\n",
       " ['ved', 4],\n",
       " ['het', 5],\n",
       " ['Panchal', 6],\n",
       " ['Dhruv2', 7],\n",
       " ['parth', 8],\n",
       " ['hiten', 9],\n",
       " ['aditya', 10]]"
      ]
     },
     "execution_count": 82,
     "metadata": {},
     "output_type": "execute_result"
    }
   ],
   "source": [
    "data1"
   ]
  },
  {
   "cell_type": "code",
   "execution_count": 83,
   "id": "8f349fe3",
   "metadata": {},
   "outputs": [],
   "source": [
    "import csv"
   ]
  },
  {
   "cell_type": "code",
   "execution_count": 84,
   "id": "55df3f1d",
   "metadata": {},
   "outputs": [],
   "source": [
    "with open(\"Dhruv.csv\",\"w\") as f:\n",
    "    w = csv.writer(f)\n",
    "    \n",
    "    for i in data1:\n",
    "        w.writerow(i)"
   ]
  },
  {
   "cell_type": "code",
   "execution_count": 85,
   "id": "b35d9a4a",
   "metadata": {},
   "outputs": [
    {
     "name": "stdout",
     "output_type": "stream",
     "text": [
      "['name', 'rank']\n",
      "[]\n",
      "['Dhruv', '1']\n",
      "[]\n",
      "['pravin', '2']\n",
      "[]\n",
      "['chintan', '3']\n",
      "[]\n",
      "['ved', '4']\n",
      "[]\n",
      "['het', '5']\n",
      "[]\n",
      "['Panchal', '6']\n",
      "[]\n",
      "['Dhruv2', '7']\n",
      "[]\n",
      "['parth', '8']\n",
      "[]\n",
      "['hiten', '9']\n",
      "[]\n",
      "['aditya', '10']\n",
      "[]\n"
     ]
    }
   ],
   "source": [
    "with open(\"Dhruv.csv\",\"r\") as f:\n",
    "    rd = csv.reader(f)\n",
    "    \n",
    "    for i in rd:\n",
    "        print(i)"
   ]
  },
  {
   "cell_type": "code",
   "execution_count": null,
   "id": "97abde66",
   "metadata": {},
   "outputs": [],
   "source": []
  }
 ],
 "metadata": {
  "kernelspec": {
   "display_name": "Python 3 (ipykernel)",
   "language": "python",
   "name": "python3"
  },
  "language_info": {
   "codemirror_mode": {
    "name": "ipython",
    "version": 3
   },
   "file_extension": ".py",
   "mimetype": "text/x-python",
   "name": "python",
   "nbconvert_exporter": "python",
   "pygments_lexer": "ipython3",
   "version": "3.9.7"
  }
 },
 "nbformat": 4,
 "nbformat_minor": 5
}
